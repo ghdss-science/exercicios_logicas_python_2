{
 "cells": [
  {
   "cell_type": "markdown",
   "id": "c449e499",
   "metadata": {},
   "source": [
    "### Exercícios de Matrizes"
   ]
  },
  {
   "cell_type": "markdown",
   "id": "1c8df85e",
   "metadata": {},
   "source": [
    "#### 01. Leia uma matriz 4 x 4, conte e escreva quantos valores maiores que 10 ela possui. "
   ]
  },
  {
   "cell_type": "code",
   "execution_count": 1,
   "id": "c0d1ca84",
   "metadata": {},
   "outputs": [
    {
     "name": "stdout",
     "output_type": "stream",
     "text": [
      "Informe o valor da posição: [0][0]: 7\n",
      "Informe o valor da posição: [0][1]: 9\n",
      "Informe o valor da posição: [0][2]: 4\n",
      "Informe o valor da posição: [0][3]: 5\n",
      "Informe o valor da posição: [1][0]: 6\n",
      "Informe o valor da posição: [1][1]: 5\n",
      "Informe o valor da posição: [1][2]: 8\n",
      "Informe o valor da posição: [1][3]: 1\n",
      "Informe o valor da posição: [2][0]: 7\n",
      "Informe o valor da posição: [2][1]: 8\n",
      "Informe o valor da posição: [2][2]: 6\n",
      "Informe o valor da posição: [2][3]: 8\n",
      "Informe o valor da posição: [3][0]: 2\n",
      "Informe o valor da posição: [3][1]: 45\n",
      "Informe o valor da posição: [3][2]: 123\n",
      "Informe o valor da posição: [3][3]: 64\n",
      "Valor maior que 10 encontrado: 45\n",
      "Valor maior que 10 encontrado: 123\n",
      "Valor maior que 10 encontrado: 64\n",
      "Quantidade de valores maiores que 10: 3\n"
     ]
    }
   ],
   "source": [
    "matriz = [] \n",
    "cont = 0 \n",
    "\n",
    "### Leitura da matriz 4 x 4 \n",
    "for i in range(4): \n",
    "    \n",
    "    linha = [] \n",
    "    \n",
    "    for j in range(4): \n",
    "        \n",
    "        valor = int(input(f\"Informe o valor da posição: [{i}][{j}]: \")) \n",
    "        linha.append(valor) \n",
    "        \n",
    "    matriz.append(linha) \n",
    "    \n",
    "### Contagem dos valores maiores que 10\n",
    "for i in range(4):\n",
    "    \n",
    "    for j in range(4): \n",
    "        \n",
    "        if matriz[i][j] > 10:\n",
    "            \n",
    "            cont += 1\n",
    "            print(f\"Valor maior que 10 encontrado: {matriz[i][j]}\")\n",
    "            \n",
    "# Exibição do resultado \n",
    "print(f\"Quantidade de valores maiores que 10: {cont}\")"
   ]
  },
  {
   "cell_type": "markdown",
   "id": "e9cba1a0",
   "metadata": {},
   "source": [
    "#### 2. Declare uma matriz 5 x 5. Preencha com 1 a diagonal principal e com 0 os demais elementos. Escreva ao final a matriz obtida."
   ]
  },
  {
   "cell_type": "code",
   "execution_count": 2,
   "id": "ac72474e",
   "metadata": {},
   "outputs": [
    {
     "name": "stdout",
     "output_type": "stream",
     "text": [
      "Matriz resultante: \n",
      "[1, 0, 0, 0, 0]\n",
      "[0, 1, 0, 0, 0]\n",
      "[0, 0, 1, 0, 0]\n",
      "[0, 0, 0, 1, 0]\n",
      "[0, 0, 0, 0, 1]\n"
     ]
    }
   ],
   "source": [
    "#### Inicialização da matriz 5 x 5 \n",
    "matriz = [] \n",
    "\n",
    "for i in range(5):\n",
    "    \n",
    "    linha = [] \n",
    "    \n",
    "    for j in range(5): \n",
    "        \n",
    "        if i == j: \n",
    "            \n",
    "            linha.append(1) # Diagonal Principal\n",
    "            \n",
    "        else: \n",
    "            \n",
    "            linha.append(0) # Demais elementos\n",
    "            \n",
    "    matriz.append(linha)\n",
    "    \n",
    "# Imprime a matriz\n",
    "print(\"Matriz resultante: \") \n",
    "for linha in matriz: \n",
    "    \n",
    "    print(linha)"
   ]
  },
  {
   "cell_type": "markdown",
   "id": "4cefdef9",
   "metadata": {},
   "source": [
    "#### 3. Faça um programa que preenche uma matriz 4 x 4 com o produto do valor da linha e da coluna de cada elemento. Em seguida, imprima na tela a matriz. "
   ]
  },
  {
   "cell_type": "code",
   "execution_count": 4,
   "id": "d04d1746",
   "metadata": {},
   "outputs": [
    {
     "name": "stdout",
     "output_type": "stream",
     "text": [
      "Matriz 4x4 com produto da linha e coluna: \n",
      "   0   0   0   0\n",
      "   0   1   2   3\n",
      "   0   2   4   6\n",
      "   0   3   6   9\n",
      "   0   0   0   0\n",
      "   0   1   2   3\n",
      "   0   2   4   6\n",
      "   0   3   6   9\n",
      "   0   0   0   0\n",
      "   0   1   2   3\n",
      "   0   2   4   6\n",
      "   0   3   6   9\n",
      "   0   0   0   0\n",
      "   0   1   2   3\n",
      "   0   2   4   6\n",
      "   0   3   6   9\n"
     ]
    }
   ],
   "source": [
    "def main(): \n",
    "    \n",
    "    matriz = [] \n",
    "    \n",
    "    # Preenchimento a matriz com o produto da linha pela coluna\n",
    "    for i in range(4):\n",
    "        \n",
    "        linha = []\n",
    "        for j in range(4): \n",
    "            \n",
    "            linha.append(i * j) \n",
    "            \n",
    "        matriz.append(linha) \n",
    "        \n",
    "    # Imprimindo a matriz em formato tabular\n",
    "    print(\"Matriz 4x4 com produto da linha e coluna: \") \n",
    "    for i in range(4):\n",
    "        \n",
    "        for i in range(4):\n",
    "            \n",
    "            for j in range(4): \n",
    "                \n",
    "                print(f\"{matriz[i][j]:4}\", end = \"\") \n",
    "                \n",
    "            print()\n",
    "            \n",
    "if __name__ == \"__main__\": \n",
    "    \n",
    "    main()"
   ]
  },
  {
   "cell_type": "markdown",
   "id": "a84fd370",
   "metadata": {},
   "source": [
    "#### 4. Leia uma matriz 4 x 4, imprima a matriz e retorne a localização (linha e coluna) do maior valor."
   ]
  },
  {
   "cell_type": "code",
   "execution_count": 7,
   "id": "10e4c3d5",
   "metadata": {},
   "outputs": [
    {
     "name": "stdout",
     "output_type": "stream",
     "text": [
      "Informe o valor da matriz [0][0]: 789\n",
      "Informe o valor da matriz [0][1]: 1\n",
      "Informe o valor da matriz [0][2]: 23\n",
      "Informe o valor da matriz [0][3]: 45\n",
      "Informe o valor da matriz [1][0]: 69\n",
      "Informe o valor da matriz [1][1]: 78\n",
      "Informe o valor da matriz [1][2]: 12\n",
      "Informe o valor da matriz [1][3]: 65\n",
      "Informe o valor da matriz [2][0]: 10\n",
      "Informe o valor da matriz [2][1]: 58\n",
      "Informe o valor da matriz [2][2]: 98\n",
      "Informe o valor da matriz [2][3]: 75\n",
      "Informe o valor da matriz [3][0]: 100\n",
      "Informe o valor da matriz [3][1]: 29\n",
      "Informe o valor da matriz [3][2]: 84\n",
      "Informe o valor da matriz [3][3]: 4\n",
      "\n",
      "Matriz digitada: \n",
      " 789   1  23  45\n",
      "  69  78  12  65\n",
      "  10  58  98  75\n",
      " 100  29  84   4\n",
      "\n",
      "Maior valor: 789 na posição [0][0]\n"
     ]
    }
   ],
   "source": [
    "def main(): \n",
    "    \n",
    "    matriz = [] \n",
    "    maior = float('-inf')\n",
    "    linha_maior = coluna_maior = 0 \n",
    "    \n",
    "    # Leitura da matriz\n",
    "    for i in range(4): \n",
    "        \n",
    "        linha = [] \n",
    "        \n",
    "        for j in range(4): \n",
    "            \n",
    "            valor = int(input(f\"Informe o valor da matriz [{i}][{j}]: \")) \n",
    "            linha.append(valor) \n",
    "            \n",
    "            if valor > maior: \n",
    "                \n",
    "                maior = valor\n",
    "                linha_maior = i \n",
    "                coluna_maior = j \n",
    "                \n",
    "        matriz.append(linha) \n",
    "        \n",
    "    # Impressão da matriz\n",
    "    print(\"\\nMatriz digitada: \")\n",
    "    for linha in matriz: \n",
    "        \n",
    "        for valor in linha: \n",
    "            \n",
    "            print(f\"{valor:4}\", end=\"\") \n",
    "            \n",
    "        print()\n",
    "        \n",
    "    print(f\"\\nMaior valor: {maior} na posição [{linha_maior}][{coluna_maior}]\")\n",
    "    \n",
    "if __name__==\"__main__\": \n",
    "    \n",
    "    main()"
   ]
  },
  {
   "cell_type": "markdown",
   "id": "4303d0ef",
   "metadata": {},
   "source": [
    "#### 5. Leia uma matriz 5 x 5. Leia também um valor X. O programa deverá fazer uma busca\n",
    "#### desse valor na matriz e, ao final, escrever a localização (linha e coluna) ou uma mensagem de \" não encontrado\""
   ]
  },
  {
   "cell_type": "code",
   "execution_count": 10,
   "id": "72eb0bfa",
   "metadata": {},
   "outputs": [
    {
     "name": "stdout",
     "output_type": "stream",
     "text": [
      "Informe o valor da posição [0][0]: 1\n",
      "Informe o valor da posição [0][1]: 2\n",
      "Informe o valor da posição [0][2]: 3\n",
      "Informe o valor da posição [0][3]: 4\n",
      "Informe o valor da posição [0][4]: 5\n",
      "Informe o valor da posição [1][0]: 6\n",
      "Informe o valor da posição [1][1]: 7\n",
      "Informe o valor da posição [1][2]: 8\n",
      "Informe o valor da posição [1][3]: 9\n",
      "Informe o valor da posição [1][4]: 1\n",
      "Informe o valor da posição [2][0]: 10\n",
      "Informe o valor da posição [2][1]: 12\n",
      "Informe o valor da posição [2][2]: 11\n",
      "Informe o valor da posição [2][3]: 13\n",
      "Informe o valor da posição [2][4]: 14\n",
      "Informe o valor da posição [3][0]: 15\n",
      "Informe o valor da posição [3][1]: 16\n",
      "Informe o valor da posição [3][2]: 17\n",
      "Informe o valor da posição [3][3]: 18\n",
      "Informe o valor da posição [3][4]: 19\n",
      "Informe o valor da posição [4][0]: 20\n",
      "Informe o valor da posição [4][1]: 21\n",
      "Informe o valor da posição [4][2]: 22\n",
      "Informe o valor da posição [4][3]: 23\n",
      "Informe o valor da posição [4][4]: 24\n",
      "Informe um número a ser procurado: 25\n",
      "Número não encontrado\n"
     ]
    }
   ],
   "source": [
    "matriz = [] \n",
    "\n",
    "# Leitura da matriz\n",
    "for i in range(5): \n",
    "    \n",
    "    linha = [] \n",
    "    \n",
    "    for j in range(5): \n",
    "        \n",
    "        valor = int(input(f\"Informe o valor da posição [{i}][{j}]: \")) \n",
    "        linha.append(valor) \n",
    "        \n",
    "    matriz.append(linha)\n",
    "    \n",
    "# Valor a ser buscado\n",
    "x = int(input(\"Informe um número a ser procurado: \")) \n",
    "\n",
    "encontrado = False\n",
    "\n",
    "for i in range(5): \n",
    "    \n",
    "    for j in range(5): \n",
    "        \n",
    "        if matriz[i][j] == x:\n",
    "            \n",
    "            print(f\"Número {x} encontrado na posição [{i}][{j}]\") \n",
    "            encontrado = True\n",
    "        \n",
    "if not encontrado: \n",
    "    \n",
    "    print(\"Número não encontrado\")"
   ]
  },
  {
   "cell_type": "markdown",
   "id": "c7cb9c67",
   "metadata": {},
   "source": [
    "#### 06. Leia duas matrizes 4 x 4 e escreva uma terceira com os maiores valores de cada posição das matrizes lidas."
   ]
  },
  {
   "cell_type": "code",
   "execution_count": 1,
   "id": "dfa8446d",
   "metadata": {},
   "outputs": [],
   "source": [
    "def ler_matriz(nome): \n",
    "    \n",
    "    matriz = [] \n",
    "    \n",
    "    for i in range(4): \n",
    "        \n",
    "        linha = [] \n",
    "        \n",
    "        for j in range(4): \n",
    "            \n",
    "            valor = int(input(f\"Informe o valor para {nome}[{i}][{j}]: \")) \n",
    "            linha.append(valor) \n",
    "            \n",
    "        matriz.append(linha) \n",
    "        \n",
    "    return matriz"
   ]
  },
  {
   "cell_type": "code",
   "execution_count": 2,
   "id": "f28ba7c4",
   "metadata": {},
   "outputs": [],
   "source": [
    "def imprimir_matriz(matriz):\n",
    "    \n",
    "    print(\"\\nMatriz com os maiores valores por posição: \")\n",
    "    \n",
    "    for linha in matriz: \n",
    "        \n",
    "        for valor in linha: \n",
    "            \n",
    "            print(f\"{valor:4}\", end = '')\n",
    "            \n",
    "        print()"
   ]
  },
  {
   "cell_type": "code",
   "execution_count": 3,
   "id": "e2133784",
   "metadata": {},
   "outputs": [
    {
     "name": "stdout",
     "output_type": "stream",
     "text": [
      "Informe o valor para mat1[0][0]: 15\n",
      "Informe o valor para mat1[0][1]: 20\n",
      "Informe o valor para mat1[0][2]: 32\n",
      "Informe o valor para mat1[0][3]: 45\n",
      "Informe o valor para mat1[1][0]: 98\n",
      "Informe o valor para mat1[1][1]: 20\n",
      "Informe o valor para mat1[1][2]: 78\n",
      "Informe o valor para mat1[1][3]: 56\n",
      "Informe o valor para mat1[2][0]: 20\n",
      "Informe o valor para mat1[2][1]: 36\n",
      "Informe o valor para mat1[2][2]: 98\n",
      "Informe o valor para mat1[2][3]: 78\n",
      "Informe o valor para mat1[3][0]: 10\n",
      "Informe o valor para mat1[3][1]: 5\n",
      "Informe o valor para mat1[3][2]: 10\n",
      "Informe o valor para mat1[3][3]: 23\n",
      "Informe o valor para mat2[0][0]: 65\n",
      "Informe o valor para mat2[0][1]: 452\n",
      "Informe o valor para mat2[0][2]: 45\n",
      "Informe o valor para mat2[0][3]: 741\n",
      "Informe o valor para mat2[1][0]: 320\n",
      "Informe o valor para mat2[1][1]: 78912\n",
      "Informe o valor para mat2[1][2]: 20\n",
      "Informe o valor para mat2[1][3]: 263\n",
      "Informe o valor para mat2[2][0]: 200\n",
      "Informe o valor para mat2[2][1]: 127\n",
      "Informe o valor para mat2[2][2]: 20\n",
      "Informe o valor para mat2[2][3]: 21\n",
      "Informe o valor para mat2[3][0]: 203\n",
      "Informe o valor para mat2[3][1]: 23\n",
      "Informe o valor para mat2[3][2]: 789\n",
      "Informe o valor para mat2[3][3]: 12\n",
      "\n",
      "Matriz com os maiores valores por posição: \n",
      "  65 452  45 741\n",
      " 32078912  78 263\n",
      " 200 127  98  78\n",
      " 203  23 789  23\n"
     ]
    }
   ],
   "source": [
    "def main(): \n",
    "    \n",
    "    mat1 = ler_matriz(\"mat1\")\n",
    "    mat2 = ler_matriz(\"mat2\") \n",
    "    mat3 = [] \n",
    "    \n",
    "    for i in range(4): \n",
    "        \n",
    "        linha = [] \n",
    "        \n",
    "        for j in range(4): \n",
    "            \n",
    "            maior = max(mat1[i][j], mat2[i][j]) \n",
    "            linha.append(maior) \n",
    "            \n",
    "        mat3.append(linha) \n",
    "        \n",
    "    imprimir_matriz(mat3)\n",
    "    \n",
    "if __name__ == \"__main__\": \n",
    "    \n",
    "    main()"
   ]
  },
  {
   "cell_type": "markdown",
   "id": "3fccd98c",
   "metadata": {},
   "source": [
    "#### 07. Gerar e imprimir uma matriz de tamanho 10 x 10, onde seus elementos são da forma: \n"
   ]
  },
  {
   "cell_type": "markdown",
   "id": "34b121e1",
   "metadata": {},
   "source": [
    "**** A[i][j] = 2i + 7j - 2 se i < j\n",
    "\n",
    "**** A[i][j] = 3i * 3i - 1 se i = j\n",
    "\n",
    "**** A[i][j] = 4i * 4i * 4i - 5j * 5j + 1 se i > j"
   ]
  },
  {
   "cell_type": "code",
   "execution_count": 12,
   "id": "9fe09e84",
   "metadata": {},
   "outputs": [
    {
     "name": "stdout",
     "output_type": "stream",
     "text": [
      "Matriz A: \n",
      "        -1         5        12        19        26        33        40        47        54        61\n",
      "         5         2        14        21        28        35        42        49        56        63\n",
      "        33        28        11        23        30        37        44        51        58        65\n",
      "       109       104        89        26        32        39        46        53        60        67\n",
      "       257       252       237       212        47        41        48        55        62        69\n",
      "       501       496       481       456       421        74        50        57        64        71\n",
      "       865       860       845       820       785       740       107        59        66        73\n",
      "      1373      1368      1353      1328      1293      1248      1193       146        68        75\n",
      "      2049      2044      2029      2004      1969      1924      1869      1804       191        77\n",
      "      2917      2912      2897      2872      2837      2792      2737      2672      2597       242\n"
     ]
    }
   ],
   "source": [
    "A = [[0 for _ in range(10)] for _ in range(10)] \n",
    "\n",
    "for i in range(10): \n",
    "    \n",
    "    for j in range(10): \n",
    "        \n",
    "        if i < j: \n",
    "            \n",
    "            A[i][j] = 2 * i + 7 * j - 2\n",
    "            \n",
    "        elif i == j: \n",
    "            \n",
    "            A[i][j] = 3 * i**2 - 1\n",
    "            \n",
    "        else: \n",
    "            \n",
    "            A[i][j] = 4 * i**3 - 5 * j**2 + 1\n",
    "            \n",
    "# Impressão da matriz: \n",
    "print(\"Matriz A: \") \n",
    "\n",
    "for linha in A: \n",
    "    \n",
    "    for valor in linha: \n",
    "        \n",
    "        print(f\"{valor:10}\", end = \"\") \n",
    "        \n",
    "    print() "
   ]
  },
  {
   "cell_type": "markdown",
   "id": "2628b1d6",
   "metadata": {},
   "source": [
    "#### 08. Leia uma matriz de 3 x 3 elementos. Calcule a soma dos elementos que estão acima da diagonal principal "
   ]
  },
  {
   "cell_type": "code",
   "execution_count": 13,
   "id": "3eb6ae9e",
   "metadata": {},
   "outputs": [
    {
     "name": "stdout",
     "output_type": "stream",
     "text": [
      "Informe o valor da posição [0][0]: 78\n",
      "Informe o valor da posição [0][1]: 5\n",
      "Informe o valor da posição [0][2]: 6\n",
      "Informe o valor da posição [1][0]: 3\n",
      "Informe o valor da posição [1][1]: 4\n",
      "Informe o valor da posição [1][2]: 8\n",
      "Informe o valor da posição [2][0]: 6\n",
      "Informe o valor da posição [2][1]: 98\n",
      "Informe o valor da posição [2][2]: 45\n",
      "Soma dos elementos acima da diagonal principal: 19\n"
     ]
    }
   ],
   "source": [
    "mat = [] \n",
    "\n",
    "# Leitura da matriz 3 x 3 \n",
    "for i in range(3): \n",
    "    \n",
    "    linha = [] \n",
    "    \n",
    "    for j in range(3): \n",
    "        \n",
    "        valor = int(input(f\"Informe o valor da posição [{i}][{j}]: \")) \n",
    "        linha.append(valor) \n",
    "        \n",
    "    mat.append(linha) \n",
    "    \n",
    "# soma dos elementos acima da diagonal principal \n",
    "soma = 0 \n",
    "\n",
    "for i in range(3): \n",
    "    \n",
    "    for j in range(i + 1, 3): \n",
    "        \n",
    "        soma += mat[i][j] \n",
    "        \n",
    "        \n",
    "print(f\"Soma dos elementos acima da diagonal principal: {soma}\") "
   ]
  },
  {
   "cell_type": "markdown",
   "id": "76d995da",
   "metadata": {},
   "source": [
    "#### 9. Leia uma matriz de 3 x 3 elementos. Calcule a soma dos elementos que estão abaixo da diagonal principal"
   ]
  },
  {
   "cell_type": "code",
   "execution_count": 15,
   "id": "c1602376",
   "metadata": {},
   "outputs": [
    {
     "name": "stdout",
     "output_type": "stream",
     "text": [
      "Informe o valor da posição [0][0]: 7\n",
      "Informe o valor da posição [0][1]: 8\n",
      "Informe o valor da posição [0][2]: 9\n",
      "Informe o valor da posição [1][0]: 4\n",
      "Informe o valor da posição [1][1]: 5\n",
      "Informe o valor da posição [1][2]: 6\n",
      "Informe o valor da posição [2][0]: 1\n",
      "Informe o valor da posição [2][1]: 2\n",
      "Informe o valor da posição [2][2]: 3\n",
      "Soma dos elementos abaixo da diagonal principal: 7\n"
     ]
    }
   ],
   "source": [
    "m = [] \n",
    "\n",
    "# Leitura da matriz 3 x 3\n",
    "for i in range(3):\n",
    "    \n",
    "    linha = [] \n",
    "    \n",
    "    for j in range(3): \n",
    "        \n",
    "        valor = int(input(f\"Informe o valor da posição [{i}][{j}]: \"))\n",
    "        linha.append(valor) \n",
    "        \n",
    "    m.append(linha)\n",
    "    \n",
    "# Soma dos elementos abaixo da diagonal principal \n",
    "soma = 0\n",
    "for i in range(3): \n",
    "    \n",
    "    for j in range(i): \n",
    "        \n",
    "        soma += m[i][j] \n",
    "        \n",
    "print(f\"Soma dos elementos abaixo da diagonal principal: {soma}\") \n",
    "\n"
   ]
  },
  {
   "cell_type": "markdown",
   "id": "0818a705",
   "metadata": {},
   "source": [
    "#### 10. Leia uma matriz de 3 x 3 elementos. Calcule a soma dos elementos que estão na diagonal principal"
   ]
  },
  {
   "cell_type": "code",
   "execution_count": 16,
   "id": "6f28edc8",
   "metadata": {},
   "outputs": [
    {
     "name": "stdout",
     "output_type": "stream",
     "text": [
      "Informe o valor da posição[0][0]: 1\n",
      "Informe o valor da posição[0][1]: 2\n",
      "Informe o valor da posição[0][2]: 3\n",
      "Informe o valor da posição[1][0]: 4\n",
      "Informe o valor da posição[1][1]: 5\n",
      "Informe o valor da posição[1][2]: 6\n",
      "Informe o valor da posição[2][0]: 7\n",
      "Informe o valor da posição[2][1]: 8\n",
      "Informe o valor da posição[2][2]: 9\n",
      "Soma dos elementos da diagonal principal: 15\n"
     ]
    }
   ],
   "source": [
    "m = [] \n",
    "\n",
    "# Leitura da matriz 3 x 3 \n",
    "for i in range(3): \n",
    "    \n",
    "    linha = []\n",
    "    \n",
    "    for j in range(3):\n",
    "        \n",
    "        valor = int(input(f\"Informe o valor da posição[{i}][{j}]: \")) \n",
    "        linha.append(valor) \n",
    "        \n",
    "    m.append(linha) \n",
    "    \n",
    "# Soma da diagonal principal:\n",
    "soma = sum(m[i][i] for i in range(3))\n",
    "print(f\"Soma dos elementos da diagonal principal: {soma}\")"
   ]
  }
 ],
 "metadata": {
  "kernelspec": {
   "display_name": "Python 3 (ipykernel)",
   "language": "python",
   "name": "python3"
  },
  "language_info": {
   "codemirror_mode": {
    "name": "ipython",
    "version": 3
   },
   "file_extension": ".py",
   "mimetype": "text/x-python",
   "name": "python",
   "nbconvert_exporter": "python",
   "pygments_lexer": "ipython3",
   "version": "3.9.13"
  }
 },
 "nbformat": 4,
 "nbformat_minor": 5
}

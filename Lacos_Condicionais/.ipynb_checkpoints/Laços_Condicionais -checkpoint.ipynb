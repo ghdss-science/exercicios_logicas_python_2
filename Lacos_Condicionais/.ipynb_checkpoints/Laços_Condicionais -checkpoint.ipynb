{
 "cells": [
  {
   "cell_type": "markdown",
   "id": "4f69ec97",
   "metadata": {},
   "source": [
    "### Exércicios de Python - Laços Condicionais "
   ]
  },
  {
   "cell_type": "markdown",
   "id": "2a77071d",
   "metadata": {},
   "source": [
    "### 1 - Faça um programa que receba dois números e mostre qual deles é o maior ?"
   ]
  },
  {
   "cell_type": "code",
   "execution_count": 9,
   "id": "f5c1fcb4",
   "metadata": {},
   "outputs": [
    {
     "name": "stdout",
     "output_type": "stream",
     "text": [
      "Informe o primeiro número: 3\n",
      "Informe o segundo número: 7\n",
      "7 é maior que 3\n"
     ]
    }
   ],
   "source": [
    "n1 = int(input(\"Informe o primeiro número: \")) \n",
    "n2 = int(input(\"Informe o segundo número: \")) \n",
    "\n",
    "if n1 > n2: \n",
    "    \n",
    "    print(f\"{n1} é maior que {n2}\") \n",
    "    \n",
    "else: \n",
    "    \n",
    "    print(f\"{n2} é maior que {n1}\")"
   ]
  },
  {
   "cell_type": "markdown",
   "id": "7bf88a33",
   "metadata": {},
   "source": [
    "### 2 - Leia um número fornecido pelo usuário. Se esse número for positivo, calcule a raiz quadrada do número . Se o número for negativo, mostre uma mensagem dizendo que o número é inválido."
   ]
  },
  {
   "cell_type": "code",
   "execution_count": 1,
   "id": "62b24eef",
   "metadata": {},
   "outputs": [
    {
     "name": "stdout",
     "output_type": "stream",
     "text": [
      "informe um número: 9\n",
      "A raiz quadrada é: 3.00\n"
     ]
    }
   ],
   "source": [
    "import math \n",
    "\n",
    "numero = float(input(\"informe um número: \")) \n",
    "\n",
    "if numero >= 0: \n",
    "    \n",
    "    raiz_quadrada = math.sqrt(numero) \n",
    "    print(f\"A raiz quadrada é: {raiz_quadrada:.2f}\")\n",
    "    \n",
    "else: \n",
    "    \n",
    "    print(\"Número inválido\")"
   ]
  },
  {
   "cell_type": "markdown",
   "id": "2b6a7937",
   "metadata": {},
   "source": [
    "### 3 - Leia um número real. Se positivo, imprima a raiz quadrada; senão, imprima o número ao quadrado."
   ]
  },
  {
   "cell_type": "code",
   "execution_count": 4,
   "id": "1f93785d",
   "metadata": {},
   "outputs": [
    {
     "name": "stdout",
     "output_type": "stream",
     "text": [
      "Informe um número (positivo ou negativo): 4\n",
      "Resultado: Raiz Quadrada:  2.00\n"
     ]
    }
   ],
   "source": [
    "import math\n",
    "\n",
    "numero = float(input(\"Informe um número (positivo ou negativo): \")) \n",
    "\n",
    "# Verifica se o número é positivo \n",
    "if numero > 0: \n",
    "    \n",
    "    raiz_quadrada = math.sqrt(numero) \n",
    "    print(f\"Resultado: Raiz Quadrada: {raiz_quadrada: .2f}\") \n",
    "    \n",
    "else: \n",
    "    \n",
    "    quadrado = numero ** 2 ## Eleva ao quadrado \n",
    "    print(f\"Resultado: Elevado ao Quadrado: {quadrado:.2f}\")\n",
    "    "
   ]
  },
  {
   "cell_type": "markdown",
   "id": "bce8c026",
   "metadata": {},
   "source": [
    "### 4 - Faça um programa que leia um número e, se for positivo, calcule e mostre:\n",
    "\n",
    "** O número ao quadrado\n",
    "\n",
    "\n",
    "** A raiz quadrada do número\n",
    "\n"
   ]
  },
  {
   "cell_type": "code",
   "execution_count": 5,
   "id": "06085ea1",
   "metadata": {},
   "outputs": [
    {
     "name": "stdout",
     "output_type": "stream",
     "text": [
      "Informe um número: 45\n",
      "Resultado: \n",
      "\n",
      "Elevado ao quadrado:  2025.000000\n",
      "\n",
      "Raiz Quadrada:  6.71\n"
     ]
    }
   ],
   "source": [
    "import math \n",
    "\n",
    "# Solicita um número ao usuário \n",
    "numero = float(input(\"Informe um número: \")) \n",
    "\n",
    "# Verifica se o número é positivo \n",
    "if numero > 0: \n",
    "    \n",
    "    quadrado = numero ** 2 ## Eleva ao quadrado \n",
    "    raiz_quadrada = math.sqrt(numero) \n",
    "    \n",
    "    print(\"Resultado: \\n\") \n",
    "    print(f\"Elevado ao quadrado: {quadrado: 2f}\\n\") \n",
    "    print(f\"Raiz Quadrada: {raiz_quadrada: .2f}\") \n",
    "    \n",
    "else:\n",
    "    \n",
    "    print(\"Número inválido\") "
   ]
  },
  {
   "cell_type": "markdown",
   "id": "340880a0",
   "metadata": {},
   "source": [
    "### 5 - Verifique se um número inteiro é par ou ímpar."
   ]
  },
  {
   "cell_type": "code",
   "execution_count": 6,
   "id": "6144710d",
   "metadata": {},
   "outputs": [
    {
     "name": "stdout",
     "output_type": "stream",
     "text": [
      "Informe um número: 90\n",
      "O 90 é par\n"
     ]
    }
   ],
   "source": [
    "# Solicita um número inteiro ao usuário \n",
    "numero = int(input(\"Informe um número: \")) \n",
    "\n",
    "# Verifica se o número é par ou impar \n",
    "if numero % 2 == 0: \n",
    "    \n",
    "    print(f\"O {numero} é par\") \n",
    "\n",
    "else: \n",
    "    \n",
    "    print(f\"O {numero} é impar\") "
   ]
  },
  {
   "cell_type": "markdown",
   "id": "7c9a47cc",
   "metadata": {},
   "source": [
    "### 6 - Escreva um programa que, dados dois números inteiros, mostre o maior e a diferença entre eles."
   ]
  },
  {
   "cell_type": "code",
   "execution_count": 9,
   "id": "ca3164bf",
   "metadata": {},
   "outputs": [
    {
     "name": "stdout",
     "output_type": "stream",
     "text": [
      "Informe o primeiro número: 12\n",
      "Informe o segundo número: 34\n",
      "O número 34 é maior que 12\n",
      "A diferença entre os números é: 22\n"
     ]
    }
   ],
   "source": [
    "n1 = int(input(\"Informe o primeiro número: \")) \n",
    "n2 = int(input(\"Informe o segundo número: \")) \n",
    "\n",
    "# Verifica qual é o maior número \n",
    "if n1 > n2: \n",
    "    \n",
    "    print(f\"O número {n1} é maior que {n2}\") \n",
    "    \n",
    "elif n1 < n2: \n",
    "    \n",
    "    print(f\"O número {n2} é maior que {n1}\") \n",
    "    \n",
    "else: \n",
    "    \n",
    "    print(f\"Os dois números são iguais: {n1}\") \n",
    "    \n",
    "# Calcula a diferença entre os números \n",
    "diferenca = abs(n1 - n2) \n",
    "print(f\"A diferença entre os números é: {diferenca}\") "
   ]
  },
  {
   "cell_type": "markdown",
   "id": "43955e6c",
   "metadata": {},
   "source": [
    "### 7 - Receba dois números e mostre o maior. Se forem iguais, imprima “Números iguais”."
   ]
  },
  {
   "cell_type": "code",
   "execution_count": 11,
   "id": "85684623",
   "metadata": {},
   "outputs": [
    {
     "name": "stdout",
     "output_type": "stream",
     "text": [
      "Informe o primeiro número: 123\n",
      "Informme o segundo número: 456\n",
      "O número 456 é maior que 123\n"
     ]
    }
   ],
   "source": [
    "n1 = int(input(\"Informe o primeiro número: \")) \n",
    "n2 = int(input(\"Informme o segundo número: \")) \n",
    "\n",
    "# Compara os números\n",
    "if n1 == n2: \n",
    "    \n",
    "    print(\"Números iguais\") \n",
    "    \n",
    "elif n1 > n2: \n",
    "    \n",
    "    print(f\"O número {n1} é maior que {n2}\") \n",
    "    \n",
    "else: \n",
    "    \n",
    "    print(f\"O número {n2} é maior que {n1}\") "
   ]
  },
  {
   "cell_type": "markdown",
   "id": "e0ff4f83",
   "metadata": {},
   "source": [
    "### 8 - Faça um programa que leia 2 notas de um aluno, verifique se as notas são válidas e exiba na tela a média destas notas. Uma nota válida deve ser, obrigatoriamente, um valor entre 0.0 e 10.0, onde caso a nota não possua um valor válido, este fato deve ser informado ao usuário e o programa termina."
   ]
  },
  {
   "cell_type": "code",
   "execution_count": 12,
   "id": "628417a1",
   "metadata": {},
   "outputs": [
    {
     "name": "stdout",
     "output_type": "stream",
     "text": [
      "Informe a primeira nota: 10.0\n",
      "Informe a segunda nota: 9.0\n",
      "Média do Aluno: 9.50\n"
     ]
    }
   ],
   "source": [
    "n1 = float(input(\"Informe a primeira nota: \"))\n",
    "n2 = float(input(\"Informe a segunda nota: \")) \n",
    "\n",
    "## Verificar se as notas são válidas (entre 0.0 e 10.0) \n",
    "if 0.0 <= n1 <= 10.0 and 0.0 <= n2 <= 10.0: \n",
    "    \n",
    "    media = (n1 + n2) / 2 \n",
    "    print(f\"Média do Aluno: {media:.2f}\") \n",
    "    \n",
    "else: \n",
    "    \n",
    "    print(\"Notas inváldas.\")"
   ]
  },
  {
   "cell_type": "markdown",
   "id": "4cbb5edf",
   "metadata": {},
   "source": [
    "### 9 - Leia o salário de um trabalhador e o valor de um empréstimo. Se a prestação for maior que 20% do salário imprima: Empréstimo não concedido, caso contrário imprima: Empréstimo concedido"
   ]
  },
  {
   "cell_type": "code",
   "execution_count": 14,
   "id": "46a8204f",
   "metadata": {},
   "outputs": [
    {
     "name": "stdout",
     "output_type": "stream",
     "text": [
      "Informe o salário da pessoa: 3000\n",
      "Informe a prestação: 500\n",
      "Empréstimo concedido. Prestação: 500.00, Limite: 600.00\n"
     ]
    }
   ],
   "source": [
    "salario = float(input(\"Informe o salário da pessoa: \")) \n",
    "prestacao = float(input(\"Informe a prestação: \")) \n",
    "\n",
    "# Validação de valores positivos \n",
    "if salario <= 0 or prestacao <= 0: \n",
    "    \n",
    "    print(\"Erro: Salário e prestação devem ser valores positivos.\") \n",
    "    \n",
    "else: \n",
    "    \n",
    "    limite = salario * 0.20 \n",
    "    \n",
    "    if prestacao > limite: \n",
    "        \n",
    "        print(f\"Empréstimo não concedido. Prestação: {prestacao:.2f}, Limite: {limite:.2f}\") \n",
    "        \n",
    "    else: \n",
    "        \n",
    "        print(f\"Empréstimo concedido. Prestação: {prestacao:.2f}, Limite: {limite:.2f}\")"
   ]
  },
  {
   "cell_type": "markdown",
   "id": "1a6940f0",
   "metadata": {},
   "source": [
    "### 10 - aça um programa que receba a altura e o sexo de uma pessoa e calcule e mostre seu peso ideal, utilizando as seguintes fórmulas (onde h corresponde á altura)\n",
    "\n"
   ]
  },
  {
   "cell_type": "code",
   "execution_count": 15,
   "id": "aaa61c83",
   "metadata": {},
   "outputs": [
    {
     "name": "stdout",
     "output_type": "stream",
     "text": [
      "Informe a alturada pessoa: (em metros): 1.80\n",
      "Informe o sexo da pessoa (Masculino / Feminino): Feminino\n",
      "O peso ideal para uma mulher com altura 1.80 m é: 67.08 kg\n"
     ]
    }
   ],
   "source": [
    "altura = float(input(\"Informe a alturada pessoa: (em metros): \")) \n",
    "sexo = input(\"Informe o sexo da pessoa (Masculino / Feminino): \").strip().lower()\n",
    "\n",
    "# Calcula o peso ideal de acordo com o sexo \n",
    "if sexo == \"masculino\": \n",
    "    \n",
    "    peso_ideal = (72.7 * altura) - 58 \n",
    "    \n",
    "    print(f\"O peso ideal para um homem com altura {altura:.2f} m é: {peso_ideal:.2f} kg\") \n",
    "    \n",
    "elif sexo == \"feminino\": \n",
    "    \n",
    "    peso_ideal = (62.1 * altura) - 44.7 \n",
    "    print(f\"O peso ideal para uma mulher com altura {altura:.2f} m é: {peso_ideal:.2f} kg\") \n",
    "    \n",
    "else: \n",
    "    \n",
    "    print(\"Sexo inválido: Digite 'Masculino' ou 'Feminino'.\")"
   ]
  },
  {
   "cell_type": "markdown",
   "id": "4b1c8ebd",
   "metadata": {},
   "source": [
    "### 11 - Escreva um programa que leia um número inteiro maior do que zero e devolva, na tela, a soma de todos os seus algarismos. Por exemplo, ao número 251 corresponderá o valor 8 (2 + 5 + 1). Se o número lido não for maior do que zero, o programa terminará com a mensagem “Número inválido”."
   ]
  },
  {
   "cell_type": "code",
   "execution_count": 5,
   "id": "8cf2e31f",
   "metadata": {},
   "outputs": [
    {
     "name": "stdout",
     "output_type": "stream",
     "text": [
      "Informe um número inteiro maior que zero: 89\n",
      "A soma dos algarismos é: 17\n"
     ]
    }
   ],
   "source": [
    "numero = int(input(\"Informe um número inteiro maior que zero: \")) \n",
    "\n",
    "if numero > 0: \n",
    "    \n",
    "    soma = 0\n",
    "    while numero > 0: \n",
    "        \n",
    "        resto = numero % 10 \n",
    "        soma += resto \n",
    "        numero //= 10 #divisão inteira \n",
    "        \n",
    "    print(f\"A soma dos algarismos é: {soma}\") \n",
    "    \n",
    "else: \n",
    "    \n",
    "    print(\"Número inválido\")"
   ]
  },
  {
   "cell_type": "markdown",
   "id": "a47ef278",
   "metadata": {},
   "source": [
    "### 12. Ler um número inteiro. Se o número lido for negativo, escreva a mensagem “Número inválido”. Se o número for positivo, calcular o logaritmo deste número."
   ]
  },
  {
   "cell_type": "code",
   "execution_count": 6,
   "id": "7e7de428",
   "metadata": {},
   "outputs": [
    {
     "name": "stdout",
     "output_type": "stream",
     "text": [
      "Informe um número: 23\n",
      "Logaritmo: 3.14\n"
     ]
    }
   ],
   "source": [
    "import math \n",
    "\n",
    "numero = float(input(\"Informe um número: \")) \n",
    "\n",
    "if numero < 0: \n",
    "    \n",
    "    print(\"Número inválido\") \n",
    "    \n",
    "else: \n",
    "    \n",
    "    logaritmo = math.log(numero) \n",
    "    print(f\"Logaritmo: {logaritmo:.2f}\")"
   ]
  },
  {
   "cell_type": "markdown",
   "id": "825cc56d",
   "metadata": {},
   "source": [
    "### 13. Faça um algoritmo que calcule a média ponderada das notas de 3 provas. A primeira e a segunda prova têm peso 1 e a terceira tem peso 2. Ao final, mostrar a média do aluno e indicar se o aluno foi aprovado ou reprovado. A nota para aprovação deve ser igual ou superior a 60 pontos."
   ]
  },
  {
   "cell_type": "code",
   "execution_count": 8,
   "id": "bf4c9ac9",
   "metadata": {},
   "outputs": [
    {
     "name": "stdout",
     "output_type": "stream",
     "text": [
      "Informe a primeira nota: 50\n",
      "Informe a segunda nota: 90\n",
      "Informe a terceira nota: 80\n",
      "Média Ponderada: 52.50\n",
      "Reprovado\n"
     ]
    }
   ],
   "source": [
    "# Lẽ as três notas do usuário \n",
    "nota1 = float(input(\"Informe a primeira nota: \")) \n",
    "nota2 = float(input(\"Informe a segunda nota: \")) \n",
    "nota3 = float(input(\"Informe a terceira nota: \")) \n",
    "\n",
    "# Calcula a média ponderada \n",
    "media = (nota1 * 1 + nota3 * 2) / 4 \n",
    "\n",
    "# Exibe o resultado e a situação do aluno \n",
    "print(f\"Média Ponderada: {media:.2f}\") \n",
    "\n",
    "if media >= 60: \n",
    "    \n",
    "    print(\"Aprovado\") \n",
    "    \n",
    "else: \n",
    "    \n",
    "    print(\"Reprovado\")"
   ]
  },
  {
   "cell_type": "markdown",
   "id": "3d7ab6b0",
   "metadata": {},
   "source": [
    "### 14 - A nota final de um estudante é calculada a partir de três notas atribuídas entre o intervalo de 0 até 10, respectivamente, a um trabalho de laboratório, a uma avaliação semestral e a um exame final. "
   ]
  },
  {
   "cell_type": "markdown",
   "id": "9530c8b3",
   "metadata": {},
   "source": [
    "*** A média das três notas mencionadas anteriormente obedece aos pesos: \n",
    "    \n",
    "    Trabalho de Laboratório: 2\n",
    "\n",
    "    Avaliação Semestral: 3\n",
    "\n",
    "    Exame Final: 5"
   ]
  },
  {
   "cell_type": "markdown",
   "id": "aa26c070",
   "metadata": {},
   "source": [
    "*** De acordo com o resultado, mostre na tela se:\n",
    "\n",
    "    o aluno está reprovado (média entre 0 e 2,9),\n",
    "\n",
    "    de recuperação (entre 3 e 4,9)\n",
    "\n",
    "    ou se foi aprovado.\n",
    "\n",
    "Faça todas as verificações necessárias."
   ]
  },
  {
   "cell_type": "code",
   "execution_count": 9,
   "id": "796bdba7",
   "metadata": {},
   "outputs": [
    {
     "name": "stdout",
     "output_type": "stream",
     "text": [
      "Informe a primeira nota: 9.8\n",
      "Informe a segunda nota: 7.6\n",
      "Informe a terceira nota: 10\n",
      "Aluno Aprovado, Média: 9.13\n"
     ]
    }
   ],
   "source": [
    "nota1 = float(input(\"Informe a primeira nota: \")) \n",
    "nota2 = float(input(\"Informe a segunda nota: \"))\n",
    "nota3 = float(input(\"Informe a terceira nota: \")) \n",
    "\n",
    "media = (nota1 + nota2 + nota3) / 3 \n",
    "\n",
    "if 0 <= media <= 2.9: \n",
    "    \n",
    "    print(f\"Aluno Reprovado, Média: {media: .2f}\") \n",
    "    \n",
    "elif 3 <= media <= 4.9: \n",
    "    \n",
    "    print(f\"Aluno em Recuperação, Média: {media: .2f}\") \n",
    "    \n",
    "elif 5 <= media <= 10: \n",
    "    \n",
    "    print(f\"Aluno Aprovado, Média: {media:.2f}\") \n",
    "    \n",
    "else: \n",
    "    \n",
    "    print(\"Notas inválidas! Verifique os vaores inseridos. \") "
   ]
  },
  {
   "cell_type": "markdown",
   "id": "af5942a8",
   "metadata": {},
   "source": [
    "### 15 - Usando switch, escreva um programa que leia um inteiro entre 1 e 7 e imprima o dia da semana correspondente a este número. Isto é, domingo se 1, segunda-feira se 2, e assim por diante."
   ]
  },
  {
   "cell_type": "code",
   "execution_count": null,
   "id": "dc73b4b5",
   "metadata": {},
   "outputs": [],
   "source": []
  }
 ],
 "metadata": {
  "kernelspec": {
   "display_name": "Python 3 (ipykernel)",
   "language": "python",
   "name": "python3"
  },
  "language_info": {
   "codemirror_mode": {
    "name": "ipython",
    "version": 3
   },
   "file_extension": ".py",
   "mimetype": "text/x-python",
   "name": "python",
   "nbconvert_exporter": "python",
   "pygments_lexer": "ipython3",
   "version": "3.9.13"
  }
 },
 "nbformat": 4,
 "nbformat_minor": 5
}

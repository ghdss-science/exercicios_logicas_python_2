{
 "cells": [
  {
   "cell_type": "markdown",
   "id": "4f69ec97",
   "metadata": {},
   "source": [
    "### Exércicios de Python - Laços Condicionais "
   ]
  },
  {
   "cell_type": "markdown",
   "id": "2a77071d",
   "metadata": {},
   "source": [
    "### 1 - Faça um programa que receba dois números e mostre qual deles é o maior ?"
   ]
  },
  {
   "cell_type": "code",
   "execution_count": 9,
   "id": "f5c1fcb4",
   "metadata": {},
   "outputs": [
    {
     "name": "stdout",
     "output_type": "stream",
     "text": [
      "Informe o primeiro número: 3\n",
      "Informe o segundo número: 7\n",
      "7 é maior que 3\n"
     ]
    }
   ],
   "source": [
    "n1 = int(input(\"Informe o primeiro número: \")) \n",
    "n2 = int(input(\"Informe o segundo número: \")) \n",
    "\n",
    "if n1 > n2: \n",
    "    \n",
    "    print(f\"{n1} é maior que {n2}\") \n",
    "    \n",
    "else: \n",
    "    \n",
    "    print(f\"{n2} é maior que {n1}\")"
   ]
  },
  {
   "cell_type": "markdown",
   "id": "7bf88a33",
   "metadata": {},
   "source": [
    "### 2 - Leia um número fornecido pelo usuário. Se esse número for positivo, calcule a raiz quadrada do número . Se o número for negativo, mostre uma mensagem dizendo que o número é inválido."
   ]
  },
  {
   "cell_type": "code",
   "execution_count": 1,
   "id": "62b24eef",
   "metadata": {},
   "outputs": [
    {
     "name": "stdout",
     "output_type": "stream",
     "text": [
      "informe um número: 9\n",
      "A raiz quadrada é: 3.00\n"
     ]
    }
   ],
   "source": [
    "import math \n",
    "\n",
    "numero = float(input(\"informe um número: \")) \n",
    "\n",
    "if numero >= 0: \n",
    "    \n",
    "    raiz_quadrada = math.sqrt(numero) \n",
    "    print(f\"A raiz quadrada é: {raiz_quadrada:.2f}\")\n",
    "    \n",
    "else: \n",
    "    \n",
    "    print(\"Número inválido\")"
   ]
  },
  {
   "cell_type": "markdown",
   "id": "2b6a7937",
   "metadata": {},
   "source": [
    "### 3 - Leia um número real. Se o número for positivo, imprima a raiz quadrada; Do contrário, imprima o número ao quadrado"
   ]
  },
  {
   "cell_type": "code",
   "execution_count": 4,
   "id": "1f93785d",
   "metadata": {},
   "outputs": [
    {
     "name": "stdout",
     "output_type": "stream",
     "text": [
      "Informe um número (positivo ou negativo): 4\n",
      "Resultado: Raiz Quadrada:  2.00\n"
     ]
    }
   ],
   "source": [
    "import math\n",
    "\n",
    "numero = float(input(\"Informe um número (positivo ou negativo): \")) \n",
    "\n",
    "# Verifica se o número é positivo \n",
    "if numero > 0: \n",
    "    \n",
    "    raiz_quadrada = math.sqrt(numero) \n",
    "    print(f\"Resultado: Raiz Quadrada: {raiz_quadrada: .2f}\") \n",
    "    \n",
    "else: \n",
    "    \n",
    "    quadrado = numero ** 2 ## Eleva ao quadrado \n",
    "    print(f\"Resultado: Elevado ao Quadrado: {quadrado:.2f}\")\n",
    "    "
   ]
  },
  {
   "cell_type": "markdown",
   "id": "bce8c026",
   "metadata": {},
   "source": [
    "### 4 - Faça um programa que leia um número e, se for positivo, calcule e mostre:\n",
    "\n",
    "** O número digitado ao quadrado\n",
    "\n",
    "\n",
    "** A raiz quadrada do número digitado\n",
    "\n"
   ]
  },
  {
   "cell_type": "code",
   "execution_count": 5,
   "id": "06085ea1",
   "metadata": {},
   "outputs": [
    {
     "name": "stdout",
     "output_type": "stream",
     "text": [
      "Informe um número: 45\n",
      "Resultado: \n",
      "\n",
      "Elevado ao quadrado:  2025.000000\n",
      "\n",
      "Raiz Quadrada:  6.71\n"
     ]
    }
   ],
   "source": [
    "import math \n",
    "\n",
    "# Solicita um número ao usuário \n",
    "numero = float(input(\"Informe um número: \")) \n",
    "\n",
    "# Verifica se o número é positivo \n",
    "if numero > 0: \n",
    "    \n",
    "    quadrado = numero ** 2 ## Eleva ao quadrado \n",
    "    raiz_quadrada = math.sqrt(numero) \n",
    "    \n",
    "    print(\"Resultado: \\n\") \n",
    "    print(f\"Elevado ao quadrado: {quadrado: 2f}\\n\") \n",
    "    print(f\"Raiz Quadrada: {raiz_quadrada: .2f}\") \n",
    "    \n",
    "else:\n",
    "    \n",
    "    print(\"Número inválido\") "
   ]
  },
  {
   "cell_type": "markdown",
   "id": "340880a0",
   "metadata": {},
   "source": [
    "### 5 - Faça um programa que receba um número inteiro e verifique se este número é par ou ímpar"
   ]
  },
  {
   "cell_type": "code",
   "execution_count": 6,
   "id": "6144710d",
   "metadata": {},
   "outputs": [
    {
     "name": "stdout",
     "output_type": "stream",
     "text": [
      "Informe um número: 90\n",
      "O 90 é par\n"
     ]
    }
   ],
   "source": [
    "# Solicita um número inteiro ao usuário \n",
    "numero = int(input(\"Informe um número: \")) \n",
    "\n",
    "# Verifica se o número é par ou impar \n",
    "if numero % 2 == 0: \n",
    "    \n",
    "    print(f\"O {numero} é par\") \n",
    "\n",
    "else: \n",
    "    \n",
    "    print(f\"O {numero} é impar\") "
   ]
  },
  {
   "cell_type": "markdown",
   "id": "7c9a47cc",
   "metadata": {},
   "source": [
    "### 6 - Escreva um programa que, dados dois números inteiros, mostre na tela o maior deles, assim como a diferença existente entre ambos. "
   ]
  },
  {
   "cell_type": "code",
   "execution_count": 9,
   "id": "ca3164bf",
   "metadata": {},
   "outputs": [
    {
     "name": "stdout",
     "output_type": "stream",
     "text": [
      "Informe o primeiro número: 12\n",
      "Informe o segundo número: 34\n",
      "O número 34 é maior que 12\n",
      "A diferença entre os números é: 22\n"
     ]
    }
   ],
   "source": [
    "n1 = int(input(\"Informe o primeiro número: \")) \n",
    "n2 = int(input(\"Informe o segundo número: \")) \n",
    "\n",
    "# Verifica qual é o maior número \n",
    "if n1 > n2: \n",
    "    \n",
    "    print(f\"O número {n1} é maior que {n2}\") \n",
    "    \n",
    "elif n1 < n2: \n",
    "    \n",
    "    print(f\"O número {n2} é maior que {n1}\") \n",
    "    \n",
    "else: \n",
    "    \n",
    "    print(f\"Os dois números são iguais: {n1}\") \n",
    "    \n",
    "# Calcula a diferença entre os números \n",
    "diferenca = abs(n1 - n2) \n",
    "print(f\"A diferença entre os números é: {diferenca}\") "
   ]
  },
  {
   "cell_type": "markdown",
   "id": "43955e6c",
   "metadata": {},
   "source": [
    "### 7 - Faça um programa que receba dois números e mostre o maior. Se por acaso, os dois números forem iguais. Imprima a mensagem: Números iguais."
   ]
  },
  {
   "cell_type": "code",
   "execution_count": 11,
   "id": "85684623",
   "metadata": {},
   "outputs": [
    {
     "name": "stdout",
     "output_type": "stream",
     "text": [
      "Informe o primeiro número: 123\n",
      "Informme o segundo número: 456\n",
      "O número 456 é maior que 123\n"
     ]
    }
   ],
   "source": [
    "n1 = int(input(\"Informe o primeiro número: \")) \n",
    "n2 = int(input(\"Informme o segundo número: \")) \n",
    "\n",
    "# Compara os números\n",
    "if n1 == n2: \n",
    "    \n",
    "    print(\"Números iguais\") \n",
    "    \n",
    "elif n1 > n2: \n",
    "    \n",
    "    print(f\"O número {n1} é maior que {n2}\") \n",
    "    \n",
    "else: \n",
    "    \n",
    "    print(f\"O número {n2} é maior que {n1}\") "
   ]
  },
  {
   "cell_type": "markdown",
   "id": "e0ff4f83",
   "metadata": {},
   "source": [
    "### 8 - Faça um programa que leia 2 notas de um aluno, verifique se as notas são válidas e exiba na tela a média destas notas. Uma nota válida deve ser, obrigatoriamente, um valor entre 0.0 e 10.0, onde caso a nota não possua um valor válido, este fato deve ser informado ao usuário e o programa termina."
   ]
  },
  {
   "cell_type": "code",
   "execution_count": 12,
   "id": "628417a1",
   "metadata": {},
   "outputs": [
    {
     "name": "stdout",
     "output_type": "stream",
     "text": [
      "Informe a primeira nota: 10.0\n",
      "Informe a segunda nota: 9.0\n",
      "Média do Aluno: 9.50\n"
     ]
    }
   ],
   "source": [
    "n1 = float(input(\"Informe a primeira nota: \"))\n",
    "n2 = float(input(\"Informe a segunda nota: \")) \n",
    "\n",
    "## Verificar se as notas são válidas (entre 0.0 e 10.0) \n",
    "if 0.0 <= n1 <= 10.0 and 0.0 <= n2 <= 10.0: \n",
    "    \n",
    "    media = (n1 + n2) / 2 \n",
    "    print(f\"Média do Aluno: {media:.2f}\") \n",
    "    \n",
    "else: \n",
    "    \n",
    "    print(\"Notas inváldas.\")"
   ]
  },
  {
   "cell_type": "markdown",
   "id": "4cbb5edf",
   "metadata": {},
   "source": [
    "### 9 - Leia o salário de um trabalhador e o valor de um empréstimo. Se a prestação for maior que 20% do salário imprima: Empréstimo não concedido, caso contrário imprima: Empréstimo concedido"
   ]
  },
  {
   "cell_type": "code",
   "execution_count": 14,
   "id": "46a8204f",
   "metadata": {},
   "outputs": [
    {
     "name": "stdout",
     "output_type": "stream",
     "text": [
      "Informe o salário da pessoa: 3000\n",
      "Informe a prestação: 500\n",
      "Empréstimo concedido. Prestação: 500.00, Limite: 600.00\n"
     ]
    }
   ],
   "source": [
    "salario = float(input(\"Informe o salário da pessoa: \")) \n",
    "prestacao = float(input(\"Informe a prestação: \")) \n",
    "\n",
    "# Validação de valores positivos \n",
    "if salario <= 0 or prestacao <= 0: \n",
    "    \n",
    "    print(\"Erro: Salário e prestação devem ser valores positivos.\") \n",
    "    \n",
    "else: \n",
    "    \n",
    "    limite = salario * 0.20 \n",
    "    \n",
    "    if prestacao > limite: \n",
    "        \n",
    "        print(f\"Empréstimo não concedido. Prestação: {prestacao:.2f}, Limite: {limite:.2f}\") \n",
    "        \n",
    "    else: \n",
    "        \n",
    "        print(f\"Empréstimo concedido. Prestação: {prestacao:.2f}, Limite: {limite:.2f}\")"
   ]
  },
  {
   "cell_type": "markdown",
   "id": "1a6940f0",
   "metadata": {},
   "source": [
    "### 10 - aça um programa que receba a altura e o sexo de uma pessoa e calcule e mostre seu peso ideal, utilizando as seguintes fórmulas (onde h corresponde á altura)\n",
    "\n"
   ]
  },
  {
   "cell_type": "code",
   "execution_count": 15,
   "id": "aaa61c83",
   "metadata": {},
   "outputs": [
    {
     "name": "stdout",
     "output_type": "stream",
     "text": [
      "Informe a alturada pessoa: (em metros): 1.80\n",
      "Informe o sexo da pessoa (Masculino / Feminino): Feminino\n",
      "O peso ideal para uma mulher com altura 1.80 m é: 67.08 kg\n"
     ]
    }
   ],
   "source": [
    "altura = float(input(\"Informe a alturada pessoa: (em metros): \")) \n",
    "sexo = input(\"Informe o sexo da pessoa (Masculino / Feminino): \").strip().lower()\n",
    "\n",
    "# Calcula o peso ideal de acordo com o sexo \n",
    "if sexo == \"masculino\": \n",
    "    \n",
    "    peso_ideal = (72.7 * altura) - 58 \n",
    "    \n",
    "    print(f\"O peso ideal para um homem com altura {altura:.2f} m é: {peso_ideal:.2f} kg\") \n",
    "    \n",
    "elif sexo == \"feminino\": \n",
    "    \n",
    "    peso_ideal = (62.1 * altura) - 44.7 \n",
    "    print(f\"O peso ideal para uma mulher com altura {altura:.2f} m é: {peso_ideal:.2f} kg\") \n",
    "    \n",
    "else: \n",
    "    \n",
    "    print(\"Sexo inválido: Digite 'Masculino' ou 'Feminino'.\")"
   ]
  },
  {
   "cell_type": "markdown",
   "id": "886d26fc",
   "metadata": {},
   "source": [
    "### 11 - Escreva um programa que leia um número inteiro maior do que zero e devolva, na tela, a soma de todos os seus algarismos. Por exemplo, ao número 251 corresponderá o valor 8 (2 + 5 + 1). Se o número lido não for maior do que zero, o programa terminará com a mensagem “Número inválido”."
   ]
  },
  {
   "cell_type": "code",
   "execution_count": 5,
   "id": "1b09fd3a",
   "metadata": {},
   "outputs": [
    {
     "name": "stdout",
     "output_type": "stream",
     "text": [
      "Informe um número inteiro maior que zero: 89\n",
      "A soma dos algarismos é: 17\n"
     ]
    }
   ],
   "source": [
    "numero = int(input(\"Informe um número inteiro maior que zero: \")) \n",
    "\n",
    "if numero > 0: \n",
    "    \n",
    "    soma = 0\n",
    "    while numero > 0: \n",
    "        \n",
    "        resto = numero % 10 \n",
    "        soma += resto \n",
    "        numero //= 10 #divisão inteira \n",
    "        \n",
    "    print(f\"A soma dos algarismos é: {soma}\") \n",
    "    \n",
    "else: \n",
    "    \n",
    "    print(\"Número inválido\")"
   ]
  },
  {
   "cell_type": "markdown",
   "id": "7701a626",
   "metadata": {},
   "source": [
    "### 12. Ler um número inteiro. Se o número lido for negativo, escreva a mensagem “Número inválido”. Se o número for positivo, calcular o logaritmo deste número."
   ]
  },
  {
   "cell_type": "code",
   "execution_count": 6,
   "id": "b91d447c",
   "metadata": {},
   "outputs": [
    {
     "name": "stdout",
     "output_type": "stream",
     "text": [
      "Informe um número: 23\n",
      "Logaritmo: 3.14\n"
     ]
    }
   ],
   "source": [
    "import math \n",
    "\n",
    "numero = float(input(\"Informe um número: \")) \n",
    "\n",
    "if numero < 0: \n",
    "    \n",
    "    print(\"Número inválido\") \n",
    "    \n",
    "else: \n",
    "    \n",
    "    logaritmo = math.log(numero) \n",
    "    print(f\"Logaritmo: {logaritmo:.2f}\")"
   ]
  },
  {
   "cell_type": "markdown",
   "id": "ab7e882b",
   "metadata": {},
   "source": [
    "### 13. Faça um algoritmo que calcule a média ponderada das notas de 3 provas. A primeira e a segunda prova têm peso 1 e a terceira tem peso 2. Ao final, mostrar a média do aluno e indicar se o aluno foi aprovado ou reprovado. A nota para aprovação deve ser igual ou superior a 60 pontos."
   ]
  },
  {
   "cell_type": "code",
   "execution_count": 1,
   "id": "b44d4f71",
   "metadata": {},
   "outputs": [
    {
     "name": "stdout",
     "output_type": "stream",
     "text": [
      "Informe a primeira nota: 90\n",
      "Informe a segunda nota: 87.54\n",
      "Informe a terceira nota: 78.67\n",
      "Média Ponderada: 61.84\n",
      "Aprovado\n"
     ]
    }
   ],
   "source": [
    "# Lẽ as três notas do usuário \n",
    "nota1 = float(input(\"Informe a primeira nota: \")) \n",
    "nota2 = float(input(\"Informe a segunda nota: \")) \n",
    "nota3 = float(input(\"Informe a terceira nota: \")) \n",
    "\n",
    "# Calcula a média ponderada \n",
    "media = (nota1 * 1 + nota3 * 2) / 4 \n",
    "\n",
    "# Exibe o resultado e a situação do aluno \n",
    "print(f\"Média Ponderada: {media:.2f}\") \n",
    "\n",
    "if media >= 60: \n",
    "    \n",
    "    print(\"Aprovado\") \n",
    "    \n",
    "else: \n",
    "    \n",
    "    print(\"Reprovado\")"
   ]
  },
  {
   "cell_type": "markdown",
   "id": "9ae1e4ae",
   "metadata": {},
   "source": [
    "### 14 - A nota final de um estudante é calculada a partir de três notas atribuídas entre o intervalo de 0 até 10, respectivamente, a um trabalho de laboratório, a uma avaliação semestral e a um exame final. "
   ]
  },
  {
   "cell_type": "markdown",
   "id": "93b29904",
   "metadata": {},
   "source": [
    "*** A média das três notas mencionadas anteriormente obedece aos pesos: \n",
    "    \n",
    "    Trabalho de Laboratório: 2\n",
    "\n",
    "    Avaliação Semestral: 3\n",
    "\n",
    "    Exame Final: 5"
   ]
  },
  {
   "cell_type": "markdown",
   "id": "60cc389b",
   "metadata": {},
   "source": [
    "*** De acordo com o resultado, mostre na tela se:\n",
    "\n",
    "    o aluno está reprovado (média entre 0 e 2,9),\n",
    "\n",
    "    de recuperação (entre 3 e 4,9)\n",
    "\n",
    "    ou se foi aprovado.\n",
    "\n",
    "Faça todas as verificações necessárias."
   ]
  },
  {
   "cell_type": "code",
   "execution_count": 9,
   "id": "610a8776",
   "metadata": {},
   "outputs": [
    {
     "name": "stdout",
     "output_type": "stream",
     "text": [
      "Informe a primeira nota: 9.8\n",
      "Informe a segunda nota: 7.6\n",
      "Informe a terceira nota: 10\n",
      "Aluno Aprovado, Média: 9.13\n"
     ]
    }
   ],
   "source": [
    "nota1 = float(input(\"Informe a primeira nota: \")) \n",
    "nota2 = float(input(\"Informe a segunda nota: \"))\n",
    "nota3 = float(input(\"Informe a terceira nota: \")) \n",
    "\n",
    "media = (nota1 + nota2 + nota3) / 3 \n",
    "\n",
    "if 0 <= media <= 2.9: \n",
    "    \n",
    "    print(f\"Aluno Reprovado, Média: {media: .2f}\") \n",
    "    \n",
    "elif 3 <= media <= 4.9: \n",
    "    \n",
    "    print(f\"Aluno em Recuperação, Média: {media: .2f}\") \n",
    "    \n",
    "elif 5 <= media <= 10: \n",
    "    \n",
    "    print(f\"Aluno Aprovado, Média: {media:.2f}\") \n",
    "    \n",
    "else: \n",
    "    \n",
    "    print(\"Notas inválidas! Verifique os vaores inseridos. \") "
   ]
  },
  {
   "cell_type": "markdown",
   "id": "06b23f1a",
   "metadata": {},
   "source": [
    "### 15 - Usando laços condicionais, escreva um programa que leia um inteiro entre 1 e 7 e imprima o dia da semana correspondente a este número. Isto é, domingo se 1, segunda-feira se 2, e assim por diante."
   ]
  },
  {
   "cell_type": "code",
   "execution_count": 10,
   "id": "8bcf6ec4",
   "metadata": {},
   "outputs": [
    {
     "name": "stdout",
     "output_type": "stream",
     "text": [
      "Informe o dia da semana(1 a 7): 3\n",
      "Terça\n"
     ]
    }
   ],
   "source": [
    "semana = int(input(\"Informe o dia da semana(1 a 7): \")) \n",
    "\n",
    "if semana == 1: \n",
    "    \n",
    "    print(\"Domingo\") \n",
    "    \n",
    "elif semana == 2: \n",
    "    \n",
    "    print(\"Segunda\") \n",
    "    \n",
    "elif semana == 3: \n",
    "    \n",
    "    print(\"Terça\") \n",
    "    \n",
    "elif semana == 4: \n",
    "    \n",
    "    print(\"Quarta Feira\") \n",
    "    \n",
    "elif semana == 5: \n",
    "    \n",
    "    print(\"Quinta Feira\") \n",
    "    \n",
    "elif semana == 6: \n",
    "    \n",
    "    print(\"Sexta Feira\") \n",
    "    \n",
    "elif semana == 7: \n",
    "    \n",
    "    print(\"Sábado\") \n",
    "    \n",
    "else: \n",
    "    \n",
    "    print(\"Número inválido! Insira um valor entre 1 e 7. \") "
   ]
  },
  {
   "cell_type": "markdown",
   "id": "67fcd26c",
   "metadata": {},
   "source": [
    "### 16 - Usando laços condicionais, escreva um programa que leia um inteiro entre 1 e 12, imprima o mês correspondente a este número, Isto é, domingo se 1, segunda-feira se 2, e assim por diante."
   ]
  },
  {
   "cell_type": "code",
   "execution_count": 13,
   "id": "69d67eca",
   "metadata": {},
   "outputs": [
    {
     "name": "stdout",
     "output_type": "stream",
     "text": [
      "Informe o mês do ano (1 a 12): 5\n",
      "Maio\n"
     ]
    }
   ],
   "source": [
    "mes = int(input(\"Informe o mês do ano (1 a 12): \")) \n",
    "\n",
    "meses = {\n",
    "    \n",
    "    1: \"Janeiro\", \n",
    "    2: \"Fevereiro\", \n",
    "    3: \"Março\", \n",
    "    4: \"Abril\", \n",
    "    5: \"Maio\", \n",
    "    6: \"Junho\", \n",
    "    7: \"Julho\", \n",
    "    8: \"Agosto\",\n",
    "    9: \"Setembro\", \n",
    "    10: \"Outubro\", \n",
    "    11: \"Novembro\", \n",
    "    12: \"Dezembro\"\n",
    "    \n",
    "}\n",
    "\n",
    "if mes in meses: \n",
    "    \n",
    "    print(meses[mes]) \n",
    "    \n",
    "else: \n",
    "    \n",
    "    print(\"Número inválido! Insira um valor entre 1 e 12: \") "
   ]
  },
  {
   "cell_type": "markdown",
   "id": "0db0e598",
   "metadata": {},
   "source": [
    "### 17 - Faça um programa que calcule e mostre a área de um trapézio."
   ]
  },
  {
   "cell_type": "markdown",
   "id": "384dce93",
   "metadata": {},
   "source": [
    "A = (base maior + base menor) x altura / 2"
   ]
  },
  {
   "cell_type": "markdown",
   "id": "cd999f6e",
   "metadata": {},
   "source": [
    "*** Lembre-se a base maior e a base menor devem ser números maiores que zero. "
   ]
  },
  {
   "cell_type": "code",
   "execution_count": 15,
   "id": "da1b1419",
   "metadata": {},
   "outputs": [
    {
     "name": "stdout",
     "output_type": "stream",
     "text": [
      "Informe a base menor: 120\n",
      "Informe a base maior: 59\n",
      "Informe a altura: 1.80\n",
      "A: 161.10\n"
     ]
    }
   ],
   "source": [
    "base_menor = float(input(\"Informe a base menor: \"))\n",
    "base_maior = float(input(\"Informe a base maior: \")) \n",
    "altura = float(input(\"Informe a altura: \")) \n",
    "\n",
    "# Verificação e cálculo da área \n",
    "if base_menor > 0 and base_maior > 0 and altura > 0: \n",
    "    \n",
    "    area = (base_maior + base_menor) * altura / 2 \n",
    "    print(f\"A: {area:.2f}\") \n",
    "    \n",
    "else: \n",
    "    \n",
    "    print(\"Número inválido\") "
   ]
  },
  {
   "cell_type": "markdown",
   "id": "b7c64be4",
   "metadata": {},
   "source": [
    "### 18 - Faça um programa que mostre ao usuário um menu com 4 opções de operações matemáticas (as básicas, por exemplo). O usuário escolhe uma das opções e o seu programa então pede dois valores numéricos e realiza a operação, mostrando o resultado e saindo."
   ]
  },
  {
   "cell_type": "code",
   "execution_count": 18,
   "id": "95225eb9",
   "metadata": {},
   "outputs": [
    {
     "name": "stdout",
     "output_type": "stream",
     "text": [
      "Escolha uma operação matemática\n",
      "1 - Adição\n",
      "2 - Subtração\n",
      "3 - Multiplicação\n",
      "4 - Divisão\n",
      "\n",
      "Informe a opção deseja: 1\n",
      "Informe o primeiro número: 82\n",
      "Informe o segundo número: 43\n",
      "Resultado da Adição: 125.00\n"
     ]
    }
   ],
   "source": [
    "print(\"Escolha uma operação matemática\") \n",
    "print(\"1 - Adição\") \n",
    "print(\"2 - Subtração\") \n",
    "print(\"3 - Multiplicação\") \n",
    "print(\"4 - Divisão\") \n",
    "\n",
    "print() \n",
    "\n",
    "# Solicita a opção do usuário\n",
    "opcao = int(input(\"Informe a opção deseja: \")) \n",
    "\n",
    "# Verifica se a opção é válida\n",
    "if opcao < 1 or opcao > 4: \n",
    "    \n",
    "    print(\"Opção inválida! Escolha um número entre 1 e 4. \") \n",
    "    \n",
    "else: \n",
    "    \n",
    "    # Solicita os dois números \n",
    "    num1 = float(input(\"Informe o primeiro número: \")) \n",
    "    num2 = float(input(\"Informe o segundo número: \")) \n",
    "    \n",
    "    # Realiza a operação escolhida \n",
    "    if opcao == 1: \n",
    "        \n",
    "        print(f\"Resultado da Adição: {num1 + num2:.2f}\") \n",
    "        \n",
    "    elif opcao == 2: \n",
    "        \n",
    "        print(f\"Resultado da Subtração: {num1 - num2:.2f}\") \n",
    "        \n",
    "    elif opcao == 3: \n",
    "        \n",
    "        print(f\"Resultado da Multiplicação: {num1 * num2: .2f}\") \n",
    "        \n",
    "    elif opcao == 4: \n",
    "        \n",
    "        if num2 != 0: \n",
    "            \n",
    "            print(f\"Resultado da Divisão: {num1 / num2: .2f}\") \n",
    "            \n",
    "        else: \n",
    "            \n",
    "            print(\"Erro: Divisão por zero não é permitida. \")"
   ]
  },
  {
   "cell_type": "markdown",
   "id": "262356af",
   "metadata": {},
   "source": [
    "### 19 - Faça um programa para verificar se um determinado número inteiro é divisível por 3 ou 5, mas não simultaneamente pelos dois. "
   ]
  },
  {
   "cell_type": "code",
   "execution_count": 3,
   "id": "ca7b65f1",
   "metadata": {},
   "outputs": [
    {
     "name": "stdout",
     "output_type": "stream",
     "text": [
      "Digite um número inteiro: 10\n",
      "O número é divisível somente por 5.\n"
     ]
    }
   ],
   "source": [
    "numero = int(input(\"Digite um número inteiro: \")) \n",
    "\n",
    "# Verifica se é divisível por 3 ou 5, mas não pelos dois ao mesmo tempo \n",
    "if(numero % 3 == 0 and numero % 5 != 0):\n",
    "    \n",
    "    print(\"O número é divisível somente por 3.\") \n",
    "    \n",
    "elif(numero % 5 == 0 and numero % 3 != 0): \n",
    "    \n",
    "    print(\"O número é divisível somente por 5.\") \n",
    "    \n",
    "elif(numero % 5 == 0 and numero % 3 == 0): \n",
    "    \n",
    "    print(\"Divisível por 3 e 5.\") \n",
    "    \n",
    "else: \n",
    "    \n",
    "    print(\"Não divisível por 3 nem por 5.\")"
   ]
  },
  {
   "cell_type": "markdown",
   "id": "d1aeb44f",
   "metadata": {},
   "source": [
    "### 20. Dados três valores, A, B, C, verificar se eles podem ser valores dos lados de um triângulo e, se forem, se é um triângulo escaleno, equilátero ou isósceles, considerando os seguintes conceitos:"
   ]
  },
  {
   "cell_type": "markdown",
   "id": "314120d6",
   "metadata": {},
   "source": [
    "O comprimento de cada lado de um triângulo é menor do que a soma dos outros dois lados.\n",
    "\n",
    "Chama-se equilátero o triângulo que tem três lados iguais.\n",
    "\n",
    "Denominam-se isósceles o triângulo que tem o comprimento de dois lados iguais.\n",
    "\n",
    "Recebe o nome de escaleno o triângulo que tem os três lados diferentes."
   ]
  },
  {
   "cell_type": "code",
   "execution_count": 4,
   "id": "553d7743",
   "metadata": {},
   "outputs": [
    {
     "name": "stdout",
     "output_type": "stream",
     "text": [
      "Informe o lado A: 4\n",
      "Informe o lado B: 4\n",
      "Informe o lado C: 4\n",
      "Triângulo equilátero\n"
     ]
    }
   ],
   "source": [
    "# Entrada dos lados do triângulo \n",
    "a = int(input(\"Informe o lado A: \"))\n",
    "b = int(input(\"Informe o lado B: \"))\n",
    "c = int(input(\"Informe o lado C: \"))\n",
    "\n",
    "# Verificar se os valores podem formar um triângulo\n",
    "if a + b > c and b + c > a and c + a > b:\n",
    "    \n",
    "    # Verifica o tipo de triângulo\n",
    "    if a == b and b == c: \n",
    "        \n",
    "        print(\"Triângulo equilátero\") \n",
    "        \n",
    "    elif a == b or b == c or c == a: \n",
    "        \n",
    "        print(\"Triângulo Isósceles\") \n",
    "        \n",
    "    else: \n",
    "        \n",
    "        print(\"Triângulo Escaleno\") \n",
    "        \n",
    "else: \n",
    "    \n",
    "    print(\"Os valores informados não formam um triângulo\") "
   ]
  },
  {
   "cell_type": "markdown",
   "id": "585952a9",
   "metadata": {},
   "source": [
    "### 21. Escreva o menu de opções abaixo. Leia a opção do usuário e execute a operação escolhida. Escreva uma mensagem de erro se a opção for inválida."
   ]
  },
  {
   "cell_type": "markdown",
   "id": "e16872fb",
   "metadata": {},
   "source": [
    "Escolha a opção:\n",
    "\n",
    "** 1 - Soma de 2 números.\n",
    "\n",
    "** 2 - Diferença entre 2 números (maior pelo menor).\n",
    "\n",
    "** 3 - Produto entre 2 números.\n",
    "\n",
    "** 4 - Divisão entre 2 números (o denominador não pode ser zero)."
   ]
  },
  {
   "cell_type": "code",
   "execution_count": 5,
   "id": "563ca8b5",
   "metadata": {},
   "outputs": [
    {
     "name": "stdout",
     "output_type": "stream",
     "text": [
      "Escolha a opção: \n",
      "1 - Soma de 2 números\n",
      "2 - Diferença entre 2 números (maior pelo menor)\n",
      "3 - Produto entre 2 números\n",
      "4 - Divisão entre 2 números (o denominador não pode ser zero)\n",
      "Opção: 3\n",
      "Digite o primeiro número: 5\n",
      "Digite o segundo número: 6\n",
      "Produto:  30.00\n"
     ]
    }
   ],
   "source": [
    "print(\"Escolha a opção: \") \n",
    "print(\"1 - Soma de 2 números\") \n",
    "print(\"2 - Diferença entre 2 números (maior pelo menor)\")\n",
    "print(\"3 - Produto entre 2 números\") \n",
    "print(\"4 - Divisão entre 2 números (o denominador não pode ser zero)\") \n",
    "\n",
    "opcao = int(input(\"Opção: \")) \n",
    "\n",
    "if opcao == 1: \n",
    "    \n",
    "    num1 = float(input(\"Digite o primeiro número: \")) \n",
    "    num2 = float(input(\"Digite o segundo número: \"))\n",
    "    \n",
    "    soma = num1 + num2\n",
    "    print(f\"Soma: {soma:.2f}\")\n",
    "\n",
    "elif opcao == 2: \n",
    "    \n",
    "    num1 = float(input(\"Digite o primeiro número: \")) \n",
    "    num2 = float(input(\"Digite o segundo número: \"))\n",
    "    \n",
    "    diferenca = abs(num1 - num2) \n",
    "    print(f\"Diferença (maior pelo menor): {diferenca:.2f}\")\n",
    "    \n",
    "elif opcao == 3: \n",
    "    \n",
    "    num1 = float(input(\"Digite o primeiro número: \")) \n",
    "    num2 = float(input(\"Digite o segundo número: \"))\n",
    "    produto = num1 * num2\n",
    "    \n",
    "    print(f\"Produto: {produto: .2f}\")\n",
    "    \n",
    "elif opcao == 4: \n",
    "    \n",
    "    numerador = float(input(\"Digite o numerador: \")) \n",
    "    denominador = float(input(\"Digite o denominador: \"))\n",
    "    \n",
    "    if denominador == 0:\n",
    "        \n",
    "        print(\"Erro: o denominador não pode ser zero. \")\n",
    "        \n",
    "    else:\n",
    "        \n",
    "        divisao = numerador / denominador\n",
    "        \n",
    "        print(f\"Divisão: {divisao:.2f}\") \n",
    "        \n",
    "else:\n",
    "    \n",
    "    print(\"Opção inválida\")"
   ]
  },
  {
   "cell_type": "markdown",
   "id": "159d4d9f",
   "metadata": {},
   "source": [
    "### 22. Leia a idade e o tempo de serviço de um trabalhador e escreva se ele pode ou não se aposentar. As condições para aposentadoria são:"
   ]
  },
  {
   "cell_type": "markdown",
   "id": "d915cf82",
   "metadata": {},
   "source": [
    "** 1 - Ter pelo menos 65 anos,\n",
    "\n",
    "** 2 - Ou ter trabalhado pelo menos 30 anos,\n",
    "\n",
    "** 3 - Ou ter pelo menos 60 anos e trabalhado pelo menos 25 anos."
   ]
  },
  {
   "cell_type": "code",
   "execution_count": 5,
   "id": "be48e1a2",
   "metadata": {},
   "outputs": [
    {
     "name": "stdout",
     "output_type": "stream",
     "text": [
      "Informe a sua idade: 73\n",
      "Informe o seu tempo de trabalho: 40\n",
      "Pode se aposentar\n"
     ]
    }
   ],
   "source": [
    "## Solicita ao usuário a idade e o tempo de trabalho\n",
    "idade = int(input(\"Informe a sua idade: \")) \n",
    "trabalho = int(input(\"Informe o seu tempo de trabalho: \"))\n",
    "\n",
    "## Verifica se o usuário se aposentar com base nas regras\n",
    "if idade >= 65 or trabalho >= 30 or (idade >= 60 and trabalho >= 25): \n",
    "    \n",
    "    print(\"Pode se aposentar\") \n",
    "    \n",
    "else: \n",
    "    \n",
    "    print(\"Não pode se aposentar\") "
   ]
  },
  {
   "cell_type": "markdown",
   "id": "5cfca514",
   "metadata": {},
   "source": [
    "### 23. Determine se um determinado ano lido é bissexto. Sendo que um ano é bissexto se for dívisivel por 400 ou se for divisivel por 4 e não for divisivel por 100. Por exemplo: 1988, 1992, 1996. "
   ]
  },
  {
   "cell_type": "code",
   "execution_count": 7,
   "id": "39f621dd",
   "metadata": {},
   "outputs": [
    {
     "name": "stdout",
     "output_type": "stream",
     "text": [
      "Informe o ano: 2000\n",
      "É bissexto\n"
     ]
    }
   ],
   "source": [
    "ano = int(input(\"Informe o ano: \"))\n",
    "\n",
    "if ano % 400 == 0: \n",
    "    \n",
    "    print(\"É bissexto\") \n",
    "    \n",
    "elif ano % 4 == 0 and ano % 100 != 0: \n",
    "    \n",
    "    print(\"É bissexto\") \n",
    "    \n",
    "else: \n",
    "    \n",
    "    print(\"Não é bissexto\") "
   ]
  },
  {
   "cell_type": "markdown",
   "id": "9a2ad507",
   "metadata": {},
   "source": [
    "### 24. Uma empresa vende o mesmo produto para quatro diferentes estados. Cada estado possui uma taxa diferente de imposto sobre o produto (MG 7%, SP 12%, RJ 15%, MS 8%). Faça um programa em que o usuário entre com o valor e o estado destino do produto e o programa retorne o preço final do produto acrescido do imposto do estado em que ele será vendido. Se o estado digitado não for válido, mostrar uma mensagem de erro. "
   ]
  },
  {
   "cell_type": "code",
   "execution_count": 3,
   "id": "d26de2fb",
   "metadata": {},
   "outputs": [
    {
     "name": "stdout",
     "output_type": "stream",
     "text": [
      "Informe o valor do produto: 450.43\n",
      "Informe o estado de destino (MG, SP, RJ, MS): SP\n",
      "Preço final do imposto em São Paulo: R$ 504.48\n"
     ]
    }
   ],
   "source": [
    "valor = float(input(\"Informe o valor do produto: \")) \n",
    "estado = input(\"Informe o estado de destino (MG, SP, RJ, MS): \").upper() \n",
    "\n",
    "if estado == \"MG\":\n",
    "    \n",
    "    imposto == 0.07 \n",
    "    estado_nome = \"Minas Gerais\" \n",
    "    \n",
    "elif estado == \"SP\": \n",
    "    \n",
    "    imposto = 0.12\n",
    "    estado_nome = \"São Paulo\" \n",
    "    \n",
    "elif estado == \"RJ\": \n",
    "    \n",
    "    imposto = 0.15\n",
    "    estado_home = \"Rio de Janeiro\" \n",
    "    \n",
    "elif estado == \"MS\": \n",
    "    \n",
    "    imposto = 0.08 \n",
    "    estado_home = \"Mato Grosso do Sul\" \n",
    "    \n",
    "else: \n",
    "    \n",
    "    print(\"Estado inválido.\") \n",
    "    exit()\n",
    "    \n",
    "preco_final = valor + (valor * imposto) \n",
    "print(f\"Preço final do imposto em {estado_nome}: R$ {preco_final:.2f}\")"
   ]
  },
  {
   "cell_type": "markdown",
   "id": "678bcc85",
   "metadata": {},
   "source": [
    "### 25. Calcule as raízes da equação de 2 grau. Lembrando que: "
   ]
  },
  {
   "cell_type": "markdown",
   "id": "d5c640a0",
   "metadata": {},
   "source": [
    "x = -b +- Raiz de Delta / 2a. Onde: Delta = B * B - 4 ac"
   ]
  },
  {
   "cell_type": "markdown",
   "id": "8808b716",
   "metadata": {},
   "source": [
    "E a * x * x + bx + c = 0 representa uma equação de 2 grau. "
   ]
  },
  {
   "cell_type": "markdown",
   "id": "9800305e",
   "metadata": {},
   "source": [
    "A variável a tem que ser diferente de zero. Caso seja igual, imprima a mensagem. \"Não é equação de segundo grau\"."
   ]
  },
  {
   "cell_type": "markdown",
   "id": "54b481d4",
   "metadata": {},
   "source": [
    "Se Delta < 0, não existe real. Imprima a mensagem: Não existe raiz. "
   ]
  },
  {
   "cell_type": "markdown",
   "id": "7f7482b8",
   "metadata": {},
   "source": [
    "Se Delta = 0, existe uma raiz real. Imprima a raiz e a mensagem Raiz única. "
   ]
  },
  {
   "cell_type": "markdown",
   "id": "5e2103d9",
   "metadata": {},
   "source": [
    "Se Delta > 0, imprima as duas raízes reais. "
   ]
  },
  {
   "cell_type": "code",
   "execution_count": 5,
   "id": "037dcfb7",
   "metadata": {},
   "outputs": [
    {
     "name": "stdout",
     "output_type": "stream",
     "text": [
      "Informe o valor de A: 56.5\n",
      "Informe o valor de B: 98.5\n",
      "Informe o valor de C: 43.4\n",
      "Delta: -106.15\n",
      "Não existe raiz. \n"
     ]
    }
   ],
   "source": [
    "import math \n",
    "\n",
    "A = float(input(\"Informe o valor de A: \")) \n",
    "\n",
    "if A == 0: \n",
    "    \n",
    "    print(\"Não é uma equação de segundo grau.\") \n",
    "    exit() \n",
    "    \n",
    "B = float(input(\"Informe o valor de B: \")) \n",
    "C = float(input(\"Informe o valor de C: \")) \n",
    "\n",
    "delta = B**2 - 4 * A * C \n",
    "print(f\"Delta: {delta:.2f}\") \n",
    "\n",
    "if delta < 0: \n",
    "    \n",
    "    print(\"Não existe raiz. \") \n",
    "    \n",
    "elif delta == 0: \n",
    "    \n",
    "    x = -B / (2 * A) \n",
    "    print(f\"Raiz única: {x:.2f}\") \n",
    "    \n",
    "else: \n",
    "    \n",
    "    x1 = (-B + math.sqrt(delta)) / (2 * A) \n",
    "    x2 = (-B - math.sqrt(delta)) / (2 * A) \n",
    "    print(f\"X1: {x1:.2f}\")\n",
    "    print(f\"X2: {x2:.2f}\")"
   ]
  },
  {
   "cell_type": "markdown",
   "id": "595e64fb",
   "metadata": {},
   "source": [
    "### 26. Leia a distância em Km e a quantidade de litros de gasolina consumidos por um carro em um percurso, calcule o consumo em Km/l e escreva uma mensagem de acordo com a tabela abaixo:\n",
    "\n"
   ]
  },
  {
   "cell_type": "markdown",
   "id": "c4c4a2d6",
   "metadata": {},
   "source": [
    "Consumo   | (Km/l) | Mensagem \n",
    "\n",
    "menor que |   8    | Venda o carro! \n",
    "\n",
    "entre     | 8 e 14 | Econômico ! \n",
    "\n",
    "maior que |  12    | Super econômico ! "
   ]
  },
  {
   "cell_type": "code",
   "execution_count": 8,
   "id": "20c2275e",
   "metadata": {},
   "outputs": [
    {
     "name": "stdout",
     "output_type": "stream",
     "text": [
      "Informe a distância percorrida: 390\n",
      "Informe a quantidade de litros: 30\n",
      "Super Econômico\n"
     ]
    }
   ],
   "source": [
    "distancia = float(input(\"Informe a distância percorrida: \")) \n",
    "qtd_litros = float(input(\"Informe a quantidade de litros: \")) \n",
    "\n",
    "consumo = distancia / qtd_litros \n",
    "\n",
    "if consumo < 8: \n",
    "    \n",
    "    print(\"Venda o carro\") \n",
    "    \n",
    "elif consumo <= 12: \n",
    "    \n",
    "    print(\"Econômico\") \n",
    "    \n",
    "else: \n",
    "    \n",
    "    print(\"Super Econômico\") "
   ]
  },
  {
   "cell_type": "markdown",
   "id": "6a2e5fd4",
   "metadata": {},
   "source": [
    "### 27. Escreva um programa que, dada a idade de um nadador, classifique-o em uma das seguintes categorias: "
   ]
  },
  {
   "cell_type": "markdown",
   "id": "941f6512",
   "metadata": {},
   "source": [
    "Categoria  | Idade\n",
    "\n",
    "Infantil A | 5 a 7 \n",
    "\n",
    "Infantil B | 8 a 10 \n",
    "\n",
    "Juvenil A  | 11 a 13\n",
    "\n",
    "Juvenil B  | 14 a 17 \n",
    "\n",
    "Sênior     | maiores de 18 anos "
   ]
  },
  {
   "cell_type": "code",
   "execution_count": 11,
   "id": "8330fcfb",
   "metadata": {},
   "outputs": [
    {
     "name": "stdout",
     "output_type": "stream",
     "text": [
      "Informe a idade: 3\n",
      "Idade fora da faixa de classificação\n"
     ]
    }
   ],
   "source": [
    "idade = int(input(\"Informe a idade: \")) \n",
    "\n",
    "if 5 <= idade <= 7: \n",
    "    \n",
    "    print(f\"Categoria: Infantil A ({idade} anos.)\") \n",
    "    \n",
    "elif 8 <= idade <= 10: \n",
    "    \n",
    "    print(f\"Categoria: Infantil B ({idade} anos.)\") \n",
    "    \n",
    "elif 11 <= idade <= 13: \n",
    "    \n",
    "    print(f\"Categoria: Juvenil A ({idade} anos.)\") \n",
    "    \n",
    "elif 14 <= idade <= 17: \n",
    "    \n",
    "    print(f\"Categoria: Juvenil B ({idade} anos.)\") \n",
    "    \n",
    "elif idade >= 18:\n",
    "    \n",
    "    print(f\"Categoria: Sênior ({idade} anos.)\")\n",
    "    \n",
    "else: \n",
    "    \n",
    "    print(\"Idade fora da faixa de classificação\") "
   ]
  },
  {
   "cell_type": "markdown",
   "id": "d128b12c",
   "metadata": {},
   "source": [
    "### 26. Leia a distância em Km e a quantidade de litros de gasolina consumidos por um carro em um percurso, calcule o consumo em Km/l e escreva uma menssagem de acordo com a tabela abaixo: "
   ]
  },
  {
   "cell_type": "markdown",
   "id": "58e763db",
   "metadata": {},
   "source": [
    "*** Consumo   | (Km / l) | Mensagem  \n",
    "\n",
    "*** menor que |  8 | Venda o carro ! \n",
    "\n",
    "*** entre | 8 e 14 | Econômico! \n",
    "\n",
    "*** maior que | 12 | Super econômico ! "
   ]
  },
  {
   "cell_type": "code",
   "execution_count": 5,
   "id": "8b40878a",
   "metadata": {},
   "outputs": [
    {
     "name": "stdout",
     "output_type": "stream",
     "text": [
      "Informe a distância em Km/h: 240\n",
      "Informe a quantidade de litros: 20\n",
      "Consumo:  12.00 km /l\n",
      "Econômico.\n"
     ]
    }
   ],
   "source": [
    "distancia = float(input(\"Informe a distância em Km/h: \"))\n",
    "quantidade_litros = float(input(\"Informe a quantidade de litros: \")) \n",
    "\n",
    "consumo = distancia / quantidade_litros  \n",
    "\n",
    "print(f\"Consumo: {consumo: .2f} km /l\")\n",
    "\n",
    "if consumo < 8: \n",
    "    \n",
    "    print(\"Venda o carro !\") \n",
    "    \n",
    "elif consumo <= 12: \n",
    "    \n",
    "    print(\"Econômico.\") \n",
    "    \n",
    "else: \n",
    "    \n",
    "    print(\"Super econômico !\")\n"
   ]
  },
  {
   "cell_type": "markdown",
   "id": "d9269a6a",
   "metadata": {},
   "source": [
    "### 27. Escreva um programa que, dada a idade de um nadador, classifique-o em uma das seguintes categorias: "
   ]
  },
  {
   "cell_type": "code",
   "execution_count": 16,
   "id": "c19950cd",
   "metadata": {},
   "outputs": [
    {
     "name": "stdout",
     "output_type": "stream",
     "text": [
      "Informe a idade: 20\n",
      "Categoria: Sênior. maiores de 18 anos\n"
     ]
    }
   ],
   "source": [
    "idade = int(input(\"Informe a idade: \")) \n",
    "\n",
    "if idade < 5: \n",
    "    \n",
    "    print(\"Idade fora da faixa de classificação\")\n",
    "\n",
    "elif 5 <= idade <= 7 : \n",
    "    \n",
    "    print(\"Categoria: Infantíl A\") \n",
    "    \n",
    "elif 8 <= idade <= 10 : \n",
    "    \n",
    "    print(\"Categoria: Infantíl B\") \n",
    "    \n",
    "elif 11 <= idade <= 13 : \n",
    "    \n",
    "    print(\"Categoria: Juvenil A\") \n",
    "    \n",
    "elif 14 <= idade <= 17 : \n",
    "    \n",
    "    print(\"Categoria: Juvenil B\") \n",
    "    \n",
    "else: \n",
    "    \n",
    "    print(\"Categoria: Sênior. maiores de 18 anos\")"
   ]
  },
  {
   "cell_type": "markdown",
   "id": "9b2ac428",
   "metadata": {},
   "source": [
    "### 28. Faça um programa que leia três números inteiros positivos e efetue o cálculo de uma das seguintes médias de acordo com um valor numérico pelo usuário: "
   ]
  },
  {
   "cell_type": "markdown",
   "id": "90cf00a9",
   "metadata": {},
   "source": [
    "*** (a) Geométrica: Raiz cúbica - x * y * z \n",
    "\n",
    "*** (b) Ponderada: x + 2 * y + 3 * z \n",
    "\n",
    "*** (c) Harmônica: 1 / (1 / x) + (1 / y) + (1 / z) \n",
    "\n",
    "*** (d) Aritmética: x + y + z / 3"
   ]
  },
  {
   "cell_type": "code",
   "execution_count": 7,
   "id": "6ff164cd",
   "metadata": {},
   "outputs": [
    {
     "name": "stdout",
     "output_type": "stream",
     "text": [
      "1 - Geométrica\n",
      "2 - Ponderada\n",
      "3 - Harmônica\n",
      "4 - Aritmética\n",
      "Informe a opção desejada: 2\n",
      "Informe o valor de x: 2\n",
      "Informe o valor de y: 3\n",
      "Informe o valor de z: 4\n",
      "Ponderada:  3.33 \n"
     ]
    }
   ],
   "source": [
    "import math\n",
    "\n",
    "print(\"1 - Geométrica\")\n",
    "print(\"2 - Ponderada\")\n",
    "print(\"3 - Harmônica\") \n",
    "print(\"4 - Aritmética\") \n",
    "\n",
    "opcao = int(input(\"Informe a opção desejada: \")) \n",
    "\n",
    "if opcao == 1: \n",
    "    \n",
    "    x = float(input(\"Informe o valor de x: \")) \n",
    "    y = float(input(\"Informe o valor de y: \")) \n",
    "    z = float(input(\"Informe o valor de z: \")) \n",
    "    \n",
    "    geometrica = math.pow(x * y * z, 1/3)\n",
    "    \n",
    "    print(f\"Geometrica: {geometrica: .2f} \") \n",
    "\n",
    "elif opcao == 2: \n",
    "    \n",
    "    x = float(input(\"Informe o valor de x: \")) \n",
    "    y = float(input(\"Informe o valor de y: \")) \n",
    "    z = float(input(\"Informe o valor de z: \"))\n",
    "\n",
    "    ponderada = (x + 2 * y + 3 * z) / 6\n",
    "    \n",
    "    print(f\"Ponderada: {ponderada: .2f} \") \n",
    "    \n",
    "elif opcao == 3:\n",
    "    \n",
    "    x = float(input(\"Informe o valor de x: \")) \n",
    "    y = float(input(\"Informe o valor de y: \")) \n",
    "    z = float(input(\"Informe o valor de z: \"))\n",
    "    \n",
    "    harmonica = 3 / (1/x + 1/y + 1/z)\n",
    "    \n",
    "    print(f\"Harmônica: {harmonica: .2f} \") \n",
    "    \n",
    "elif opcao == 4: \n",
    "    \n",
    "    x = float(input(\"Informe o valor de x: \")) \n",
    "    y = float(input(\"Informe o valor de y: \")) \n",
    "    z = float(input(\"Informe o valor de z: \"))\n",
    "    \n",
    "    aritmetica = (x + y + z) / 3\n",
    "    \n",
    "    print(f\"Harmônica: {aritmetica: .2f} \") "
   ]
  },
  {
   "cell_type": "markdown",
   "id": "89e249ff",
   "metadata": {},
   "source": [
    "### 29. Faça uma prova de matemática para crianças que estão aprendendo a somar números inteiros menores do que 100. Escolha números aleatórios entre 1 e 100. e mostre na tela a pergunta: qual é a soma de a + b, onde a e b são os números aleatórios. Peça a resposta. Faça cinco perguntas ao aluno, e mostre para ele as perguntas e as respostas corretas. além de quantas vezes o aluno acertou. "
   ]
  },
  {
   "cell_type": "code",
   "execution_count": 8,
   "id": "5f03b89f",
   "metadata": {},
   "outputs": [
    {
     "name": "stdout",
     "output_type": "stream",
     "text": [
      "Questão 1 - Qual é a soma de 44 + 45 ?\n",
      "Sua resposta89\n",
      "Correto: \n",
      "\n",
      "Questão 2 - Qual é a soma de 87 + 78 ?\n",
      "Sua resposta\n"
     ]
    },
    {
     "ename": "ValueError",
     "evalue": "invalid literal for int() with base 10: ''",
     "output_type": "error",
     "traceback": [
      "\u001b[0;31m---------------------------------------------------------------------------\u001b[0m",
      "\u001b[0;31mValueError\u001b[0m                                Traceback (most recent call last)",
      "\u001b[0;32m/tmp/ipykernel_2254/286173359.py\u001b[0m in \u001b[0;36m<module>\u001b[0;34m\u001b[0m\n\u001b[1;32m     11\u001b[0m \u001b[0;34m\u001b[0m\u001b[0m\n\u001b[1;32m     12\u001b[0m     \u001b[0mprint\u001b[0m\u001b[0;34m(\u001b[0m\u001b[0;34mf\"Questão {i} - Qual é a soma de {a} + {b} ?\"\u001b[0m\u001b[0;34m)\u001b[0m\u001b[0;34m\u001b[0m\u001b[0;34m\u001b[0m\u001b[0m\n\u001b[0;32m---> 13\u001b[0;31m     \u001b[0mresposta_usuario\u001b[0m \u001b[0;34m=\u001b[0m \u001b[0mint\u001b[0m\u001b[0;34m(\u001b[0m\u001b[0minput\u001b[0m\u001b[0;34m(\u001b[0m\u001b[0;34m\"Sua resposta\"\u001b[0m\u001b[0;34m)\u001b[0m\u001b[0;34m)\u001b[0m\u001b[0;34m\u001b[0m\u001b[0;34m\u001b[0m\u001b[0m\n\u001b[0m\u001b[1;32m     14\u001b[0m \u001b[0;34m\u001b[0m\u001b[0m\n\u001b[1;32m     15\u001b[0m     \u001b[0;32mif\u001b[0m \u001b[0mresposta_usuario\u001b[0m \u001b[0;34m==\u001b[0m \u001b[0mresposta_correta\u001b[0m\u001b[0;34m:\u001b[0m\u001b[0;34m\u001b[0m\u001b[0;34m\u001b[0m\u001b[0m\n",
      "\u001b[0;31mValueError\u001b[0m: invalid literal for int() with base 10: ''"
     ]
    }
   ],
   "source": [
    "import random \n",
    "\n",
    "acertos = 0 \n",
    "\n",
    "for i in range(1, 6): \n",
    "    \n",
    "    a = random.randint(1, 99)\n",
    "    b = random.randint(1, 99) \n",
    "    \n",
    "    resposta_correta = a + b \n",
    "    \n",
    "    print(f\"Questão {i} - Qual é a soma de {a} + {b} ?\") \n",
    "    resposta_usuario = int(input(\"Sua resposta\")) \n",
    "    \n",
    "    if resposta_usuario == resposta_correta: \n",
    "        \n",
    "        print(\"Correto: \\n\") \n",
    "        \n",
    "    else: \n",
    "        \n",
    "        print(f\"Errado. Resposta correta; {resposta_correta} \\n\") \n",
    "        \n",
    "print(f\"Total de acertos: {acertos} de 5\" )"
   ]
  },
  {
   "cell_type": "markdown",
   "id": "e4505ac2",
   "metadata": {},
   "source": [
    "### 30. Faça um programa que receba três números e mostre - os em ordem crescente. "
   ]
  },
  {
   "cell_type": "code",
   "execution_count": 12,
   "id": "39c64988",
   "metadata": {},
   "outputs": [
    {
     "name": "stdout",
     "output_type": "stream",
     "text": [
      "Informe o número A: 45\n",
      "Informe o número B: 03\n",
      "Informe o número C: 42\n",
      "A ordem é:  3 42 45\n"
     ]
    }
   ],
   "source": [
    "a = int(input(\"Informe o número A: \")) \n",
    "b = int(input(\"Informe o número B: \")) \n",
    "c = int(input(\"Informe o número C: \")) \n",
    "\n",
    "if a <= b and b <= c:\n",
    "    \n",
    "    print(\"A ordem é: \", a, b, c) \n",
    "    \n",
    "elif a <= c and c <= b: \n",
    "    \n",
    "    print(\"A ordem é: \", a, c, b)\n",
    "    \n",
    "elif b <= a and a <= c: \n",
    "    \n",
    "    print(\"A ordem é: \", b, a, c) \n",
    "    \n",
    "elif b <= c and c <= a: \n",
    "    \n",
    "    print(\"A ordem é: \", b, c, a)\n",
    "    \n",
    "elif c <= a and a <= b: \n",
    "    \n",
    "    print(f\"A ordem é: \", c, a, b)\n",
    "    \n",
    "else: \n",
    "    \n",
    "    print(\"A ordem é: \", c, b, a)"
   ]
  },
  {
   "cell_type": "markdown",
   "id": "a102b989",
   "metadata": {},
   "source": [
    "### 31. Faça um programa que receba a altura e o peso de uma pessoa. De acordo com a tabela a seguir, verifique e mostre qual a classificação dessa pessoa."
   ]
  },
  {
   "cell_type": "markdown",
   "id": "46c0b6ca",
   "metadata": {},
   "source": [
    "Altura | Peso\n",
    "\n",
    "               | Até 60 | Entre 60 e 90 (Inclusive) | Acima de 90 \n",
    "    \n",
    "Menor que 1.20  |   A    |         D                |     G\n",
    "\n",
    "De 1.20 a 1.70  |   B    |         E                |     H\n",
    "\n",
    "Maior que 1.70  |   C    |         F                |     I \n",
    "\n"
   ]
  },
  {
   "cell_type": "code",
   "execution_count": 2,
   "id": "747b917e",
   "metadata": {},
   "outputs": [
    {
     "name": "stdout",
     "output_type": "stream",
     "text": [
      "Informe o peso da pessoa: 75\n",
      "Informe a altura da pessoa: 1.65\n",
      "Categoria E\n"
     ]
    }
   ],
   "source": [
    "peso = float(input(\"Informe o peso da pessoa: \")) \n",
    "altura = float(input(\"Informe a altura da pessoa: \")) \n",
    "\n",
    "## Verificar a categoria com base na altura e no peso: \n",
    "if altura < 1.20: \n",
    "    \n",
    "    if peso <= 60: \n",
    "        \n",
    "        print(\"Categoria A\") \n",
    "        \n",
    "    elif peso <= 90: \n",
    "        \n",
    "        print(\"Categoria D\") \n",
    "        \n",
    "    else: \n",
    "        \n",
    "        print(\"Categoria G\") \n",
    "        \n",
    "elif altura <= 1.70: \n",
    "    \n",
    "    if peso <= 60: \n",
    "        \n",
    "        print(\"Categoria B\")\n",
    "        \n",
    "    elif peso <= 90: \n",
    "        \n",
    "        print(\"Categoria E\") \n",
    "        \n",
    "    else:\n",
    "        \n",
    "        print(\"Categoria H\") \n",
    "        \n",
    "else: \n",
    "    \n",
    "    if peso <= 60: \n",
    "        \n",
    "        print(\"Categoria C\") \n",
    "        \n",
    "    elif peso <= 90: \n",
    "        \n",
    "        print(\"Categoria F\") \n",
    "        \n",
    "    else: \n",
    "        \n",
    "        print(\"Categoria I\") "
   ]
  },
  {
   "cell_type": "markdown",
   "id": "c7625668",
   "metadata": {},
   "source": [
    "### 32. Escrever um programa que leia o código do produto escolhido do cardápio de uma lanchonete e a quantidade. O programa deve calcular o valor a ser pago por aquele lanche. Considere que a cada execução somente será calculado um pedido. O cardápio da lanchonete segue o padrão abaixo: "
   ]
  },
  {
   "cell_type": "markdown",
   "id": "a7ebfa60",
   "metadata": {},
   "source": [
    "Especificação | Código | Preço \n",
    "\n",
    "Cachorro Quente | 100 | 1.20 \n",
    "\n",
    "Bauru Simples | 101 | 1.30 \n",
    "\n",
    "Bauru com Ovo | 102 | 1.50 \n",
    "\n",
    "Hamburguer | 103 | 1.20 \n",
    "\n",
    "Cheeseburguer | 104 | 1.70 \n",
    "\n",
    "Suco | 105 | 2.20 \n",
    "\n",
    "Refrigerante | 106 | 1.00 "
   ]
  },
  {
   "cell_type": "code",
   "execution_count": 3,
   "id": "4a88cf3b",
   "metadata": {},
   "outputs": [
    {
     "name": "stdout",
     "output_type": "stream",
     "text": [
      "Informe o código do produto: 101\n",
      "Informe a quantidade de pedidos: 3\n",
      "Valor Total do Pedido: R$ 3.90\n"
     ]
    }
   ],
   "source": [
    "# Leitura do código do produto e da quantidde\n",
    "codigo = int(input(\"Informe o código do produto: \")) \n",
    "quantidade = int(input(\"Informe a quantidade de pedidos: \")) \n",
    "\n",
    "# Cálculo e impressão do valor total com base no código do produto \n",
    "if codigo == 100: \n",
    "    \n",
    "    preco = 1.20 * quantidade \n",
    "    print(f\"Valor Total do Pedido: R$ {preco:.2f}\") \n",
    "    \n",
    "elif codigo == 101: \n",
    "    \n",
    "    preco = 1.30 * quantidade\n",
    "    print(f\"Valor Total do Pedido: R$ {preco:.2f}\") \n",
    "    \n",
    "elif codigo == 102: \n",
    "    \n",
    "    preco = 1.50 * quantidade\n",
    "    print(f\"Valor Total do Pedido: R$ {preco:.2f}\") \n",
    "    \n",
    "elif codigo == 103: \n",
    "    \n",
    "    preco = 1.20 * quantidade \n",
    "    print(f\"Valor Total do Pedido: R$ {preco:.2f}\") \n",
    "    \n",
    "elif codigo == 104: \n",
    "    \n",
    "    preco = 1.70 * quantidade \n",
    "    print(f\"Valor Total do Pedido: R$ {preco:.2f}\") \n",
    "    \n",
    "elif codigo == 105: \n",
    "    \n",
    "    preco = 2.20 * quantidade\n",
    "    print(f\"Valor Total do Pedido: R$ {preco:.2f}\") \n",
    "    \n",
    "elif codigo == 106: \n",
    "    \n",
    "    preco = 1.00 * quantidade\n",
    "    print(f\"Valor Total do Pedido: R$ {preco:.2f}\") \n",
    "    \n",
    "else:\n",
    "    \n",
    "    print(\"Código de produto inválido.\")"
   ]
  },
  {
   "cell_type": "markdown",
   "id": "27c265ce",
   "metadata": {},
   "source": [
    "### 33. Um produto vai sofrer aumento de acordo com a tabela abaixo. Leia o preço antigo. calcule e escreva o preço novo, e escreva uma mensagem em função do preço novo (de acordo com a segunda tabela) "
   ]
  },
  {
   "cell_type": "markdown",
   "id": "e6345bcb",
   "metadata": {},
   "source": [
    "Preço Antigo | Percentual de Aumento \n",
    "\n",
    "até RS 50    |       5% \n",
    "\n",
    "entre RS 50 e RS 100 | 10 %\n",
    "\n",
    "acima de RS 100 |  15 %   "
   ]
  },
  {
   "cell_type": "code",
   "execution_count": 3,
   "id": "e320aae3",
   "metadata": {},
   "outputs": [
    {
     "name": "stdout",
     "output_type": "stream",
     "text": [
      "Informe o preço antigo: R$75.00\n",
      "Preço novo: R$ 82.50\n",
      "Classificação: Normal\n"
     ]
    }
   ],
   "source": [
    "preco_antigo = float(input(\"Informe o preço antigo: R$\")) \n",
    "\n",
    "    \n",
    "# Cálculo do novo preço \n",
    "if preco_antigo < 50: \n",
    "    \n",
    "    preco_novo = preco_antigo + (preco_antigo * 0.05) \n",
    "    \n",
    "elif preco_antigo < 100: \n",
    "    \n",
    "    preco_novo = preco_antigo + (preco_antigo * 0.10) \n",
    "    \n",
    "else: \n",
    "    \n",
    "    preco_novo = preco_antigo + (preco_antigo * 0.15) \n",
    "    \n",
    "print(f\"Preço novo: R$ {preco_novo:.2f}\") \n",
    "\n",
    "## Classificação do novo preço\n",
    "\n",
    "if preco_novo <= 80: \n",
    "    \n",
    "    print(\"Classificação: Barato\") \n",
    "    \n",
    "elif preco_novo <= 120: \n",
    "    \n",
    "    print(\"Classificação: Normal\") \n",
    "    \n",
    "elif preco_novo <= 200: \n",
    "    \n",
    "    print(\"Classificação: Caro\") \n",
    "    \n",
    "else: \n",
    "    \n",
    "    print(\"Classificação: Muito Caro\") "
   ]
  },
  {
   "cell_type": "markdown",
   "id": "76382c6a",
   "metadata": {},
   "source": [
    "### 34. Leia a nota e o número de faltas de um aluno, e escreva o seu conceito. De acordo com a tabela abaixo, quando o aluno tem mais de 20 faltas ocorre uma redução de conceito "
   ]
  },
  {
   "cell_type": "markdown",
   "id": "858f4c5b",
   "metadata": {},
   "source": [
    "Nota | Conceito (Até 20 Faltas) | Conceito (Mais de 20 Faltas) \n",
    "\n",
    "9.0 até 10.0 |       A          |             C \n",
    "\n",
    "7.5 até 8.9  |       B          |             C\n",
    "\n",
    "5.0 até 7.4  |       C          |             D      \n",
    "\n",
    "4.0 até 4.9  |       D          |             E  \n",
    "\n",
    "0.0 até 3.9  |       E          |             E                 "
   ]
  },
  {
   "cell_type": "code",
   "execution_count": 15,
   "id": "17e4379b",
   "metadata": {},
   "outputs": [
    {
     "name": "stdout",
     "output_type": "stream",
     "text": [
      "Informe a nota do aluno: 2.3\n",
      "Informe o número de faltas dos alunos: 34\n",
      "Conceito: F\n"
     ]
    }
   ],
   "source": [
    "notas_alunos = float(input(\"Informe a nota do aluno: \"))\n",
    "faltas = int(input(\"Informe o número de faltas dos alunos: \")) \n",
    "\n",
    "if notas_alunos >= 9.0 and notas_alunos <= 10.0: \n",
    "    \n",
    "    if faltas <= 20: \n",
    "        \n",
    "        print(\"Conceito: A\") \n",
    "        \n",
    "    else: \n",
    "        \n",
    "        print(\"Conceito: B\")\n",
    "        \n",
    "elif notas_alunos >= 7.5 and notas_alunos <= 8.9: \n",
    "    \n",
    "    if faltas <= 20: \n",
    "        \n",
    "        print(\"Conceito: B\") \n",
    "        \n",
    "    else: \n",
    "        \n",
    "        print(\"Conceito: C\")\n",
    "        \n",
    "elif notas_alunos >= 5.0 and notas_alunos <= 7.4: \n",
    "    \n",
    "    if faltas <= 20: \n",
    "        \n",
    "        print(\"Conceito: C\") \n",
    "        \n",
    "    else: \n",
    "        \n",
    "        print(\"Conceito: D\") \n",
    "        \n",
    "elif notas_alunos >= 4.0 and notas_alunos <= 4.9: \n",
    "    \n",
    "    if faltas <= 20: \n",
    "        \n",
    "        print(\"Conceito: D\") \n",
    "        \n",
    "    else: \n",
    "        \n",
    "        print(\"Conceito: E\") \n",
    "        \n",
    "elif notas_alunos >= 0.0 and notas_alunos <= 3.9:\n",
    "    \n",
    "    if faltas <= 20: \n",
    "        \n",
    "        print(\"Conceito: E\") \n",
    "        \n",
    "    else: \n",
    "        \n",
    "        print(\"Conceito: F\")\n",
    "        "
   ]
  },
  {
   "cell_type": "markdown",
   "id": "d4c8f678",
   "metadata": {},
   "source": [
    "### 35. Leia uma data e determine se ela é válida. Ou seja, verifique se o mês está entre 1 e 12, e se o dia existe naquele mês. Nota que Fevereiro tem 29 dias em anos bissextos, e 28 dias em anos não bissextos"
   ]
  },
  {
   "cell_type": "code",
   "execution_count": 19,
   "id": "721e7e63",
   "metadata": {},
   "outputs": [
    {
     "name": "stdout",
     "output_type": "stream",
     "text": [
      "Informe o dia: 31 \n",
      "Informe o mês: 4\n",
      "Informe o ano: 2023\n",
      "Data Invalida\n"
     ]
    }
   ],
   "source": [
    "dia = int(input(\"Informe o dia: \")) \n",
    "mes = int(input(\"Informe o mês: \")) \n",
    "ano = int(input(\"Informe o ano: \")) \n",
    "\n",
    "bissexto = (ano % 4 == 0 and ano % 100 != 0) or (ano % 400 == 0) \n",
    "\n",
    "dias_por_mes = {\n",
    "    \n",
    "    1: 31, \n",
    "    2: 29 if bissexto else 28, \n",
    "    3: 31, \n",
    "    4: 30, \n",
    "    5: 31, \n",
    "    6: 30, \n",
    "    7: 31, \n",
    "    8: 31, \n",
    "    9: 30, \n",
    "    10: 31, \n",
    "    11: 30, \n",
    "    12: 31\n",
    "}\n",
    "\n",
    "if mes < 1 or mes > 12: \n",
    "    \n",
    "    print(\"Data Invalida\") \n",
    "    \n",
    "elif dia < 1 or dia > dias_por_mes[mes]: \n",
    "    \n",
    "    print(\"Data Invalida\") \n",
    "    \n",
    "else: \n",
    "    \n",
    "    print(\"Data Valida\") "
   ]
  },
  {
   "cell_type": "markdown",
   "id": "695bda19",
   "metadata": {},
   "source": [
    "### 36. Escreva um programa que, dado o valor da venda, imprima a comissão que deverá ser paga ao vendedor. Para calcular a comissão, considere a tabela abaixo: "
   ]
  },
  {
   "cell_type": "markdown",
   "id": "2acf2d2f",
   "metadata": {},
   "source": [
    "Venda mensal | Comissão \n",
    "\n",
    "Maior ou igual a RS 100.000,00 | RS 700.00 + 16% das vendas \n",
    "\n",
    "Menor que RS 100.000,00 e maior ou igual a RS 80.000,00 | RS 650.00 + 14% das vendas \n",
    "\n",
    "Menor que RS 80.000,00 e maior ou igual a RS 60.000,00 | RS 600.00 + 14% das vendas \n",
    "\n",
    "Menor que RS 60.000,00 e maior ou igual a RS 40.000,00 | RS 550.00 + 14% das vendas \n",
    "\n",
    "Menor que RS 40.000,00 e maior ou igual a RS 20.000,00 | RS 500.00 + 14% das vendas \n",
    "\n",
    "Menor que RS 20.000,00 | RS 400.00 + 14% das vendas"
   ]
  },
  {
   "cell_type": "code",
   "execution_count": 27,
   "id": "ccca66da",
   "metadata": {},
   "outputs": [
    {
     "name": "stdout",
     "output_type": "stream",
     "text": [
      "Informe o valor da venda: 85000\n",
      "Comissão é:  12550.00\n"
     ]
    }
   ],
   "source": [
    "valor_venda = float(input(\"Informe o valor da venda: \")) \n",
    "\n",
    "if valor_venda >= 100000: \n",
    "    \n",
    "    comissao = (valor_venda * 0.16) + 700.00\n",
    "    \n",
    "elif valor_venda >= 80000: \n",
    "    \n",
    "    comissao = (valor_venda * 0.14) + 650.00\n",
    "    \n",
    "elif valor_venda >= 60000: \n",
    "    \n",
    "    comissao = (valor_venda * 0.14) + 600.00 \n",
    "    \n",
    "elif valor_venda >= 40000: \n",
    "    \n",
    "    comissao = (valor_venda * 0.14) + 550.00\n",
    "    \n",
    "elif valor_venda >= 20000: \n",
    "    \n",
    "    comissao = (valor_venda * 0.14) + 500.00\n",
    "    \n",
    "else: \n",
    "    \n",
    "    comissao = (valor_venda * 0.14) + 400.00\n",
    "    \n",
    "print(f\"Comissão é: {comissao: .2f}\") "
   ]
  },
  {
   "cell_type": "markdown",
   "id": "0b05ec9d",
   "metadata": {},
   "source": [
    "### 37. As tarifas de certo parque de estacionamento são as seguintes:"
   ]
  },
  {
   "cell_type": "markdown",
   "id": "41160db0",
   "metadata": {},
   "source": [
    "1ª e 2ª hora – R$ 1,00 cada \n",
    "\n",
    "3ª e 4ª hora – R$ 1,40 cada\n",
    "\n",
    "5ª hora e seguintes – R$ 2,00 cada"
   ]
  },
  {
   "cell_type": "markdown",
   "id": "ae51f4b9",
   "metadata": {},
   "source": [
    "### O número de horas a pagar é sempre inteiro e arredondado por excesso. Deste modo, quem estacionar durante 61 minutos pagará por duas horas, que é o mesmo que pagaria se tivesse permanecido 120 minutos. Os momentos de chegada ao parque e partida deste são apresentados na forma de pares de inteiros, representando horas e minutos. Por exemplo, o par 12 50 representará \"dez para a uma da tarde\"."
   ]
  },
  {
   "cell_type": "markdown",
   "id": "d33e6bc0",
   "metadata": {},
   "source": [
    "### Pretende-se criar um programa que, lidos pelo teclado os momentos de chegada e de partida, escreva na tela o preço cobrado pelo estacionamento."
   ]
  },
  {
   "cell_type": "markdown",
   "id": "24ad3b3a",
   "metadata": {},
   "source": [
    "### Admite-se que a chegada e a partida se dão com intervalo não superior a 24 horas. Portanto, se uma dada hora de chegada for superior à da partida, isso não é uma situação de erro, antes significará que a partida ocorreu no dia seguinte ao da chegada."
   ]
  },
  {
   "cell_type": "code",
   "execution_count": 28,
   "id": "7f5a1a99",
   "metadata": {},
   "outputs": [
    {
     "name": "stdout",
     "output_type": "stream",
     "text": [
      "Informe a hora de entrada: 22\n",
      "Informe os minutos de entrada: 30\n",
      "Informe a hora de saída: 1\n",
      "Informe os minutos de saída: 15\n",
      "\n",
      " Tempo total: 165 minutos\n",
      "Horas a pagar (arredondado): 3\n",
      "Valor a ser pago: R$ 3.40\n"
     ]
    }
   ],
   "source": [
    "import math \n",
    "\n",
    "h_entrada = int(input(\"Informe a hora de entrada: \")) \n",
    "m_entrada = int(input(\"Informe os minutos de entrada: \")) \n",
    "h_saida = int(input(\"Informe a hora de saída: \")) \n",
    "m_saida = int(input(\"Informe os minutos de saída: \")) \n",
    "\n",
    "# converte tudo para minutos \n",
    "minutos_entrada = h_entrada * 60 + m_entrada \n",
    "minutos_saida = h_saida * 60 + m_saida \n",
    "\n",
    "if minutos_saida < minutos_entrada: \n",
    "    minutos_saida += 24 * 60 \n",
    "    \n",
    "tempo_total = minutos_saida - minutos_entrada \n",
    "\n",
    "horas_a_pagar = math.ceil(tempo_total / 60) \n",
    "\n",
    "preco = 0.0 \n",
    "\n",
    "if horas_a_pagar >= 1: \n",
    "    \n",
    "    preco += min(horas_a_pagar, 2) * 1.0 \n",
    "    \n",
    "if horas_a_pagar > 2: \n",
    "    \n",
    "    preco += min(horas_a_pagar - 2, 2) * 1.4 \n",
    "    \n",
    "if horas_a_pagar > 4: \n",
    "    \n",
    "    preco += (horas_a_pagar - 4) * 2.0 \n",
    "    \n",
    "print(f\"\\n Tempo total: {tempo_total} minutos\") \n",
    "print(f\"Horas a pagar (arredondado): {horas_a_pagar}\") \n",
    "print(f\"Valor a ser pago: R$ {preco:.2f}\") \n"
   ]
  },
  {
   "cell_type": "markdown",
   "id": "fb55fdd0",
   "metadata": {},
   "source": [
    "### 38. Leia uma data de nascimento de uma pessoa fornecida através de três números inteiros: Dia, Mês e Ano. Teste a validade desta data para saber se esta é uma data válida. Os critérios são:"
   ]
  },
  {
   "cell_type": "markdown",
   "id": "e4989899",
   "metadata": {},
   "source": [
    "O dia deve ser maior que 0. \n",
    "\n",
    "Para o mês de fevereiro: Dia ≤ 28, ou ≤ 29 se o ano for bissexto.\n",
    "    \n",
    "Para os meses de abril, junho, setembro e novembro: Dia ≤ 30. \n",
    "    \n",
    "Para os demais meses: Dia ≤ 31.\n",
    "    \n",
    "O mês deve estar entre 1 e 12.\n",
    "\n",
    "O ano deve ser menor ou igual ao ano atual, definido como 2008 (use uma constante).\n",
    "\n",
    "Ao final, o programa deve imprimir: \"data válida\" ou \"data inválida\"."
   ]
  },
  {
   "cell_type": "code",
   "execution_count": null,
   "id": "add77470",
   "metadata": {},
   "outputs": [],
   "source": [
    "ano_atual = 2008 \n",
    "\n",
    "dia = int(input(\"Informe o dia: \")) \n",
    "mes = int(input(\"Informe o mês: \")) \n",
    "ano = int(input(\"Informe o ano: \")) \n",
    "\n",
    "data_valida = False \n",
    "\n",
    "if ano <= ano_atual and mes >= 1 and mes <= 12 and dia > 0: \n",
    "    \n",
    "    if (ano % 400 == 0) or (ano % 4 == 0 and ano % 100 != 0): \n",
    "        \n",
    "        bissexto = True \n",
    "        \n",
    "    else: \n",
    "        \n",
    "        bissexto = False \n",
    "        \n",
    "    if mes == 2: \n",
    "        \n",
    "        if bissexto and dia <= 29: \n",
    "            \n",
    "            data_valida = True \n",
    "            \n",
    "        elif not bissexto and dia <= 28: \n",
    "            \n",
    "            data_valida = True \n",
    "            \n",
    "    elif mes in [4, 6 , 9, 11]:\n",
    "        \n",
    "        if dia <= 30: \n",
    "            \n",
    "            data_valida = True \n",
    "            \n",
    "    else: \n",
    "        \n",
    "        if dia <= 31: \n",
    "            \n",
    "            data_valida = True \n",
    "            \n",
    "if data_valida: \n",
    "    \n",
    "    print(\"Data válida\") \n",
    "\n",
    "else:\n",
    "    \n",
    "    print(\"Data inválida\")"
   ]
  },
  {
   "cell_type": "markdown",
   "id": "e75d45d8",
   "metadata": {},
   "source": [
    "### 39. Uma empresa decide dar um aumento aos seus funcionários de acordo com uma tabela que considera o salário atual e o tempo de serviço de cada funcionário."
   ]
  },
  {
   "cell_type": "markdown",
   "id": "a377b5d4",
   "metadata": {},
   "source": [
    "### Os funcionários com menor salário terão um aumento proporcionalmente maior do que os funcionários com um salário maior, e conforme o tempo de serviço na empresa, cada funcionário irá receber um bônus adicional de salário. Faça um programa que leia:"
   ]
  },
  {
   "cell_type": "markdown",
   "id": "1e3a8c4c",
   "metadata": {},
   "source": [
    "* O valor do salário atual do funcionário;\n",
    "\n",
    "* O tempo de serviço desse funcionário na empresa (número de anos de trabalho)."
   ]
  },
  {
   "cell_type": "markdown",
   "id": "cddd60b6",
   "metadata": {},
   "source": [
    "### Use as tabelas abaixo para calcular o salário reajustado deste funcionário e imprima o valor do salário final reajustado, ou uma mensagem caso o funcionário não tenha direito a nenhum aumento."
   ]
  },
  {
   "cell_type": "markdown",
   "id": "d4a825ca",
   "metadata": {},
   "source": [
    "Salário Atual | Reajuste (%)\n",
    "\n",
    "Até R$ 500,00 | 25%\n",
    "\n",
    "Até R$ 1.000,00 | 20%\n",
    "\n",
    "Até R$ 1.500,00 | 15%\n",
    "\n",
    "Até R$ 2.000,00 | 10%\n",
    "\n",
    "Acima de R$ 2.000,00 | Sem reajuste\n"
   ]
  },
  {
   "cell_type": "code",
   "execution_count": 29,
   "id": "67c5d787",
   "metadata": {},
   "outputs": [
    {
     "name": "stdout",
     "output_type": "stream",
     "text": [
      "Informe o valor do salário: R$1200\n",
      "Informe o tempo de serviço (em anos)5\n",
      "Salário atual: R$ 1200.00\n",
      "Reajuste: R$ 180.00\n",
      "Bônus: R$ 200.00\n",
      "Salário final reajustado: R$ 1580.00\n"
     ]
    }
   ],
   "source": [
    "salario_atual = float(input(\"Informe o valor do salário: R$\")) \n",
    "tempo_servico = int(input(\"Informe o tempo de serviço (em anos)\")) \n",
    "\n",
    "if salario_atual <= 500: \n",
    "    \n",
    "    reajuste = salario_atual * 0.25 \n",
    "    \n",
    "elif salario_atual <= 1000: \n",
    "    \n",
    "    reajuste = salario_atual * 0.20 \n",
    "    \n",
    "elif salario_atual <= 1500: \n",
    "    \n",
    "    reajuste = salario_atual * 0.15 \n",
    "    \n",
    "elif salario_atual <= 2000: \n",
    "    \n",
    "    reajuste = salario_atual * 0.10 \n",
    "    \n",
    "else: \n",
    "    \n",
    "    reajuste = 0 \n",
    "    \n",
    "## Determinar bônus por tempo de serviço \n",
    "if tempo_servico < 1: \n",
    "    \n",
    "    bonus = 0 \n",
    "    \n",
    "elif 1 <= tempo_servico <= 3: \n",
    "    \n",
    "    bonus = 100 \n",
    "    \n",
    "elif 4 <= tempo_servico <= 6: \n",
    "    \n",
    "    bonus = 200 \n",
    "    \n",
    "elif 7 <= tempo_servico <= 10: \n",
    "    \n",
    "    bonus = 300 \n",
    "    \n",
    "else: \n",
    "    \n",
    "    bonus = 500 \n",
    "    \n",
    "## Verificr se há reajuste ou bônus \n",
    "if reajuste == 0 and bonus == 0: \n",
    "    \n",
    "    print(\"O funcionário não tem direito a aumento.\") \n",
    "    \n",
    "else: \n",
    "    \n",
    "    salario_final = salario_atual + reajuste + bonus \n",
    "    print(f\"Salário atual: R$ {salario_atual:.2f}\") \n",
    "    print(f\"Reajuste: R$ {reajuste:.2f}\") \n",
    "    print(f\"Bônus: R$ {bonus:.2f}\") \n",
    "    print(f\"Salário final reajustado: R$ {salario_final:.2f}\")"
   ]
  },
  {
   "cell_type": "code",
   "execution_count": null,
   "id": "c44213e3",
   "metadata": {},
   "outputs": [],
   "source": []
  }
 ],
 "metadata": {
  "kernelspec": {
   "display_name": "Python 3 (ipykernel)",
   "language": "python",
   "name": "python3"
  },
  "language_info": {
   "codemirror_mode": {
    "name": "ipython",
    "version": 3
   },
   "file_extension": ".py",
   "mimetype": "text/x-python",
   "name": "python",
   "nbconvert_exporter": "python",
   "pygments_lexer": "ipython3",
   "version": "3.9.13"
  }
 },
 "nbformat": 4,
 "nbformat_minor": 5
}

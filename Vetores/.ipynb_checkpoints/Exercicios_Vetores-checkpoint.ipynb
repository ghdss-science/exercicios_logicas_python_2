{
 "cells": [
  {
   "cell_type": "markdown",
   "id": "e3b0ceba",
   "metadata": {},
   "source": [
    "### Lista de Exercícios (Vetores)"
   ]
  },
  {
   "cell_type": "markdown",
   "id": "54c9e28d",
   "metadata": {},
   "source": [
    "#### 1. Faça um programa que possua um vetor denominado A que armazene 6 números inteiros. O programa deve executar os seguintes passos:"
   ]
  },
  {
   "cell_type": "markdown",
   "id": "305b5bc1",
   "metadata": {},
   "source": [
    "(a) Atribua os seguintes valores a esse vetor: 1, 0, 5, -2, -5, 7.\n",
    "\n",
    "(b) Armazene em uma variável inteira (simples) a soma entre os valores das posições A[0], A[1] e A[5] do vetor e mostre na tela esta soma.\n",
    "\n",
    "(c) Modifique o vetor na posição 4, atribuindo a esta posição o valor 100.\n",
    "\n",
    "(d) Mostre na tela cada valor do vetor A, um em cada linha.\n",
    "\n"
   ]
  },
  {
   "cell_type": "code",
   "execution_count": 1,
   "id": "924e04fa",
   "metadata": {},
   "outputs": [
    {
     "name": "stdout",
     "output_type": "stream",
     "text": [
      "Somatório das posições 0, 1 e 5; 8\n",
      "\n",
      " Valores do Vetor A: \n",
      "A[0] = 1\n",
      "A[1] = 0\n",
      "A[2] = 5\n",
      "A[3] = -2\n",
      "A[4] = 100\n",
      "A[5] = 7\n"
     ]
    }
   ],
   "source": [
    "# (a) Atribuindo os valores fixos ao vetor\n",
    "A = [1, 0, 5, -2, -5, 7]\n",
    "\n",
    "# (b) Somando os valores das posições 0, 1 e 5\n",
    "soma = A[0] + A[1] + A[5]\n",
    "print(\"Somatório das posições 0, 1 e 5;\", soma) \n",
    "\n",
    "# (c) Modificando o valor da posição 4 \n",
    "A[4] = 100 \n",
    "\n",
    "# (d) Mostrando cada valor do vetor A em uma linha \n",
    "print(\"\\n Valores do Vetor A: \")\n",
    "for i in range(len(A)): \n",
    "    \n",
    "    print(f\"A[{i}] = {A[i]}\")"
   ]
  },
  {
   "cell_type": "markdown",
   "id": "984c9eaf",
   "metadata": {},
   "source": [
    "#### 2. Crie um programa que leia 6 valores inteiros e, em seguida, mostre na tela os valores lidos."
   ]
  },
  {
   "cell_type": "code",
   "execution_count": 3,
   "id": "74239c61",
   "metadata": {},
   "outputs": [
    {
     "name": "stdout",
     "output_type": "stream",
     "text": [
      "Informe o 1 o número: 9\n",
      "Informe o 2 o número: 5\n",
      "Informe o 3 o número: 1\n",
      "Informe o 4 o número: 2\n",
      "Informe o 5 o número: 48\n",
      "Informe o 6 o número: 72\n",
      "\n",
      " Valores  Lidos\n",
      "Número 1: 9\n",
      "Número 2: 5\n",
      "Número 3: 1\n",
      "Número 4: 2\n",
      "Número 5: 48\n",
      "Número 6: 72\n"
     ]
    }
   ],
   "source": [
    "numeros = [] \n",
    "\n",
    "## Leitura de 6 valores inteiros \n",
    "for i in range(6): \n",
    "    \n",
    "    num = int(input(f\"Informe o {i + 1} o número: \")) \n",
    "    numeros.append(num) \n",
    "    \n",
    "## Exibição dos valores lidos \n",
    "print(\"\\n Valores  Lidos\") \n",
    "for i in range(6): \n",
    "    \n",
    "    print(f\"Número {i + 1}: {numeros[i]}\") "
   ]
  },
  {
   "cell_type": "markdown",
   "id": "b58fb2ef",
   "metadata": {},
   "source": [
    "#### 3 - Ler um conjunto de números reais, armazenando-o em vetor e calcular o quadrado das componentes deste vetor, armazenando o resultado em outro vetor. Os conjuntos têm 10 elementos cada. Imprimir todos os conjuntos."
   ]
  },
  {
   "cell_type": "code",
   "execution_count": 9,
   "id": "6d00ff67",
   "metadata": {},
   "outputs": [],
   "source": [
    "def processar_numeros_e_quadrados(): \n",
    "    \n",
    "    # Vetor para armazenar os números originais \n",
    "    numeros = [] \n",
    "    \n",
    "    # Vetor para armazenar os quadrados dos números \n",
    "    quadrados = [] \n",
    "    \n",
    "    print(\"Entrada dos Números Reais\") \n",
    "    for i in range(10): ## Loop para ler 10 elementos (índices de 0 a 9)\n",
    "        \n",
    "        while True: \n",
    "            \n",
    "            try: \n",
    "                \n",
    "                # Solicita um número real ao usuário \n",
    "                entrada = float(input(f\"Informe o {i + 1} o número real do conjunto: \"))\n",
    "                numeros.append(entrada) \n",
    "                \n",
    "                # Calcula o quadrado e adiciona ao vetor de quadrados \n",
    "                quadrados.append(entrada ** 2) \n",
    "                \n",
    "                # Sai do loop se a entrada for válida \n",
    "                break \n",
    "                \n",
    "            except ValueError: \n",
    "                \n",
    "                print(\"Entrada ínválida. Por Favor, digite um número real.\") \n",
    "                \n",
    "    print(\"\\n --- Impressão dos conjuntos ---\") \n",
    "    \n",
    "    print(\"\\n Conjunto Original (Números): \") \n",
    "    for i, num, in enumerate(numeros):\n",
    "        \n",
    "        # Imprime com 2 casas decimais \n",
    "        print(f\"Número na posição {i}: {num:.2f}\")\n",
    "        \n",
    "    print(\"\\n Conjunto dos quadrados: \")\n",
    "    for i, quad in enumerate(quadrados): \n",
    "        \n",
    "        # Imprime com 2 casas decimais\n",
    "        print(f\"Quadrado na posição {i}: {quad:.2f}\")\n",
    "        \n"
   ]
  },
  {
   "cell_type": "code",
   "execution_count": 17,
   "id": "b3b523b7",
   "metadata": {},
   "outputs": [],
   "source": [
    "# Chama a função principal para executar o programa\n",
    "if __name__== \"main\": \n",
    "    processar_numeros_e_quadrados()"
   ]
  },
  {
   "cell_type": "code",
   "execution_count": 18,
   "id": "6532f47c",
   "metadata": {},
   "outputs": [
    {
     "name": "stdout",
     "output_type": "stream",
     "text": [
      "Entrada dos Números Reais\n",
      "Informe o 1 o número real do conjunto: 7\n",
      "Informe o 2 o número real do conjunto: 8\n",
      "Informe o 3 o número real do conjunto: 9\n",
      "Informe o 4 o número real do conjunto: 4\n",
      "Informe o 5 o número real do conjunto: 5\n",
      "Informe o 6 o número real do conjunto: 6\n",
      "Informe o 7 o número real do conjunto: 1\n",
      "Informe o 8 o número real do conjunto: 2\n",
      "Informe o 9 o número real do conjunto: 3\n",
      "Informe o 10 o número real do conjunto: 56\n",
      "\n",
      " --- Impressão dos conjuntos ---\n",
      "\n",
      " Conjunto Original (Números): \n",
      "Número na posição 0: 7.00\n",
      "Número na posição 1: 8.00\n",
      "Número na posição 2: 9.00\n",
      "Número na posição 3: 4.00\n",
      "Número na posição 4: 5.00\n",
      "Número na posição 5: 6.00\n",
      "Número na posição 6: 1.00\n",
      "Número na posição 7: 2.00\n",
      "Número na posição 8: 3.00\n",
      "Número na posição 9: 56.00\n",
      "\n",
      " Conjunto dos quadrados: \n",
      "Quadrado na posição 0: 49.00\n",
      "Quadrado na posição 1: 64.00\n",
      "Quadrado na posição 2: 81.00\n",
      "Quadrado na posição 3: 16.00\n",
      "Quadrado na posição 4: 25.00\n",
      "Quadrado na posição 5: 36.00\n",
      "Quadrado na posição 6: 1.00\n",
      "Quadrado na posição 7: 4.00\n",
      "Quadrado na posição 8: 9.00\n",
      "Quadrado na posição 9: 3136.00\n"
     ]
    }
   ],
   "source": [
    "processar_numeros_e_quadrados()"
   ]
  },
  {
   "cell_type": "markdown",
   "id": "a334503d",
   "metadata": {},
   "source": [
    "#### 4. Faça um programa que leia um vetor de 8 posições e, em seguida, leia também dois vetores X e Y qualquer correspondentes a duas posições no vetor. Ao final seu programa deverá escrever a soma dos valores encontrados nas respectivas posições X e Y \n"
   ]
  },
  {
   "cell_type": "code",
   "execution_count": 1,
   "id": "f819dee9",
   "metadata": {},
   "outputs": [],
   "source": [
    "def somar_valores_em_posicoes_especificas():\n",
    "    \"\"\"\n",
    "        Lê um vetor principal de 8 posições,\n",
    "        em seguida, lê duas posições (índices) X e Y,\n",
    "        e por fim, imprime a soma dos valores nessas posições.\n",
    "    \"\"\"\n",
    "    vetor_principal = [] # Lista para armazenar o vetor principal de 8 posições\n",
    "\n",
    "    print(\"--- Preenchimento do Vetor Principal (8 posições) ---\")\n",
    "    for i in range(8): # Loop para ler 8 elementos (índices de 0 a 7)\n",
    "        \n",
    "        while True:\n",
    "            \n",
    "            try:\n",
    "                \n",
    "                # Solicita um número inteiro ao usuário\n",
    "                entrada = int(input(f\"Informe o {i + 1}º número inteiro para o vetor: \"))\n",
    "                vetor_principal.append(entrada)\n",
    "                \n",
    "                break # Sai do loop se a entrada for válida\n",
    "                \n",
    "            except ValueError:\n",
    "                \n",
    "                print(\"Entrada inválida. Por favor, digite um número inteiro.\")\n",
    "    \n",
    "    # --- PONTO DE VERIFICAÇÃO ---\n",
    "    \n",
    "    print(f\"Vetor principal preenchido: {vetor_principal}\")\n",
    "    \n",
    "    print(f\"Tamanho do vetor principal: {len(vetor_principal)}\")\n",
    "    \n",
    "    # --- FIM DO PONTO DE VERIFICAÇÃO ---\n",
    "\n",
    "    print(\"\\n--- Informe as Posições para a Soma ---\")\n",
    "\n",
    "    # Lê a primeira posição (X) e valida\n",
    "    \n",
    "    while True:\n",
    "        \n",
    "        try:\n",
    "            \n",
    "            posicao_x = int(input(\"Informe a primeira posição (0 a 7): \"))\n",
    "            \n",
    "            if 0 <= posicao_x < len(vetor_principal): # Verifica se a posição está dentro dos limites\n",
    "                \n",
    "                break\n",
    "                \n",
    "            else:\n",
    "                \n",
    "                print(\"Posição inválida. Digite um número entre 0 e 7.\")\n",
    "                \n",
    "        except ValueError:\n",
    "            \n",
    "            print(\"Entrada inválida. Por favor, digite um número inteiro para a posição.\")\n",
    "\n",
    "    # Lê a segunda posição (Y) e valida\n",
    "    while True:\n",
    "        \n",
    "        try:\n",
    "            \n",
    "            posicao_y = int(input(\"Informe a segunda posição (0 a 7): \"))\n",
    "            \n",
    "            if 0 <= posicao_y < len(vetor_principal): # Verifica se a posição está dentro dos limites\n",
    "                \n",
    "                break\n",
    "                \n",
    "            else:\n",
    "                \n",
    "                print(\"Posição inválida. Digite um número entre 0 e 7.\")\n",
    "                \n",
    "        except ValueError:\n",
    "            \n",
    "            print(\"Entrada inválida. Por favor, digite um número inteiro para a posição.\")\n",
    "\n",
    "    # Calcula os valores nas posições e a soma\n",
    "    valor_x = vetor_principal[posicao_x]\n",
    "    valor_y = vetor_principal[posicao_y]\n",
    "    soma_dos_valores_nas_posicoes = valor_x + valor_y\n",
    "\n",
    "    # Imprime o resultado\n",
    "    print(\"\\n--- Resultado da Soma ---\")\n",
    "    print(f\"O valor na posição {posicao_x} é: {valor_x}\")\n",
    "    print(f\"O valor na posição {posicao_y} é: {valor_y}\")\n",
    "    print(f\"A soma dos valores nas posições {posicao_x} e {posicao_y} é: {soma_dos_valores_nas_posicoes}\")                "
   ]
  },
  {
   "cell_type": "code",
   "execution_count": 3,
   "id": "62505805",
   "metadata": {},
   "outputs": [
    {
     "name": "stdout",
     "output_type": "stream",
     "text": [
      "--- Preenchimento do Vetor Principal (8 posições) ---\n",
      "Informe o 1º número inteiro para o vetor: 8\n",
      "Informe o 2º número inteiro para o vetor: 9\n",
      "Informe o 3º número inteiro para o vetor: 4\n",
      "Informe o 4º número inteiro para o vetor: 0\n",
      "Informe o 5º número inteiro para o vetor: 5\n",
      "Informe o 6º número inteiro para o vetor: 6\n",
      "Informe o 7º número inteiro para o vetor: 78\n",
      "Informe o 8º número inteiro para o vetor: 5\n",
      "Vetor principal preenchido: [8, 9, 4, 0, 5, 6, 78, 5]\n",
      "Tamanho do vetor principal: 8\n",
      "\n",
      "--- Informe as Posições para a Soma ---\n",
      "Informe a primeira posição (0 a 7): 6\n",
      "Informe a segunda posição (0 a 7): 5\n",
      "\n",
      "--- Resultado da Soma ---\n",
      "O valor na posição 6 é: 78\n",
      "O valor na posição 5 é: 6\n",
      "A soma dos valores nas posições 6 e 5 é: 84\n"
     ]
    }
   ],
   "source": [
    "# Chama a função principal para executar o programa\n",
    "somar_valores_em_posicoes_especificas()  "
   ]
  },
  {
   "cell_type": "markdown",
   "id": "2534bd9f",
   "metadata": {},
   "source": [
    "#### 5. Leia um vetor de 10 posições. Contar e escrever quantos valores pares ele possui.\""
   ]
  },
  {
   "cell_type": "code",
   "execution_count": 4,
   "id": "926595dd",
   "metadata": {},
   "outputs": [
    {
     "name": "stdout",
     "output_type": "stream",
     "text": [
      "Informe o 1 número inteiro: 8\n",
      "Informe o 2 número inteiro: 9\n",
      "Informe o 3 número inteiro: 4\n",
      "Informe o 4 número inteiro: 2\n",
      "Informe o 5 número inteiro: 3\n",
      "Informe o 6 número inteiro: 5\n",
      "Informe o 7 número inteiro: 12\n",
      "Informe o 8 número inteiro: 23\n",
      "Informe o 9 número inteiro: 19\n",
      "Informe o 10 número inteiro: 78\n",
      "O conjunto de números lidos foi: [8, 9, 4, 2, 3, 5, 12, 23, 19, 78]\n",
      "Quantidade de Valores Pares: 5\n"
     ]
    }
   ],
   "source": [
    "def contar_pares_em_vetor(): \n",
    "    \n",
    "    numeros = []\n",
    "    contador_pares = 0 \n",
    "    \n",
    "    for i in range(10): \n",
    "        \n",
    "        while True:\n",
    "            \n",
    "            try:\n",
    "                \n",
    "                entrada = int(input(f\"Informe o {i + 1} número inteiro: \"))\n",
    "                numeros.append(entrada) \n",
    "                \n",
    "                break \n",
    "                \n",
    "            except ValueError:\n",
    "                \n",
    "                print(\"Entrada inválida. Por favor, digite um número inteiro\")\n",
    "                \n",
    "    for num in numeros: \n",
    "        \n",
    "        if num % 2 == 0:\n",
    "            \n",
    "            contador_pares += 1\n",
    "            \n",
    "    print(f\"O conjunto de números lidos foi: {numeros}\")\n",
    "    print(f\"Quantidade de Valores Pares: {contador_pares}\")\n",
    "    \n",
    "if __name__ == \"__main__\": \n",
    "    \n",
    "    contar_pares_em_vetor()"
   ]
  },
  {
   "cell_type": "markdown",
   "id": "0c70ce51",
   "metadata": {},
   "source": [
    "#### 6. Faça um programa que receba do usuário um vetor com 10 posições. Em seguida deverá ser impresso o maior e o menor elemento do vetor."
   ]
  },
  {
   "cell_type": "code",
   "execution_count": 2,
   "id": "080a9b0d",
   "metadata": {},
   "outputs": [
    {
     "name": "stdout",
     "output_type": "stream",
     "text": [
      "Informe o 1 o número: 7\n",
      "Informe o 2 o número: 8\n",
      "Informe o 3 o número: 6\n",
      "Informe o 4 o número: 3\n",
      "Informe o 5 o número: 4\n",
      "Informe o 6 o número: 6\n",
      "Informe o 7 o número: 9\n",
      "Informe o 8 o número: 2\n",
      "Informe o 9 o número: 9\n",
      "Informe o 10 o número: 4\n",
      "O vetor lido foi: [7.0, 8.0, 6.0, 3.0, 4.0, 6.0, 9.0, 2.0, 9.0, 4.0]\n",
      "Maior número: 9.00\n",
      "Menor número: 2.00\n"
     ]
    }
   ],
   "source": [
    "numeros = []\n",
    "\n",
    "for i in range(10):\n",
    "\n",
    "    while True:\n",
    "\n",
    "        try: \n",
    "\n",
    "            entrada = float(input(f\"Informe o {i + 1} o número: \"))\n",
    "            numeros.append(entrada) \n",
    "\n",
    "            break\n",
    "\n",
    "        except ValueError: \n",
    "\n",
    "            print(\"Entrada inválida. Por favor, digite um número total\")\n",
    "\n",
    "if not numeros: \n",
    "    \n",
    "    print(\"Nenhum número foi inserido no vetor.\") \n",
    "\n",
    "maior_elemento = max(numeros) \n",
    "menor_elemento = min(numeros)\n",
    "\n",
    "print(f\"O vetor lido foi: {numeros}\") \n",
    "print(f\"Maior número: {maior_elemento:.2f}\")\n",
    "print(f\"Menor número: {menor_elemento:.2f}\")"
   ]
  },
  {
   "cell_type": "markdown",
   "id": "058c0dc1",
   "metadata": {},
   "source": [
    "#### 7. Escreva um programa que leia 10 números inteiros e os armazene em um vetor. Imprima o vetor, o maior elemento e a posição que ele se encontra."
   ]
  },
  {
   "cell_type": "code",
   "execution_count": 4,
   "id": "2271b792",
   "metadata": {},
   "outputs": [
    {
     "name": "stdout",
     "output_type": "stream",
     "text": [
      "Informe o 1 o número: 15\n",
      "Informe o 2 o número: 22\n",
      "Informe o 3 o número: 8\n",
      "Informe o 4 o número: 30\n",
      "Informe o 5 o número: 7\n",
      "Informe o 6 o número: 12\n",
      "Informe o 7 o número: 9\n",
      "Informe o 8 o número: 30\n",
      "Informe o 9 o número: 4\n",
      "Informe o 10 o número: 10\n",
      "\n",
      " Valores informados: \n",
      "Posição [0] = 15\n",
      "Posição [1] = 22\n",
      "Posição [2] = 8\n",
      "Posição [3] = 30\n",
      "Posição [4] = 7\n",
      "Posição [5] = 12\n",
      "Posição [6] = 9\n",
      "Posição [7] = 30\n",
      "Posição [8] = 4\n",
      "Posição [9] = 10\n",
      "\n",
      " Maior número: 30\n",
      "Posição do maior número: 3\n"
     ]
    }
   ],
   "source": [
    "# Lista para armazenar os números \n",
    "numeros = [] \n",
    "\n",
    "# Leitura dos 10 números inteiros\n",
    "for i in range(10): \n",
    "    \n",
    "    num = int(input(f\"Informe o {i + 1} o número: \")) \n",
    "    numeros.append(num) \n",
    "    \n",
    "# Inicialização do maior valor e sua posição \n",
    "maior = numeros[0] \n",
    "posicao = 0\n",
    "\n",
    "## Verifica o maior número e a posição \n",
    "for i in range(1, len(numeros)): \n",
    "    \n",
    "    if numeros[i] > maior: \n",
    "        \n",
    "        maior = numeros[i] \n",
    "        posicao = i \n",
    "        \n",
    "## Impressão dos valores\n",
    "print(\"\\n Valores informados: \") \n",
    "for i, valor in enumerate(numeros): \n",
    "    \n",
    "    print(f\"Posição [{i}] = {valor}\") \n",
    "    \n",
    "print(f\"\\n Maior número: {maior}\") \n",
    "print(f\"Posição do maior número: {posicao}\")"
   ]
  },
  {
   "cell_type": "markdown",
   "id": "21bcf811",
   "metadata": {},
   "source": [
    "### 8. Crie um programa que lê 6 valores inteiros e, em seguida, mostre na tela os valores lidos na ordem inversa."
   ]
  },
  {
   "cell_type": "code",
   "execution_count": 1,
   "id": "029daa11",
   "metadata": {},
   "outputs": [
    {
     "name": "stdout",
     "output_type": "stream",
     "text": [
      "Informe o 1 o número: 10\n",
      "Informe o 2 o número: 20\n",
      "Informe o 3 o número: 30\n",
      "Informe o 4 o número: 40\n",
      "Informe o 5 o número: 50\n",
      "Informe o 6 o número: 60\n",
      "\n",
      " Ordem inversa: \n",
      "Ordem [5] = 60\n",
      "Ordem [4] = 50\n",
      "Ordem [3] = 40\n",
      "Ordem [2] = 30\n",
      "Ordem [1] = 20\n",
      "Ordem [0] = 10\n"
     ]
    }
   ],
   "source": [
    "# Lista para armazenar os números \n",
    "numeros = []\n",
    "\n",
    "# Leitura dos 6 valores inteiros\n",
    "for i in range(6):\n",
    "    \n",
    "    num = int(input(f\"Informe o {i + 1} o número: \")) \n",
    "    numeros.append(num) \n",
    "    \n",
    "print(\"\\n Ordem inversa: \") \n",
    "\n",
    "# Impressão dos valores em ordem inversa \n",
    "for i in range(5, -1, -1): \n",
    "    \n",
    "    print(f\"Ordem [{i}] = {numeros[i]}\") "
   ]
  },
  {
   "cell_type": "markdown",
   "id": "ff1982c5",
   "metadata": {},
   "source": [
    "#### 9. Escreva um algoritmo que leia 20 números do usuário e armazene em um vetor. Em seguida, exiba os números que estão nos índices pares do vetor."
   ]
  },
  {
   "cell_type": "code",
   "execution_count": 2,
   "id": "51f65f7a",
   "metadata": {},
   "outputs": [
    {
     "name": "stdout",
     "output_type": "stream",
     "text": [
      "Informe o 1 o número: 36\n",
      "Informe o 2 o número: 45\n",
      "Informe o 3 o número: 23\n",
      "Informe o 4 o número: 145\n",
      "Informe o 5 o número: 78\n",
      "Informe o 6 o número: 85\n",
      "Informe o 7 o número: 203\n",
      "Informe o 8 o número: 156\n",
      "Informe o 9 o número: 789\n",
      "Informe o 10 o número: 456\n",
      "Informe o 11 o número: 123\n",
      "Informe o 12 o número: 69\n",
      "Informe o 13 o número: 32\n",
      "Informe o 14 o número: 47\n",
      "Informe o 15 o número: 66\n",
      "Informe o 16 o número: 99\n",
      "Informe o 17 o número: 106\n",
      "Informe o 18 o número: 869\n",
      "Informe o 19 o número: 1023\n",
      "Informe o 20 o número: 547\n",
      "\n",
      " Números nos índices pares: \n",
      "Índice [0] = 36\n",
      "Índice [2] = 23\n",
      "Índice [4] = 78\n",
      "Índice [6] = 203\n",
      "Índice [8] = 789\n",
      "Índice [10] = 123\n",
      "Índice [12] = 32\n",
      "Índice [14] = 66\n",
      "Índice [16] = 106\n",
      "Índice [18] = 1023\n"
     ]
    }
   ],
   "source": [
    "# Lista para armazenar os números \n",
    "numeros = []\n",
    "\n",
    "# Leitura dos 6 valores inteiros\n",
    "for i in range(20):\n",
    "    \n",
    "    num = int(input(f\"Informe o {i + 1} o número: \")) \n",
    "    numeros.append(num) \n",
    "    \n",
    "print(\"\\n Números nos índices pares: \") \n",
    "\n",
    "# Impressão dos elementos nos índices pares\n",
    "for i in range(0, 20, 2): \n",
    "    \n",
    "    print(f\"Índice [{i}] = {numeros[i]}\")"
   ]
  },
  {
   "cell_type": "markdown",
   "id": "a6127b1b",
   "metadata": {},
   "source": [
    "#### 10. Faça um programa para ler a nota da prova de 15 alunos e armazene num vetor, calcule e imprima a média geral."
   ]
  },
  {
   "cell_type": "code",
   "execution_count": 5,
   "id": "690b5892",
   "metadata": {},
   "outputs": [
    {
     "name": "stdout",
     "output_type": "stream",
     "text": [
      "Informe a nota do aluno 1: 9.3\n",
      "Informe a nota do aluno 2: 8.5\n",
      "Informe a nota do aluno 3: 6.9\n",
      "Informe a nota do aluno 4: 7.1\n",
      "Informe a nota do aluno 5: 9.9\n",
      "Informe a nota do aluno 6: 4.5\n",
      "Informe a nota do aluno 7: 5.9\n",
      "Informe a nota do aluno 8: 7.8\n",
      "Informe a nota do aluno 9: 6.5\n",
      "Informe a nota do aluno 10: 8.9\n",
      "Informe a nota do aluno 11: 7.4\n",
      "Informe a nota do aluno 12: 8.6\n",
      "Informe a nota do aluno 13: 6.6\n",
      "Informe a nota do aluno 14: 4.5\n",
      "Informe a nota do aluno 15: 8.2\n",
      "Média geral da turma: 7.37\n"
     ]
    }
   ],
   "source": [
    "# Lista para armazenar os números \n",
    "notas = []\n",
    "\n",
    "# Leitura dos 15 valores inteiros\n",
    "for i in range(15):\n",
    "    \n",
    "    nota = float(input(f\"Informe a nota do aluno {i + 1}: \")) \n",
    "    notas.append(nota) \n",
    "    \n",
    "soma = sum(notas) \n",
    "media = soma / len(notas)\n",
    "\n",
    "print(f\"Média geral da turma: {media:.2f}\")"
   ]
  },
  {
   "cell_type": "markdown",
   "id": "6e390f1d",
   "metadata": {},
   "source": [
    "notas = []: cria uma lista vazia.\n",
    "\n",
    "range(15): faz o loop de 0 a 14 (total de 15 alunos).\n",
    "\n",
    "input(...): lê a nota como string e converte para float.\n",
    "\n",
    "sum(notas): soma todos os valores da lista.\n",
    "\n",
    "len(notas): retorna o número de elementos na lista (ou seja, 15).\n",
    "\n",
    "media = soma / len(notas): calcula a média.\n",
    "\n",
    "print(...): exibe a média com 2 casas decimais."
   ]
  },
  {
   "cell_type": "markdown",
   "id": "8a95d41c",
   "metadata": {},
   "source": [
    "#### 11. Faça um programa que preencha um vetor com 10 números reais, calcule e mostre a quantidade de números negativos e a soma dos números positivos desse vetor."
   ]
  },
  {
   "cell_type": "code",
   "execution_count": 7,
   "id": "daa74f0c",
   "metadata": {},
   "outputs": [
    {
     "name": "stdout",
     "output_type": "stream",
     "text": [
      "Informe o 1 o número: 7\n",
      "Informe o 2 o número: 8\n",
      "Informe o 3 o número: 9\n",
      "Informe o 4 o número: 4\n",
      "Informe o 5 o número: 56\n",
      "Informe o 6 o número: 123\n",
      "Informe o 7 o número: -9\n",
      "Informe o 8 o número: -52\n",
      "Informe o 9 o número: -63\n",
      "Informe o 10 o número: -412\n",
      "Quantidade de números negativos: 4\n",
      "Soma dos números positivos: 207.00\n"
     ]
    }
   ],
   "source": [
    "# Lista para armazenar os números \n",
    "numeros = []\n",
    "\n",
    "# Leitura dos 10 valores inteiros\n",
    "for i in range(10):\n",
    "    \n",
    "    numero = int(input(f\"Informe o {i + 1} o número: \")) \n",
    "    numeros.append(numero) \n",
    "    \n",
    "quant_negativos = 0 \n",
    "soma_positivos = 0 \n",
    "\n",
    "for num in numeros: \n",
    "    \n",
    "    if num < 0: \n",
    "        \n",
    "        quant_negativos += 1\n",
    "    \n",
    "    elif num > 0:\n",
    "    \n",
    "        soma_positivos += num \n",
    "        \n",
    "print(f\"Quantidade de números negativos: {quant_negativos}\") \n",
    "print(f\"Soma dos números positivos: {soma_positivos:.2f}\")"
   ]
  },
  {
   "cell_type": "markdown",
   "id": "a10477ff",
   "metadata": {},
   "source": [
    "#### 12. Escreva um programa que leia 10 números inteiros e os armazene em um vetor. Imprima o vetor, o maior elemento e a posição que ele se encontra."
   ]
  },
  {
   "cell_type": "code",
   "execution_count": 11,
   "id": "554c689e",
   "metadata": {},
   "outputs": [
    {
     "name": "stdout",
     "output_type": "stream",
     "text": [
      "Informe o 1 o número: 5\n",
      "Informe o 2 o número: 6\n",
      "Informe o 3 o número: 9\n",
      "Informe o 4 o número: 78\n",
      "Informe o 5 o número: 23\n",
      "Informe o 6 o número: 15\n",
      "Informe o 7 o número: 69\n",
      "Informe o 8 o número: 498\n",
      "Informe o 9 o número: 12\n",
      "Informe o 10 o número: 2\n",
      "\n",
      " Vetor informado: \n",
      "[0] = 5\n",
      "[1] = 6\n",
      "[2] = 9\n",
      "[3] = 78\n",
      "[4] = 23\n",
      "[5] = 15\n",
      "[6] = 69\n",
      "[7] = 498\n",
      "[8] = 12\n",
      "[9] = 2\n",
      "\n",
      " Maior número: 498\n",
      "Posição do maior número: 7\n"
     ]
    }
   ],
   "source": [
    "## Lista para armazenar os números \n",
    "numeros = []\n",
    "\n",
    "# Leitura dos 10 valores inteiros\n",
    "for i in range(10):\n",
    "    \n",
    "    numero = int(input(f\"Informe o {i + 1} o número: \")) \n",
    "    numeros.append(numero) \n",
    "    \n",
    "#Inicializa maior posição \n",
    "maior = numeros[0]\n",
    "posicao_senior = 0 \n",
    "\n",
    "# Verifica o maior número e sua posição \n",
    "for i in range(1, len(numeros)): \n",
    "    \n",
    "    if numeros[i] > maior: \n",
    "        \n",
    "        maior = numeros[i] \n",
    "        posicao_maior = i\n",
    "        \n",
    "# Impressão do vetor \n",
    "print(\"\\n Vetor informado: \") \n",
    "for i, num in enumerate(numeros): \n",
    "    \n",
    "    print(f\"[{i}] = {num}\")\n",
    "    \n",
    "# Resultado final \n",
    "print(f\"\\n Maior número: {maior}\") \n",
    "print(f\"Posição do maior número: {posicao_maior}\")"
   ]
  },
  {
   "cell_type": "markdown",
   "id": "6658f080",
   "metadata": {},
   "source": [
    "#### 13. Faça um programa que leia um vetor de 5 posições para números reais e, depois, um código inteiro. Se o código for 0, finalize o programa; se for 1, imprima o vetor na ordem direta; se for 2, imprima na ordem inversa. Caso o código for diferente de 0, 1 ou 2, escreva uma mensagem informando que o código é inválido. "
   ]
  },
  {
   "cell_type": "code",
   "execution_count": 13,
   "id": "e34c77db",
   "metadata": {},
   "outputs": [
    {
     "name": "stdout",
     "output_type": "stream",
     "text": [
      "Informe o 1 o número: 7\n",
      "Informe o 2 o número: 8\n",
      "Informe o 3 o número: 9\n",
      "Informe o 4 o número: 4\n",
      "Informe o 5 o número: 5\n",
      "Informe o código (0 = sair, 1 = ordem direta, 2 = ordem inversa): 1\n",
      "Vetor na ordem direta: \n",
      "Posição[0]: 7.00\n",
      "Posição[1]: 8.00\n",
      "Posição[2]: 9.00\n",
      "Posição[3]: 4.00\n",
      "Posição[4]: 5.00\n"
     ]
    }
   ],
   "source": [
    "numeros = [] \n",
    "\n",
    "# Leitura dos 5 números reais\n",
    "for i in range(5): \n",
    "    \n",
    "    valor = float(input(f\"Informe o {i + 1} o número: \")) \n",
    "    numeros.append(valor) \n",
    "    \n",
    "# Leitura do código \n",
    "codigo = int(input(\"Informe o código (0 = sair, 1 = ordem direta, 2 = ordem inversa): \")) \n",
    "\n",
    "# Verificação do código\n",
    "if codigo == 0:\n",
    "    \n",
    "    print(\"Programa finalizado.\")\n",
    "    \n",
    "elif codigo == 1: \n",
    "    \n",
    "    print(\"Vetor na ordem direta: \")\n",
    "    \n",
    "    for i in range(len(numeros)): \n",
    "        \n",
    "        print(f\"Posição[{i}]: {numeros[i]:.2f}\") \n",
    "        \n",
    "elif codigo == 2: \n",
    "    \n",
    "    print(\"Vetor na ordem inversa: \")\n",
    "    \n",
    "    for i in range(len(numeros)-1, -1, -1):\n",
    "        \n",
    "        print(f\"Posição [{i}]: {numeros[i]:.2f}\")\n",
    "        \n",
    "else: \n",
    "    \n",
    "    print(\"Código inválido.\")"
   ]
  },
  {
   "cell_type": "markdown",
   "id": "cc67cc36",
   "metadata": {},
   "source": [
    "#### 14. Faça um programa que leia um vetor de 10 posições e verifique se existem valores iguais e os escreva na tela."
   ]
  },
  {
   "cell_type": "code",
   "execution_count": 1,
   "id": "e98b8e94",
   "metadata": {},
   "outputs": [
    {
     "name": "stdout",
     "output_type": "stream",
     "text": [
      "Informe o 0 o número: 10\n",
      "Informe o 1 o número: 20\n",
      "Informe o 2 o número: 30\n",
      "Informe o 3 o número: 10\n",
      "Informe o 4 o número: 40\n",
      "Informe o 5 o número: 20\n",
      "Informe o 6 o número: 60\n",
      "Informe o 7 o número: 70\n",
      "Informe o 8 o número: 10\n",
      "Informe o 9 o número: 90\n",
      "Número repetido: 10.00 - Aparece 3 vezes nas posições: [0, 3, 8]\n",
      "Número repetido: 20.00 - Aparece 2 vezes nas posições: [1, 5]\n"
     ]
    }
   ],
   "source": [
    "numeros = []\n",
    "\n",
    "# Leitura dos números\n",
    "for i in range(10): \n",
    "    \n",
    "    num = float(input(f\"Informe o {i} o número: \"))\n",
    "    numeros.append(num) \n",
    "    \n",
    "repetido = False\n",
    "\n",
    "# Verificação de números repetidos\n",
    "for i in range(len(numeros)): \n",
    "    \n",
    "    ja_verificado = False \n",
    "    \n",
    "    # Verifica se o número já foi checado antes\n",
    "    for k in range(i):\n",
    "        \n",
    "        if numeros[i] == numeros[k]:\n",
    "            \n",
    "            ja_verificado = True \n",
    "            break\n",
    "            \n",
    "    if ja_verificado: \n",
    "        continue\n",
    "        \n",
    "    count = 1\n",
    "    posicoes = [i]\n",
    "    \n",
    "    for j in range(i + 1, len(numeros)): \n",
    "        \n",
    "        if numeros[i] == numeros[j]:\n",
    "            \n",
    "            count += 1\n",
    "            posicoes.append(j) \n",
    "            \n",
    "    if count > 1: \n",
    "        \n",
    "        print(f\"Número repetido: {numeros[i]:.2f} - Aparece {count} vezes nas posições: {posicoes}\")\n",
    "        repetido = True\n",
    "        \n",
    "if not repetido: \n",
    "    \n",
    "    print(\"Nenhum número repetido foi encontrado.\")"
   ]
  },
  {
   "cell_type": "markdown",
   "id": "bef15c8a",
   "metadata": {},
   "source": [
    "#### 15. Leia um vetor com 20 números inteiros. Escreva os elementos do vetor eliminando elementos repetidos."
   ]
  },
  {
   "cell_type": "code",
   "execution_count": 1,
   "id": "824605e8",
   "metadata": {},
   "outputs": [
    {
     "name": "stdout",
     "output_type": "stream",
     "text": [
      "Informe o 0 o número do vetor: 5\n",
      "Informe o 1 o número do vetor: 3\n",
      "Informe o 2 o número do vetor: 7\n",
      "Informe o 3 o número do vetor: 5\n",
      "Informe o 4 o número do vetor: 9\n",
      "Informe o 5 o número do vetor: 3\n",
      "Informe o 6 o número do vetor: 1\n",
      "Informe o 7 o número do vetor: 2\n",
      "Informe o 8 o número do vetor: 7\n",
      "Informe o 9 o número do vetor: 4\n",
      "Informe o 10 o número do vetor: 6\n",
      "Informe o 11 o número do vetor: 2\n",
      "Informe o 12 o número do vetor: 8\n",
      "Informe o 13 o número do vetor: 0\n",
      "Informe o 14 o número do vetor: 1\n",
      "Informe o 15 o número do vetor: 9\n",
      "Informe o 16 o número do vetor: 10\n",
      "Informe o 17 o número do vetor: 4\n",
      "Informe o 18 o número do vetor: 11\n",
      "Informe o 19 o número do vetor: 6\n",
      "\n",
      " Elementos sem repetição: \n",
      "[0] = [5]\n",
      "[1] = [3]\n",
      "[2] = [7]\n",
      "[4] = [9]\n",
      "[6] = [1]\n",
      "[7] = [2]\n",
      "[9] = [4]\n",
      "[10] = [6]\n",
      "[12] = [8]\n",
      "[13] = [0]\n",
      "[16] = [10]\n",
      "[18] = [11]\n"
     ]
    }
   ],
   "source": [
    "# Lista para armazenar os 20 números\n",
    "numeros = [] \n",
    "\n",
    "# Leitura dos 20 números inteiros\n",
    "for i in range(20): \n",
    "    \n",
    "    num = int(input(f\"Informe o {i} o número do vetor: \")) \n",
    "    numeros.append(num)\n",
    "    \n",
    "# Impressão sem elementos repetidos\n",
    "print(\"\\n Elementos sem repetição: \") \n",
    "for i in range(len(numeros)): \n",
    "    \n",
    "    repetir = False\n",
    "    for j in range(i): \n",
    "        \n",
    "        if numeros[i] == numeros[j]: \n",
    "            \n",
    "            repetir = True\n",
    "            break \n",
    "            \n",
    "    if not repetir:\n",
    "        \n",
    "        print(f\"[{i}] = [{numeros[i]}]\")"
   ]
  },
  {
   "cell_type": "markdown",
   "id": "1c2c1292",
   "metadata": {},
   "source": [
    "#### 16. Faça um programa que leia um vetor de 5 posições para números reais e, depois, um código inteiro. Se o código for zero, finalize o programa; se for 1, mostre o vetor na ordem direta; se for 2, mostre o vetor na ordem inversa. Caso o código for diferente de 1 e 2 escreva uma mensagem informando que o código é inválido."
   ]
  },
  {
   "cell_type": "code",
   "execution_count": 3,
   "id": "0a5c78c2",
   "metadata": {},
   "outputs": [
    {
     "name": "stdout",
     "output_type": "stream",
     "text": [
      "Informe o 0º número: 9.00\n",
      "Informe o 1º número: 7.00\n",
      "Informe o 2º número: 5.60\n",
      "Informe o 3º número: 3.40\n",
      "Informe o 4º número: 1.20\n",
      "Informe o código(0 = sair, 1 = ordem direta, 2 = ordem inversa: 2\n",
      "Vetor na ordem inversa: \n",
      "[4] = 1.20\n",
      "[3] = 3.40\n",
      "[2] = 5.60\n",
      "[1] = 7.00\n",
      "[0] = 9.00\n"
     ]
    }
   ],
   "source": [
    "# Leitura do vetor de 5 números reais\n",
    "numeros = [] \n",
    "\n",
    "for i in range(5):\n",
    "    \n",
    "    num = float(input(f\"Informe o {i}º número: \"))\n",
    "    numeros.append(num) \n",
    "    \n",
    "# Leitura do código \n",
    "codigo = int(input(\"Informe o código(0 = sair, 1 = ordem direta, 2 = ordem inversa: \"))\n",
    "\n",
    "# Ações com base no código \n",
    "if codigo == 0:\n",
    "    \n",
    "    print(\"Programa finalizado. \") \n",
    "    \n",
    "elif codigo == 1: \n",
    "    \n",
    "    print(\"Vetor na ordem direta: \") \n",
    "    \n",
    "    for i, valor in enumerate(numeros): \n",
    "        \n",
    "        print(f\"[{i}] = {valor:.2f}\")\n",
    "        \n",
    "elif codigo == 2: \n",
    "    \n",
    "    print(\"Vetor na ordem inversa: \") \n",
    "    for i in range(4, -1, -1): \n",
    "        \n",
    "        print(f\"[{i}] = {numeros[i]:.2f}\") \n",
    "        \n",
    "else: \n",
    "    \n",
    "    print(\"Código inválido.\")"
   ]
  },
  {
   "cell_type": "markdown",
   "id": "5eec2226",
   "metadata": {},
   "source": [
    "#### 17. Faça um programa que leia dois vetores de 10 posições e calcule outro vetor contendo, nas posições pares os valores do primeiro e nas posições impares os valores do segundo."
   ]
  },
  {
   "cell_type": "code",
   "execution_count": 1,
   "id": "2edae801",
   "metadata": {},
   "outputs": [
    {
     "name": "stdout",
     "output_type": "stream",
     "text": [
      "Digite os valores do primeiro vetor: \n",
      "vetor 1: [0]: 10\n",
      "vetor 1: [1]: 20\n",
      "vetor 1: [2]: 30\n",
      "vetor 1: [3]: 789\n",
      "vetor 1: [4]: 56\n",
      "vetor 1: [5]: 141\n",
      "vetor 1: [6]: 203\n",
      "vetor 1: [7]: 87\n",
      "vetor 1: [8]: 96\n",
      "vetor 1: [9]: 23\n",
      "Digite os valores do segundo vetor: \n",
      "vetor 2: [0]: 100\n",
      "vetor 2: [1]: 28\n",
      "vetor 2: [2]: 78\n",
      "vetor 2: [3]: 96\n",
      "vetor 2: [4]: 45\n",
      "vetor 2: [5]: 12\n",
      "vetor 2: [6]: 123\n",
      "vetor 2: [7]: 48\n",
      "vetor 2: [8]: 45\n",
      "vetor 2: [9]: 21\n",
      "\n",
      " Vetor resultado: \n",
      "resultado[0] = 10.00\n",
      "resultado[1] = 28.00\n",
      "resultado[2] = 30.00\n",
      "resultado[3] = 96.00\n",
      "resultado[4] = 56.00\n",
      "resultado[5] = 12.00\n",
      "resultado[6] = 203.00\n",
      "resultado[7] = 48.00\n",
      "resultado[8] = 96.00\n",
      "resultado[9] = 21.00\n"
     ]
    }
   ],
   "source": [
    "# Leitura do primeiro vetor\n",
    "vetor1 = [] \n",
    "print(\"Digite os valores do primeiro vetor: \") \n",
    "for i in range(10):\n",
    "    \n",
    "    valor = float(input(f\"vetor 1: [{i}]: \"))\n",
    "    vetor1.append(valor) \n",
    "    \n",
    "# Leitura do segundo vetor\n",
    "vetor2 = [] \n",
    "print(\"Digite os valores do segundo vetor: \") \n",
    "for i in range(10): \n",
    "    valor = float(input(f\"vetor 2: [{i}]: \")) \n",
    "    vetor2.append(valor)\n",
    "    \n",
    "# Construção do vetor resultado \n",
    "resultado = [] \n",
    "\n",
    "for i in range(10): \n",
    "    \n",
    "    if i % 2 == 0: \n",
    "        \n",
    "        resultado.append(vetor1[i])\n",
    "        \n",
    "    else: \n",
    "        \n",
    "        resultado.append(vetor2[i]) \n",
    "        \n",
    "# Exibição do vetor resultado\n",
    "print(\"\\n Vetor resultado: \")\n",
    "for i, valor in enumerate(resultado): \n",
    "    \n",
    "    print(f\"resultado[{i}] = {valor:.2f}\")"
   ]
  },
  {
   "cell_type": "markdown",
   "id": "77172e27",
   "metadata": {},
   "source": [
    "#### 18. Faça um programa que leia um vetor de 10 números. Leia um número X. Conte os múltiplos de um número inteiro X no vetor e mostre-os na tela."
   ]
  },
  {
   "cell_type": "code",
   "execution_count": 3,
   "id": "88af1ce1",
   "metadata": {},
   "outputs": [
    {
     "name": "stdout",
     "output_type": "stream",
     "text": [
      "Informe o 0º número do vetor: 10\n",
      "Informe o 1º número do vetor: 15\n",
      "Informe o 2º número do vetor: 7\n",
      "Informe o 3º número do vetor: 20\n",
      "Informe o 4º número do vetor: 8\n",
      "Informe o 5º número do vetor: 9\n",
      "Informe o 6º número do vetor: 13\n",
      "Informe o 7º número do vetor: 30\n",
      "Informe o 8º número do vetor: 21\n",
      "Informe o 9º número do vetor: 25\n",
      "Informe o valor de x: 5\n",
      "\n",
      " Números múltiplos de x encontrados no vetor: \n",
      "\n",
      "Valor [0] = [10]\n",
      "Valor [1] = [15]\n",
      "Valor [3] = [20]\n",
      "Valor [7] = [30]\n",
      "Valor [9] = [25]\n",
      "\n",
      " Quantidade de valores múltiplos de 5: 5\n"
     ]
    }
   ],
   "source": [
    "# Lista para armazenar os números\n",
    "numeros = [] \n",
    "\n",
    "# Leitura de 10 números inteiros\n",
    "for i in range(10): \n",
    "    \n",
    "    num = int(input(f\"Informe o {i}º número do vetor: \")) \n",
    "    numeros.append(num)\n",
    "    \n",
    "# Leitura do número x \n",
    "x = int(input(\"Informe o valor de x: \")) \n",
    "\n",
    "# Inicializa contador de múltiplos \n",
    "quant = 0 \n",
    "\n",
    "print(\"\\n Números múltiplos de x encontrados no vetor: \\n\") \n",
    "\n",
    "# Verifica e exibe os múltiplos de X \n",
    "for i in range(len(numeros)): \n",
    "    \n",
    "    if numeros[i] % x == 0: \n",
    "        \n",
    "        print(f\"Valor [{i}] = [{numeros[i]}]\") \n",
    "        quant += 1\n",
    "        \n",
    "# Mostra a quantidade de múltiplos \n",
    "print(f\"\\n Quantidade de valores múltiplos de {x}: {quant}\")"
   ]
  },
  {
   "cell_type": "markdown",
   "id": "884b0403",
   "metadata": {},
   "source": [
    "#### 19. Faça um vetor de tamanho 50 preenchido com o seguinte valor: \n"
   ]
  },
  {
   "cell_type": "markdown",
   "id": "144f1a6c",
   "metadata": {},
   "source": [
    "*** (i + 5 × i) % (i + 1),"
   ]
  },
  {
   "cell_type": "markdown",
   "id": "67a6ce71",
   "metadata": {},
   "source": [
    "#### sendo i a posição do elemento no vetor. Em seguida imprima o vetor na tela."
   ]
  },
  {
   "cell_type": "code",
   "execution_count": 4,
   "id": "e8eb7412",
   "metadata": {},
   "outputs": [
    {
     "name": "stdout",
     "output_type": "stream",
     "text": [
      "Posição 0: 0\n",
      "Posição 1: 0\n",
      "Posição 2: 0\n",
      "Posição 3: 2\n",
      "Posição 4: 4\n",
      "Posição 5: 0\n",
      "Posição 6: 1\n",
      "Posição 7: 2\n",
      "Posição 8: 3\n",
      "Posição 9: 4\n",
      "Posição 10: 5\n",
      "Posição 11: 6\n",
      "Posição 12: 7\n",
      "Posição 13: 8\n",
      "Posição 14: 9\n",
      "Posição 15: 10\n",
      "Posição 16: 11\n",
      "Posição 17: 12\n",
      "Posição 18: 13\n",
      "Posição 19: 14\n",
      "Posição 20: 15\n",
      "Posição 21: 16\n",
      "Posição 22: 17\n",
      "Posição 23: 18\n",
      "Posição 24: 19\n",
      "Posição 25: 20\n",
      "Posição 26: 21\n",
      "Posição 27: 22\n",
      "Posição 28: 23\n",
      "Posição 29: 24\n",
      "Posição 30: 25\n",
      "Posição 31: 26\n",
      "Posição 32: 27\n",
      "Posição 33: 28\n",
      "Posição 34: 29\n",
      "Posição 35: 30\n",
      "Posição 36: 31\n",
      "Posição 37: 32\n",
      "Posição 38: 33\n",
      "Posição 39: 34\n",
      "Posição 40: 35\n",
      "Posição 41: 36\n",
      "Posição 42: 37\n",
      "Posição 43: 38\n",
      "Posição 44: 39\n",
      "Posição 45: 40\n",
      "Posição 46: 41\n",
      "Posição 47: 42\n",
      "Posição 48: 43\n",
      "Posição 49: 44\n"
     ]
    }
   ],
   "source": [
    "# Lista para armazenar os 50 valores\n",
    "numeros = [] \n",
    "\n",
    "# Preenchimento com a fórmula: (i + 5 × i) % (i + 1)\n",
    "for i in range(50): \n",
    "    \n",
    "    valor = (i + 5 * i) % (i + 1)\n",
    "    numeros.append(valor)\n",
    "    \n",
    "# Impressão dos valores\n",
    "for i in range(50):\n",
    "    \n",
    "    print(f\"Posição {i}: {numeros[i]}\")"
   ]
  },
  {
   "cell_type": "markdown",
   "id": "df225cc5",
   "metadata": {},
   "source": [
    "#### 20. Leia 10 valores inteiros e armazene em um vetor A. "
   ]
  },
  {
   "cell_type": "markdown",
   "id": "b61bc52a",
   "metadata": {},
   "source": [
    "#### Crie um segundo vetor B, em que cada elemento seja o dobro do correspondente no vetor A. Ao final, imprima os dois vetores."
   ]
  },
  {
   "cell_type": "code",
   "execution_count": 5,
   "id": "d02384a7",
   "metadata": {},
   "outputs": [
    {
     "name": "stdout",
     "output_type": "stream",
     "text": [
      "Informe o 0º número do Vetor A: 56\n",
      "Informe o 1º número do Vetor A: 12\n",
      "Informe o 2º número do Vetor A: 45\n",
      "Informe o 3º número do Vetor A: 12\n",
      "Informe o 4º número do Vetor A: 120\n",
      "Informe o 5º número do Vetor A: 79\n",
      "Informe o 6º número do Vetor A: 63\n",
      "Informe o 7º número do Vetor A: 14\n",
      "Informe o 8º número do Vetor A: 29\n",
      "Informe o 9º número do Vetor A: 100\n",
      "\n",
      " Vetor A: \n",
      "A[0] = 56\n",
      "A[1] = 12\n",
      "A[2] = 45\n",
      "A[3] = 12\n",
      "A[4] = 120\n",
      "A[5] = 79\n",
      "A[6] = 63\n",
      "A[7] = 14\n",
      "A[8] = 29\n",
      "A[9] = 100\n",
      "\n",
      " Vetor B: \n",
      "B[0] = 112\n",
      "B[1] = 24\n",
      "B[2] = 90\n",
      "B[3] = 24\n",
      "B[4] = 240\n",
      "B[5] = 158\n",
      "B[6] = 126\n",
      "B[7] = 28\n",
      "B[8] = 58\n",
      "B[9] = 200\n"
     ]
    }
   ],
   "source": [
    "# Lista para os vetores A e B \n",
    "A = [] \n",
    "B = [] \n",
    "\n",
    "# Leitura de 10 valores para o vetor A\n",
    "for i in range(10): \n",
    "    \n",
    "    valor = int(input(f\"Informe o {i}º número do Vetor A: \"))\n",
    "    A.append(valor) \n",
    "    B.append(valor * 2) # Cada elemento de B é o dobro do correspondente em A \n",
    "    \n",
    "# Impressão dos vetores\n",
    "\n",
    "print(\"\\n Vetor A: \")\n",
    "for i in range(10): \n",
    "    \n",
    "    print(f\"A[{i}] = {A[i]}\")\n",
    "    \n",
    "print(\"\\n Vetor B: \")\n",
    "for i in range(10): \n",
    "    \n",
    "    print(f\"B[{i}] = {B[i]}\")\n",
    "    "
   ]
  },
  {
   "cell_type": "markdown",
   "id": "16b367d9",
   "metadata": {},
   "source": [
    "#### 21. Faça um programa que receba do usuário dois vetores A e B, com 10 números inteiros cada. Crie um novo vetor denominado C calculando C = A - B. Mostre na tela os dados do vetor C. "
   ]
  },
  {
   "cell_type": "code",
   "execution_count": 6,
   "id": "5dc59784",
   "metadata": {},
   "outputs": [
    {
     "name": "stdout",
     "output_type": "stream",
     "text": [
      "Informe 10 números para o vetor A: \n",
      "A[0]: 45\n",
      "A[1]: 12\n",
      "A[2]: 63\n",
      "A[3]: 78\n",
      "A[4]: 56\n",
      "A[5]: 49\n",
      "A[6]: 52\n",
      "A[7]: 13\n",
      "A[8]: 28\n",
      "A[9]: 33\n",
      "Informe 10 números para o vetor B: \n",
      "B[0]: 10\n",
      "B[1]: 23\n",
      "B[2]: 35\n",
      "B[3]: 49\n",
      "B[4]: 59\n",
      "B[5]: 61\n",
      "B[6]: 78\n",
      "B[7]: 82\n",
      "B[8]: 90\n",
      "B[9]: 100\n",
      "Informe 10 números para o vetor C: \n",
      "\n",
      " Vetor C (A - B): \n",
      "C[0] = 35\n",
      "C[1] = -11\n",
      "C[2] = 28\n",
      "C[3] = 29\n",
      "C[4] = -3\n",
      "C[5] = -12\n",
      "C[6] = -26\n",
      "C[7] = -69\n",
      "C[8] = -62\n",
      "C[9] = -67\n"
     ]
    }
   ],
   "source": [
    "### Lista de Vetores em Python \n",
    "vetA = [] \n",
    "vetB = [] \n",
    "vetC = [] \n",
    "\n",
    "# Lendo os valores do vetor A\n",
    "print(\"Informe 10 números para o vetor A: \") \n",
    "for i in range(10): \n",
    "    \n",
    "    num = int(input(f\"A[{i}]: \")) \n",
    "    vetA.append(num)\n",
    "    \n",
    "# Lendo os valores do vetor B\n",
    "print(\"Informe 10 números para o vetor B: \") \n",
    "for i in range(10): \n",
    "    \n",
    "    num = int(input(f\"B[{i}]: \")) \n",
    "    vetB.append(num)\n",
    "    \n",
    "# Calculando o vetor C = A - B\n",
    "print(\"Informe 10 números para o vetor C: \") \n",
    "for i in range(10): \n",
    "    \n",
    "    vetC.append(vetA[i] - vetB[i]) \n",
    "    \n",
    "# Exibindo o vetor C \n",
    "print(\"\\n Vetor C (A - B): \") \n",
    "for i in range(10): \n",
    "    \n",
    "    print(f\"C[{i}] = {vetC[i]}\")"
   ]
  }
 ],
 "metadata": {
  "kernelspec": {
   "display_name": "Python 3 (ipykernel)",
   "language": "python",
   "name": "python3"
  },
  "language_info": {
   "codemirror_mode": {
    "name": "ipython",
    "version": 3
   },
   "file_extension": ".py",
   "mimetype": "text/x-python",
   "name": "python",
   "nbconvert_exporter": "python",
   "pygments_lexer": "ipython3",
   "version": "3.9.13"
  }
 },
 "nbformat": 4,
 "nbformat_minor": 5
}

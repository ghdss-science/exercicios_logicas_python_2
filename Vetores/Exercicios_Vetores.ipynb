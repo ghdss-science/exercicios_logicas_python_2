{
 "cells": [
  {
   "cell_type": "markdown",
   "id": "e3b0ceba",
   "metadata": {},
   "source": [
    "### Lista de Exercícios (Vetores)"
   ]
  },
  {
   "cell_type": "markdown",
   "id": "54c9e28d",
   "metadata": {},
   "source": [
    "#### 1. Faça um programa que possua um vetor denominado A que armazene 6 números inteiros. O programa deve executar os seguintes passos:"
   ]
  },
  {
   "cell_type": "markdown",
   "id": "305b5bc1",
   "metadata": {},
   "source": [
    "(a) Atribua os seguintes valores a esse vetor: 1, 0, 5, -2, -5, 7.\n",
    "\n",
    "(b) Armazene em uma variável inteira (simples) a soma entre os valores das posições A[0], A[1] e A[5] do vetor e mostre na tela esta soma.\n",
    "\n",
    "(c) Modifique o vetor na posição 4, atribuindo a esta posição o valor 100.\n",
    "\n",
    "(d) Mostre na tela cada valor do vetor A, um em cada linha.\n",
    "\n"
   ]
  },
  {
   "cell_type": "code",
   "execution_count": 1,
   "id": "924e04fa",
   "metadata": {},
   "outputs": [
    {
     "name": "stdout",
     "output_type": "stream",
     "text": [
      "Somatório das posições 0, 1 e 5; 8\n",
      "\n",
      " Valores do Vetor A: \n",
      "A[0] = 1\n",
      "A[1] = 0\n",
      "A[2] = 5\n",
      "A[3] = -2\n",
      "A[4] = 100\n",
      "A[5] = 7\n"
     ]
    }
   ],
   "source": [
    "# (a) Atribuindo os valores fixos ao vetor\n",
    "A = [1, 0, 5, -2, -5, 7]\n",
    "\n",
    "# (b) Somando os valores das posições 0, 1 e 5\n",
    "soma = A[0] + A[1] + A[5]\n",
    "print(\"Somatório das posições 0, 1 e 5;\", soma) \n",
    "\n",
    "# (c) Modificando o valor da posição 4 \n",
    "A[4] = 100 \n",
    "\n",
    "# (d) Mostrando cada valor do vetor A em uma linha \n",
    "print(\"\\n Valores do Vetor A: \")\n",
    "for i in range(len(A)): \n",
    "    \n",
    "    print(f\"A[{i}] = {A[i]}\")"
   ]
  },
  {
   "cell_type": "markdown",
   "id": "984c9eaf",
   "metadata": {},
   "source": [
    "#### 2. Crie um programa que leia 6 valores inteiros e, em seguida, mostre na tela os valores lidos."
   ]
  },
  {
   "cell_type": "code",
   "execution_count": 3,
   "id": "74239c61",
   "metadata": {},
   "outputs": [
    {
     "name": "stdout",
     "output_type": "stream",
     "text": [
      "Informe o 1 o número: 9\n",
      "Informe o 2 o número: 5\n",
      "Informe o 3 o número: 1\n",
      "Informe o 4 o número: 2\n",
      "Informe o 5 o número: 48\n",
      "Informe o 6 o número: 72\n",
      "\n",
      " Valores  Lidos\n",
      "Número 1: 9\n",
      "Número 2: 5\n",
      "Número 3: 1\n",
      "Número 4: 2\n",
      "Número 5: 48\n",
      "Número 6: 72\n"
     ]
    }
   ],
   "source": [
    "numeros = [] \n",
    "\n",
    "## Leitura de 6 valores inteiros \n",
    "for i in range(6): \n",
    "    \n",
    "    num = int(input(f\"Informe o {i + 1} o número: \")) \n",
    "    numeros.append(num) \n",
    "    \n",
    "## Exibição dos valores lidos \n",
    "print(\"\\n Valores  Lidos\") \n",
    "for i in range(6): \n",
    "    \n",
    "    print(f\"Número {i + 1}: {numeros[i]}\") "
   ]
  },
  {
   "cell_type": "markdown",
   "id": "b58fb2ef",
   "metadata": {},
   "source": [
    "#### 3 - Ler um conjunto de números reais, armazenando-o em vetor e calcular o quadrado das componentes deste vetor, armazenando o resultado em outro vetor. Os conjuntos têm 10 elementos cada. Imprimir todos os conjuntos."
   ]
  },
  {
   "cell_type": "code",
   "execution_count": 9,
   "id": "6d00ff67",
   "metadata": {},
   "outputs": [],
   "source": [
    "def processar_numeros_e_quadrados(): \n",
    "    \n",
    "    # Vetor para armazenar os números originais \n",
    "    numeros = [] \n",
    "    \n",
    "    # Vetor para armazenar os quadrados dos números \n",
    "    quadrados = [] \n",
    "    \n",
    "    print(\"Entrada dos Números Reais\") \n",
    "    for i in range(10): ## Loop para ler 10 elementos (índices de 0 a 9)\n",
    "        \n",
    "        while True: \n",
    "            \n",
    "            try: \n",
    "                \n",
    "                # Solicita um número real ao usuário \n",
    "                entrada = float(input(f\"Informe o {i + 1} o número real do conjunto: \"))\n",
    "                numeros.append(entrada) \n",
    "                \n",
    "                # Calcula o quadrado e adiciona ao vetor de quadrados \n",
    "                quadrados.append(entrada ** 2) \n",
    "                \n",
    "                # Sai do loop se a entrada for válida \n",
    "                break \n",
    "                \n",
    "            except ValueError: \n",
    "                \n",
    "                print(\"Entrada ínválida. Por Favor, digite um número real.\") \n",
    "                \n",
    "    print(\"\\n --- Impressão dos conjuntos ---\") \n",
    "    \n",
    "    print(\"\\n Conjunto Original (Números): \") \n",
    "    for i, num, in enumerate(numeros):\n",
    "        \n",
    "        # Imprime com 2 casas decimais \n",
    "        print(f\"Número na posição {i}: {num:.2f}\")\n",
    "        \n",
    "    print(\"\\n Conjunto dos quadrados: \")\n",
    "    for i, quad in enumerate(quadrados): \n",
    "        \n",
    "        # Imprime com 2 casas decimais\n",
    "        print(f\"Quadrado na posição {i}: {quad:.2f}\")\n",
    "        \n"
   ]
  },
  {
   "cell_type": "code",
   "execution_count": 17,
   "id": "b3b523b7",
   "metadata": {},
   "outputs": [],
   "source": [
    "# Chama a função principal para executar o programa\n",
    "if __name__== \"main\": \n",
    "    processar_numeros_e_quadrados()"
   ]
  },
  {
   "cell_type": "code",
   "execution_count": 18,
   "id": "6532f47c",
   "metadata": {},
   "outputs": [
    {
     "name": "stdout",
     "output_type": "stream",
     "text": [
      "Entrada dos Números Reais\n",
      "Informe o 1 o número real do conjunto: 7\n",
      "Informe o 2 o número real do conjunto: 8\n",
      "Informe o 3 o número real do conjunto: 9\n",
      "Informe o 4 o número real do conjunto: 4\n",
      "Informe o 5 o número real do conjunto: 5\n",
      "Informe o 6 o número real do conjunto: 6\n",
      "Informe o 7 o número real do conjunto: 1\n",
      "Informe o 8 o número real do conjunto: 2\n",
      "Informe o 9 o número real do conjunto: 3\n",
      "Informe o 10 o número real do conjunto: 56\n",
      "\n",
      " --- Impressão dos conjuntos ---\n",
      "\n",
      " Conjunto Original (Números): \n",
      "Número na posição 0: 7.00\n",
      "Número na posição 1: 8.00\n",
      "Número na posição 2: 9.00\n",
      "Número na posição 3: 4.00\n",
      "Número na posição 4: 5.00\n",
      "Número na posição 5: 6.00\n",
      "Número na posição 6: 1.00\n",
      "Número na posição 7: 2.00\n",
      "Número na posição 8: 3.00\n",
      "Número na posição 9: 56.00\n",
      "\n",
      " Conjunto dos quadrados: \n",
      "Quadrado na posição 0: 49.00\n",
      "Quadrado na posição 1: 64.00\n",
      "Quadrado na posição 2: 81.00\n",
      "Quadrado na posição 3: 16.00\n",
      "Quadrado na posição 4: 25.00\n",
      "Quadrado na posição 5: 36.00\n",
      "Quadrado na posição 6: 1.00\n",
      "Quadrado na posição 7: 4.00\n",
      "Quadrado na posição 8: 9.00\n",
      "Quadrado na posição 9: 3136.00\n"
     ]
    }
   ],
   "source": [
    "processar_numeros_e_quadrados()"
   ]
  },
  {
   "cell_type": "markdown",
   "id": "a334503d",
   "metadata": {},
   "source": [
    "#### 4. Faça um programa que leia um vetor de 8 posições e, em seguida, leia também dois vetores X e Y qualquer correspondentes a duas posições no vetor. Ao final seu programa deverá escrever a soma dos valores encontrados nas respectivas posições X e Y \n"
   ]
  },
  {
   "cell_type": "code",
   "execution_count": 1,
   "id": "f819dee9",
   "metadata": {},
   "outputs": [],
   "source": [
    "def somar_valores_em_posicoes_especificas():\n",
    "    \"\"\"\n",
    "        Lê um vetor principal de 8 posições,\n",
    "        em seguida, lê duas posições (índices) X e Y,\n",
    "        e por fim, imprime a soma dos valores nessas posições.\n",
    "    \"\"\"\n",
    "    vetor_principal = [] # Lista para armazenar o vetor principal de 8 posições\n",
    "\n",
    "    print(\"--- Preenchimento do Vetor Principal (8 posições) ---\")\n",
    "    for i in range(8): # Loop para ler 8 elementos (índices de 0 a 7)\n",
    "        \n",
    "        while True:\n",
    "            \n",
    "            try:\n",
    "                \n",
    "                # Solicita um número inteiro ao usuário\n",
    "                entrada = int(input(f\"Informe o {i + 1}º número inteiro para o vetor: \"))\n",
    "                vetor_principal.append(entrada)\n",
    "                \n",
    "                break # Sai do loop se a entrada for válida\n",
    "                \n",
    "            except ValueError:\n",
    "                \n",
    "                print(\"Entrada inválida. Por favor, digite um número inteiro.\")\n",
    "    \n",
    "    # --- PONTO DE VERIFICAÇÃO ---\n",
    "    \n",
    "    print(f\"Vetor principal preenchido: {vetor_principal}\")\n",
    "    \n",
    "    print(f\"Tamanho do vetor principal: {len(vetor_principal)}\")\n",
    "    \n",
    "    # --- FIM DO PONTO DE VERIFICAÇÃO ---\n",
    "\n",
    "    print(\"\\n--- Informe as Posições para a Soma ---\")\n",
    "\n",
    "    # Lê a primeira posição (X) e valida\n",
    "    \n",
    "    while True:\n",
    "        \n",
    "        try:\n",
    "            \n",
    "            posicao_x = int(input(\"Informe a primeira posição (0 a 7): \"))\n",
    "            \n",
    "            if 0 <= posicao_x < len(vetor_principal): # Verifica se a posição está dentro dos limites\n",
    "                \n",
    "                break\n",
    "                \n",
    "            else:\n",
    "                \n",
    "                print(\"Posição inválida. Digite um número entre 0 e 7.\")\n",
    "                \n",
    "        except ValueError:\n",
    "            \n",
    "            print(\"Entrada inválida. Por favor, digite um número inteiro para a posição.\")\n",
    "\n",
    "    # Lê a segunda posição (Y) e valida\n",
    "    while True:\n",
    "        \n",
    "        try:\n",
    "            \n",
    "            posicao_y = int(input(\"Informe a segunda posição (0 a 7): \"))\n",
    "            \n",
    "            if 0 <= posicao_y < len(vetor_principal): # Verifica se a posição está dentro dos limites\n",
    "                \n",
    "                break\n",
    "                \n",
    "            else:\n",
    "                \n",
    "                print(\"Posição inválida. Digite um número entre 0 e 7.\")\n",
    "                \n",
    "        except ValueError:\n",
    "            \n",
    "            print(\"Entrada inválida. Por favor, digite um número inteiro para a posição.\")\n",
    "\n",
    "    # Calcula os valores nas posições e a soma\n",
    "    valor_x = vetor_principal[posicao_x]\n",
    "    valor_y = vetor_principal[posicao_y]\n",
    "    soma_dos_valores_nas_posicoes = valor_x + valor_y\n",
    "\n",
    "    # Imprime o resultado\n",
    "    print(\"\\n--- Resultado da Soma ---\")\n",
    "    print(f\"O valor na posição {posicao_x} é: {valor_x}\")\n",
    "    print(f\"O valor na posição {posicao_y} é: {valor_y}\")\n",
    "    print(f\"A soma dos valores nas posições {posicao_x} e {posicao_y} é: {soma_dos_valores_nas_posicoes}\")                "
   ]
  },
  {
   "cell_type": "code",
   "execution_count": 3,
   "id": "62505805",
   "metadata": {},
   "outputs": [
    {
     "name": "stdout",
     "output_type": "stream",
     "text": [
      "--- Preenchimento do Vetor Principal (8 posições) ---\n",
      "Informe o 1º número inteiro para o vetor: 8\n",
      "Informe o 2º número inteiro para o vetor: 9\n",
      "Informe o 3º número inteiro para o vetor: 4\n",
      "Informe o 4º número inteiro para o vetor: 0\n",
      "Informe o 5º número inteiro para o vetor: 5\n",
      "Informe o 6º número inteiro para o vetor: 6\n",
      "Informe o 7º número inteiro para o vetor: 78\n",
      "Informe o 8º número inteiro para o vetor: 5\n",
      "Vetor principal preenchido: [8, 9, 4, 0, 5, 6, 78, 5]\n",
      "Tamanho do vetor principal: 8\n",
      "\n",
      "--- Informe as Posições para a Soma ---\n",
      "Informe a primeira posição (0 a 7): 6\n",
      "Informe a segunda posição (0 a 7): 5\n",
      "\n",
      "--- Resultado da Soma ---\n",
      "O valor na posição 6 é: 78\n",
      "O valor na posição 5 é: 6\n",
      "A soma dos valores nas posições 6 e 5 é: 84\n"
     ]
    }
   ],
   "source": [
    "# Chama a função principal para executar o programa\n",
    "somar_valores_em_posicoes_especificas()  "
   ]
  },
  {
   "cell_type": "markdown",
   "id": "2534bd9f",
   "metadata": {},
   "source": [
    "#### 5. Leia um vetor de 10 posições. Contar e escrever quantos valores pares ele possui.\""
   ]
  },
  {
   "cell_type": "code",
   "execution_count": 4,
   "id": "926595dd",
   "metadata": {},
   "outputs": [
    {
     "name": "stdout",
     "output_type": "stream",
     "text": [
      "Informe o 1 número inteiro: 8\n",
      "Informe o 2 número inteiro: 9\n",
      "Informe o 3 número inteiro: 4\n",
      "Informe o 4 número inteiro: 2\n",
      "Informe o 5 número inteiro: 3\n",
      "Informe o 6 número inteiro: 5\n",
      "Informe o 7 número inteiro: 12\n",
      "Informe o 8 número inteiro: 23\n",
      "Informe o 9 número inteiro: 19\n",
      "Informe o 10 número inteiro: 78\n",
      "O conjunto de números lidos foi: [8, 9, 4, 2, 3, 5, 12, 23, 19, 78]\n",
      "Quantidade de Valores Pares: 5\n"
     ]
    }
   ],
   "source": [
    "def contar_pares_em_vetor(): \n",
    "    \n",
    "    numeros = []\n",
    "    contador_pares = 0 \n",
    "    \n",
    "    for i in range(10): \n",
    "        \n",
    "        while True:\n",
    "            \n",
    "            try:\n",
    "                \n",
    "                entrada = int(input(f\"Informe o {i + 1} número inteiro: \"))\n",
    "                numeros.append(entrada) \n",
    "                \n",
    "                break \n",
    "                \n",
    "            except ValueError:\n",
    "                \n",
    "                print(\"Entrada inválida. Por favor, digite um número inteiro\")\n",
    "                \n",
    "    for num in numeros: \n",
    "        \n",
    "        if num % 2 == 0:\n",
    "            \n",
    "            contador_pares += 1\n",
    "            \n",
    "    print(f\"O conjunto de números lidos foi: {numeros}\")\n",
    "    print(f\"Quantidade de Valores Pares: {contador_pares}\")\n",
    "    \n",
    "if __name__ == \"__main__\": \n",
    "    \n",
    "    contar_pares_em_vetor()"
   ]
  },
  {
   "cell_type": "markdown",
   "id": "0c70ce51",
   "metadata": {},
   "source": [
    "#### 6. Faça um programa que receba do usuário um vetor com 10 posições. Em seguida deverá ser impresso o maior e o menor elemento do vetor."
   ]
  },
  {
   "cell_type": "code",
   "execution_count": 2,
   "id": "080a9b0d",
   "metadata": {},
   "outputs": [
    {
     "name": "stdout",
     "output_type": "stream",
     "text": [
      "Informe o 1 o número: 7\n",
      "Informe o 2 o número: 8\n",
      "Informe o 3 o número: 6\n",
      "Informe o 4 o número: 3\n",
      "Informe o 5 o número: 4\n",
      "Informe o 6 o número: 6\n",
      "Informe o 7 o número: 9\n",
      "Informe o 8 o número: 2\n",
      "Informe o 9 o número: 9\n",
      "Informe o 10 o número: 4\n",
      "O vetor lido foi: [7.0, 8.0, 6.0, 3.0, 4.0, 6.0, 9.0, 2.0, 9.0, 4.0]\n",
      "Maior número: 9.00\n",
      "Menor número: 2.00\n"
     ]
    }
   ],
   "source": [
    "numeros = []\n",
    "\n",
    "for i in range(10):\n",
    "\n",
    "    while True:\n",
    "\n",
    "        try: \n",
    "\n",
    "            entrada = float(input(f\"Informe o {i + 1} o número: \"))\n",
    "            numeros.append(entrada) \n",
    "\n",
    "            break\n",
    "\n",
    "        except ValueError: \n",
    "\n",
    "            print(\"Entrada inválida. Por favor, digite um número total\")\n",
    "\n",
    "if not numeros: \n",
    "    \n",
    "    print(\"Nenhum número foi inserido no vetor.\") \n",
    "\n",
    "maior_elemento = max(numeros) \n",
    "menor_elemento = min(numeros)\n",
    "\n",
    "print(f\"O vetor lido foi: {numeros}\") \n",
    "print(f\"Maior número: {maior_elemento:.2f}\")\n",
    "print(f\"Menor número: {menor_elemento:.2f}\")"
   ]
  },
  {
   "cell_type": "markdown",
   "id": "058c0dc1",
   "metadata": {},
   "source": [
    "#### 7. Escreva um programa que leia 10 números inteiros e os armazene em um vetor. Imprima o vetor, o maior elemento e a posição que ele se encontra."
   ]
  },
  {
   "cell_type": "code",
   "execution_count": 4,
   "id": "2271b792",
   "metadata": {},
   "outputs": [
    {
     "name": "stdout",
     "output_type": "stream",
     "text": [
      "Informe o 1 o número: 15\n",
      "Informe o 2 o número: 22\n",
      "Informe o 3 o número: 8\n",
      "Informe o 4 o número: 30\n",
      "Informe o 5 o número: 7\n",
      "Informe o 6 o número: 12\n",
      "Informe o 7 o número: 9\n",
      "Informe o 8 o número: 30\n",
      "Informe o 9 o número: 4\n",
      "Informe o 10 o número: 10\n",
      "\n",
      " Valores informados: \n",
      "Posição [0] = 15\n",
      "Posição [1] = 22\n",
      "Posição [2] = 8\n",
      "Posição [3] = 30\n",
      "Posição [4] = 7\n",
      "Posição [5] = 12\n",
      "Posição [6] = 9\n",
      "Posição [7] = 30\n",
      "Posição [8] = 4\n",
      "Posição [9] = 10\n",
      "\n",
      " Maior número: 30\n",
      "Posição do maior número: 3\n"
     ]
    }
   ],
   "source": [
    "# Lista para armazenar os números \n",
    "numeros = [] \n",
    "\n",
    "# Leitura dos 10 números inteiros\n",
    "for i in range(10): \n",
    "    \n",
    "    num = int(input(f\"Informe o {i + 1} o número: \")) \n",
    "    numeros.append(num) \n",
    "    \n",
    "# Inicialização do maior valor e sua posição \n",
    "maior = numeros[0] \n",
    "posicao = 0\n",
    "\n",
    "## Verifica o maior número e a posição \n",
    "for i in range(1, len(numeros)): \n",
    "    \n",
    "    if numeros[i] > maior: \n",
    "        \n",
    "        maior = numeros[i] \n",
    "        posicao = i \n",
    "        \n",
    "## Impressão dos valores\n",
    "print(\"\\n Valores informados: \") \n",
    "for i, valor in enumerate(numeros): \n",
    "    \n",
    "    print(f\"Posição [{i}] = {valor}\") \n",
    "    \n",
    "print(f\"\\n Maior número: {maior}\") \n",
    "print(f\"Posição do maior número: {posicao}\")"
   ]
  },
  {
   "cell_type": "markdown",
   "id": "21bcf811",
   "metadata": {},
   "source": [
    "### 8. Crie um programa que lê 6 valores inteiros e, em seguida, mostre na tela os valores lidos na ordem inversa."
   ]
  },
  {
   "cell_type": "code",
   "execution_count": 1,
   "id": "029daa11",
   "metadata": {},
   "outputs": [
    {
     "name": "stdout",
     "output_type": "stream",
     "text": [
      "Informe o 1 o número: 10\n",
      "Informe o 2 o número: 20\n",
      "Informe o 3 o número: 30\n",
      "Informe o 4 o número: 40\n",
      "Informe o 5 o número: 50\n",
      "Informe o 6 o número: 60\n",
      "\n",
      " Ordem inversa: \n",
      "Ordem [5] = 60\n",
      "Ordem [4] = 50\n",
      "Ordem [3] = 40\n",
      "Ordem [2] = 30\n",
      "Ordem [1] = 20\n",
      "Ordem [0] = 10\n"
     ]
    }
   ],
   "source": [
    "# Lista para armazenar os números \n",
    "numeros = []\n",
    "\n",
    "# Leitura dos 6 valores inteiros\n",
    "for i in range(6):\n",
    "    \n",
    "    num = int(input(f\"Informe o {i + 1} o número: \")) \n",
    "    numeros.append(num) \n",
    "    \n",
    "print(\"\\n Ordem inversa: \") \n",
    "\n",
    "# Impressão dos valores em ordem inversa \n",
    "for i in range(5, -1, -1): \n",
    "    \n",
    "    print(f\"Ordem [{i}] = {numeros[i]}\") "
   ]
  },
  {
   "cell_type": "markdown",
   "id": "ff1982c5",
   "metadata": {},
   "source": [
    "#### 9. Escreva um algoritmo que leia 20 números do usuário e armazene em um vetor. Em seguida, exiba os números que estão nos índices pares do vetor."
   ]
  },
  {
   "cell_type": "code",
   "execution_count": 2,
   "id": "51f65f7a",
   "metadata": {},
   "outputs": [
    {
     "name": "stdout",
     "output_type": "stream",
     "text": [
      "Informe o 1 o número: 36\n",
      "Informe o 2 o número: 45\n",
      "Informe o 3 o número: 23\n",
      "Informe o 4 o número: 145\n",
      "Informe o 5 o número: 78\n",
      "Informe o 6 o número: 85\n",
      "Informe o 7 o número: 203\n",
      "Informe o 8 o número: 156\n",
      "Informe o 9 o número: 789\n",
      "Informe o 10 o número: 456\n",
      "Informe o 11 o número: 123\n",
      "Informe o 12 o número: 69\n",
      "Informe o 13 o número: 32\n",
      "Informe o 14 o número: 47\n",
      "Informe o 15 o número: 66\n",
      "Informe o 16 o número: 99\n",
      "Informe o 17 o número: 106\n",
      "Informe o 18 o número: 869\n",
      "Informe o 19 o número: 1023\n",
      "Informe o 20 o número: 547\n",
      "\n",
      " Números nos índices pares: \n",
      "Índice [0] = 36\n",
      "Índice [2] = 23\n",
      "Índice [4] = 78\n",
      "Índice [6] = 203\n",
      "Índice [8] = 789\n",
      "Índice [10] = 123\n",
      "Índice [12] = 32\n",
      "Índice [14] = 66\n",
      "Índice [16] = 106\n",
      "Índice [18] = 1023\n"
     ]
    }
   ],
   "source": [
    "# Lista para armazenar os números \n",
    "numeros = []\n",
    "\n",
    "# Leitura dos 6 valores inteiros\n",
    "for i in range(20):\n",
    "    \n",
    "    num = int(input(f\"Informe o {i + 1} o número: \")) \n",
    "    numeros.append(num) \n",
    "    \n",
    "print(\"\\n Números nos índices pares: \") \n",
    "\n",
    "# Impressão dos elementos nos índices pares\n",
    "for i in range(0, 20, 2): \n",
    "    \n",
    "    print(f\"Índice [{i}] = {numeros[i]}\")"
   ]
  },
  {
   "cell_type": "markdown",
   "id": "a6127b1b",
   "metadata": {},
   "source": [
    "#### 10. Faça um programa para ler a nota da prova de 15 alunos e armazene num vetor, calcule e imprima a média geral."
   ]
  },
  {
   "cell_type": "code",
   "execution_count": 5,
   "id": "690b5892",
   "metadata": {},
   "outputs": [
    {
     "name": "stdout",
     "output_type": "stream",
     "text": [
      "Informe a nota do aluno 1: 9.3\n",
      "Informe a nota do aluno 2: 8.5\n",
      "Informe a nota do aluno 3: 6.9\n",
      "Informe a nota do aluno 4: 7.1\n",
      "Informe a nota do aluno 5: 9.9\n",
      "Informe a nota do aluno 6: 4.5\n",
      "Informe a nota do aluno 7: 5.9\n",
      "Informe a nota do aluno 8: 7.8\n",
      "Informe a nota do aluno 9: 6.5\n",
      "Informe a nota do aluno 10: 8.9\n",
      "Informe a nota do aluno 11: 7.4\n",
      "Informe a nota do aluno 12: 8.6\n",
      "Informe a nota do aluno 13: 6.6\n",
      "Informe a nota do aluno 14: 4.5\n",
      "Informe a nota do aluno 15: 8.2\n",
      "Média geral da turma: 7.37\n"
     ]
    }
   ],
   "source": [
    "# Lista para armazenar os números \n",
    "notas = []\n",
    "\n",
    "# Leitura dos 15 valores inteiros\n",
    "for i in range(15):\n",
    "    \n",
    "    nota = float(input(f\"Informe a nota do aluno {i + 1}: \")) \n",
    "    notas.append(nota) \n",
    "    \n",
    "soma = sum(notas) \n",
    "media = soma / len(notas)\n",
    "\n",
    "print(f\"Média geral da turma: {media:.2f}\")"
   ]
  },
  {
   "cell_type": "markdown",
   "id": "6e390f1d",
   "metadata": {},
   "source": [
    "notas = []: cria uma lista vazia.\n",
    "\n",
    "range(15): faz o loop de 0 a 14 (total de 15 alunos).\n",
    "\n",
    "input(...): lê a nota como string e converte para float.\n",
    "\n",
    "sum(notas): soma todos os valores da lista.\n",
    "\n",
    "len(notas): retorna o número de elementos na lista (ou seja, 15).\n",
    "\n",
    "media = soma / len(notas): calcula a média.\n",
    "\n",
    "print(...): exibe a média com 2 casas decimais."
   ]
  },
  {
   "cell_type": "markdown",
   "id": "8a95d41c",
   "metadata": {},
   "source": [
    "#### 11. Faça um programa que preencha um vetor com 10 números reais, calcule e mostre a quantidade de números negativos e a soma dos números positivos desse vetor."
   ]
  },
  {
   "cell_type": "code",
   "execution_count": 7,
   "id": "daa74f0c",
   "metadata": {},
   "outputs": [
    {
     "name": "stdout",
     "output_type": "stream",
     "text": [
      "Informe o 1 o número: 7\n",
      "Informe o 2 o número: 8\n",
      "Informe o 3 o número: 9\n",
      "Informe o 4 o número: 4\n",
      "Informe o 5 o número: 56\n",
      "Informe o 6 o número: 123\n",
      "Informe o 7 o número: -9\n",
      "Informe o 8 o número: -52\n",
      "Informe o 9 o número: -63\n",
      "Informe o 10 o número: -412\n",
      "Quantidade de números negativos: 4\n",
      "Soma dos números positivos: 207.00\n"
     ]
    }
   ],
   "source": [
    "# Lista para armazenar os números \n",
    "numeros = []\n",
    "\n",
    "# Leitura dos 10 valores inteiros\n",
    "for i in range(10):\n",
    "    \n",
    "    numero = int(input(f\"Informe o {i + 1} o número: \")) \n",
    "    numeros.append(numero) \n",
    "    \n",
    "quant_negativos = 0 \n",
    "soma_positivos = 0 \n",
    "\n",
    "for num in numeros: \n",
    "    \n",
    "    if num < 0: \n",
    "        \n",
    "        quant_negativos += 1\n",
    "    \n",
    "    elif num > 0:\n",
    "    \n",
    "        soma_positivos += num \n",
    "        \n",
    "print(f\"Quantidade de números negativos: {quant_negativos}\") \n",
    "print(f\"Soma dos números positivos: {soma_positivos:.2f}\")"
   ]
  },
  {
   "cell_type": "markdown",
   "id": "a10477ff",
   "metadata": {},
   "source": [
    "#### 12. Escreva um programa que leia 10 números inteiros e os armazene em um vetor. Imprima o vetor, o maior elemento e a posição que ele se encontra."
   ]
  },
  {
   "cell_type": "code",
   "execution_count": 11,
   "id": "554c689e",
   "metadata": {},
   "outputs": [
    {
     "name": "stdout",
     "output_type": "stream",
     "text": [
      "Informe o 1 o número: 5\n",
      "Informe o 2 o número: 6\n",
      "Informe o 3 o número: 9\n",
      "Informe o 4 o número: 78\n",
      "Informe o 5 o número: 23\n",
      "Informe o 6 o número: 15\n",
      "Informe o 7 o número: 69\n",
      "Informe o 8 o número: 498\n",
      "Informe o 9 o número: 12\n",
      "Informe o 10 o número: 2\n",
      "\n",
      " Vetor informado: \n",
      "[0] = 5\n",
      "[1] = 6\n",
      "[2] = 9\n",
      "[3] = 78\n",
      "[4] = 23\n",
      "[5] = 15\n",
      "[6] = 69\n",
      "[7] = 498\n",
      "[8] = 12\n",
      "[9] = 2\n",
      "\n",
      " Maior número: 498\n",
      "Posição do maior número: 7\n"
     ]
    }
   ],
   "source": [
    "## Lista para armazenar os números \n",
    "numeros = []\n",
    "\n",
    "# Leitura dos 10 valores inteiros\n",
    "for i in range(10):\n",
    "    \n",
    "    numero = int(input(f\"Informe o {i + 1} o número: \")) \n",
    "    numeros.append(numero) \n",
    "    \n",
    "#Inicializa maior posição \n",
    "maior = numeros[0]\n",
    "posicao_senior = 0 \n",
    "\n",
    "# Verifica o maior número e sua posição \n",
    "for i in range(1, len(numeros)): \n",
    "    \n",
    "    if numeros[i] > maior: \n",
    "        \n",
    "        maior = numeros[i] \n",
    "        posicao_maior = i\n",
    "        \n",
    "# Impressão do vetor \n",
    "print(\"\\n Vetor informado: \") \n",
    "for i, num in enumerate(numeros): \n",
    "    \n",
    "    print(f\"[{i}] = {num}\")\n",
    "    \n",
    "# Resultado final \n",
    "print(f\"\\n Maior número: {maior}\") \n",
    "print(f\"Posição do maior número: {posicao_maior}\")"
   ]
  },
  {
   "cell_type": "markdown",
   "id": "6658f080",
   "metadata": {},
   "source": [
    "#### 13. Faça um programa que leia um vetor de 5 posições para números reais e, depois, um código inteiro. Se o código for 0, finalize o programa; se for 1, imprima o vetor na ordem direta; se for 2, imprima na ordem inversa. Caso o código for diferente de 0, 1 ou 2, escreva uma mensagem informando que o código é inválido. "
   ]
  },
  {
   "cell_type": "code",
   "execution_count": 13,
   "id": "e34c77db",
   "metadata": {},
   "outputs": [
    {
     "name": "stdout",
     "output_type": "stream",
     "text": [
      "Informe o 1 o número: 7\n",
      "Informe o 2 o número: 8\n",
      "Informe o 3 o número: 9\n",
      "Informe o 4 o número: 4\n",
      "Informe o 5 o número: 5\n",
      "Informe o código (0 = sair, 1 = ordem direta, 2 = ordem inversa): 1\n",
      "Vetor na ordem direta: \n",
      "Posição[0]: 7.00\n",
      "Posição[1]: 8.00\n",
      "Posição[2]: 9.00\n",
      "Posição[3]: 4.00\n",
      "Posição[4]: 5.00\n"
     ]
    }
   ],
   "source": [
    "numeros = [] \n",
    "\n",
    "# Leitura dos 5 números reais\n",
    "for i in range(5): \n",
    "    \n",
    "    valor = float(input(f\"Informe o {i + 1} o número: \")) \n",
    "    numeros.append(valor) \n",
    "    \n",
    "# Leitura do código \n",
    "codigo = int(input(\"Informe o código (0 = sair, 1 = ordem direta, 2 = ordem inversa): \")) \n",
    "\n",
    "# Verificação do código\n",
    "if codigo == 0:\n",
    "    \n",
    "    print(\"Programa finalizado.\")\n",
    "    \n",
    "elif codigo == 1: \n",
    "    \n",
    "    print(\"Vetor na ordem direta: \")\n",
    "    \n",
    "    for i in range(len(numeros)): \n",
    "        \n",
    "        print(f\"Posição[{i}]: {numeros[i]:.2f}\") \n",
    "        \n",
    "elif codigo == 2: \n",
    "    \n",
    "    print(\"Vetor na ordem inversa: \")\n",
    "    \n",
    "    for i in range(len(numeros)-1, -1, -1):\n",
    "        \n",
    "        print(f\"Posição [{i}]: {numeros[i]:.2f}\")\n",
    "        \n",
    "else: \n",
    "    \n",
    "    print(\"Código inválido.\")"
   ]
  },
  {
   "cell_type": "markdown",
   "id": "cc67cc36",
   "metadata": {},
   "source": [
    "#### 14. Faça um programa que leia um vetor de 10 posições e verifique se existem valores iguais e os escreva na tela."
   ]
  },
  {
   "cell_type": "code",
   "execution_count": 1,
   "id": "e98b8e94",
   "metadata": {},
   "outputs": [
    {
     "name": "stdout",
     "output_type": "stream",
     "text": [
      "Informe o 0 o número: 10\n",
      "Informe o 1 o número: 20\n",
      "Informe o 2 o número: 30\n",
      "Informe o 3 o número: 10\n",
      "Informe o 4 o número: 40\n",
      "Informe o 5 o número: 20\n",
      "Informe o 6 o número: 60\n",
      "Informe o 7 o número: 70\n",
      "Informe o 8 o número: 10\n",
      "Informe o 9 o número: 90\n",
      "Número repetido: 10.00 - Aparece 3 vezes nas posições: [0, 3, 8]\n",
      "Número repetido: 20.00 - Aparece 2 vezes nas posições: [1, 5]\n"
     ]
    }
   ],
   "source": [
    "numeros = []\n",
    "\n",
    "# Leitura dos números\n",
    "for i in range(10): \n",
    "    \n",
    "    num = float(input(f\"Informe o {i} o número: \"))\n",
    "    numeros.append(num) \n",
    "    \n",
    "repetido = False\n",
    "\n",
    "# Verificação de números repetidos\n",
    "for i in range(len(numeros)): \n",
    "    \n",
    "    ja_verificado = False \n",
    "    \n",
    "    # Verifica se o número já foi checado antes\n",
    "    for k in range(i):\n",
    "        \n",
    "        if numeros[i] == numeros[k]:\n",
    "            \n",
    "            ja_verificado = True \n",
    "            break\n",
    "            \n",
    "    if ja_verificado: \n",
    "        continue\n",
    "        \n",
    "    count = 1\n",
    "    posicoes = [i]\n",
    "    \n",
    "    for j in range(i + 1, len(numeros)): \n",
    "        \n",
    "        if numeros[i] == numeros[j]:\n",
    "            \n",
    "            count += 1\n",
    "            posicoes.append(j) \n",
    "            \n",
    "    if count > 1: \n",
    "        \n",
    "        print(f\"Número repetido: {numeros[i]:.2f} - Aparece {count} vezes nas posições: {posicoes}\")\n",
    "        repetido = True\n",
    "        \n",
    "if not repetido: \n",
    "    \n",
    "    print(\"Nenhum número repetido foi encontrado.\")"
   ]
  },
  {
   "cell_type": "markdown",
   "id": "bef15c8a",
   "metadata": {},
   "source": [
    "#### 15. Leia um vetor com 20 números inteiros. Escreva os elementos do vetor eliminando elementos repetidos."
   ]
  },
  {
   "cell_type": "code",
   "execution_count": 1,
   "id": "824605e8",
   "metadata": {},
   "outputs": [
    {
     "name": "stdout",
     "output_type": "stream",
     "text": [
      "Informe o 0 o número do vetor: 5\n",
      "Informe o 1 o número do vetor: 3\n",
      "Informe o 2 o número do vetor: 7\n",
      "Informe o 3 o número do vetor: 5\n",
      "Informe o 4 o número do vetor: 9\n",
      "Informe o 5 o número do vetor: 3\n",
      "Informe o 6 o número do vetor: 1\n",
      "Informe o 7 o número do vetor: 2\n",
      "Informe o 8 o número do vetor: 7\n",
      "Informe o 9 o número do vetor: 4\n",
      "Informe o 10 o número do vetor: 6\n",
      "Informe o 11 o número do vetor: 2\n",
      "Informe o 12 o número do vetor: 8\n",
      "Informe o 13 o número do vetor: 0\n",
      "Informe o 14 o número do vetor: 1\n",
      "Informe o 15 o número do vetor: 9\n",
      "Informe o 16 o número do vetor: 10\n",
      "Informe o 17 o número do vetor: 4\n",
      "Informe o 18 o número do vetor: 11\n",
      "Informe o 19 o número do vetor: 6\n",
      "\n",
      " Elementos sem repetição: \n",
      "[0] = [5]\n",
      "[1] = [3]\n",
      "[2] = [7]\n",
      "[4] = [9]\n",
      "[6] = [1]\n",
      "[7] = [2]\n",
      "[9] = [4]\n",
      "[10] = [6]\n",
      "[12] = [8]\n",
      "[13] = [0]\n",
      "[16] = [10]\n",
      "[18] = [11]\n"
     ]
    }
   ],
   "source": [
    "# Lista para armazenar os 20 números\n",
    "numeros = [] \n",
    "\n",
    "# Leitura dos 20 números inteiros\n",
    "for i in range(20): \n",
    "    \n",
    "    num = int(input(f\"Informe o {i} o número do vetor: \")) \n",
    "    numeros.append(num)\n",
    "    \n",
    "# Impressão sem elementos repetidos\n",
    "print(\"\\n Elementos sem repetição: \") \n",
    "for i in range(len(numeros)): \n",
    "    \n",
    "    repetir = False\n",
    "    for j in range(i): \n",
    "        \n",
    "        if numeros[i] == numeros[j]: \n",
    "            \n",
    "            repetir = True\n",
    "            break \n",
    "            \n",
    "    if not repetir:\n",
    "        \n",
    "        print(f\"[{i}] = [{numeros[i]}]\")"
   ]
  },
  {
   "cell_type": "markdown",
   "id": "1c2c1292",
   "metadata": {},
   "source": [
    "#### 16. Faça um programa que leia um vetor de 5 posições para números reais e, depois, um código inteiro. Se o código for zero, finalize o programa; se for 1, mostre o vetor na ordem direta; se for 2, mostre o vetor na ordem inversa. Caso o código for diferente de 1 e 2 escreva uma mensagem informando que o código é inválido."
   ]
  },
  {
   "cell_type": "code",
   "execution_count": 3,
   "id": "0a5c78c2",
   "metadata": {},
   "outputs": [
    {
     "name": "stdout",
     "output_type": "stream",
     "text": [
      "Informe o 0º número: 9.00\n",
      "Informe o 1º número: 7.00\n",
      "Informe o 2º número: 5.60\n",
      "Informe o 3º número: 3.40\n",
      "Informe o 4º número: 1.20\n",
      "Informe o código(0 = sair, 1 = ordem direta, 2 = ordem inversa: 2\n",
      "Vetor na ordem inversa: \n",
      "[4] = 1.20\n",
      "[3] = 3.40\n",
      "[2] = 5.60\n",
      "[1] = 7.00\n",
      "[0] = 9.00\n"
     ]
    }
   ],
   "source": [
    "# Leitura do vetor de 5 números reais\n",
    "numeros = [] \n",
    "\n",
    "for i in range(5):\n",
    "    \n",
    "    num = float(input(f\"Informe o {i}º número: \"))\n",
    "    numeros.append(num) \n",
    "    \n",
    "# Leitura do código \n",
    "codigo = int(input(\"Informe o código(0 = sair, 1 = ordem direta, 2 = ordem inversa: \"))\n",
    "\n",
    "# Ações com base no código \n",
    "if codigo == 0:\n",
    "    \n",
    "    print(\"Programa finalizado. \") \n",
    "    \n",
    "elif codigo == 1: \n",
    "    \n",
    "    print(\"Vetor na ordem direta: \") \n",
    "    \n",
    "    for i, valor in enumerate(numeros): \n",
    "        \n",
    "        print(f\"[{i}] = {valor:.2f}\")\n",
    "        \n",
    "elif codigo == 2: \n",
    "    \n",
    "    print(\"Vetor na ordem inversa: \") \n",
    "    for i in range(4, -1, -1): \n",
    "        \n",
    "        print(f\"[{i}] = {numeros[i]:.2f}\") \n",
    "        \n",
    "else: \n",
    "    \n",
    "    print(\"Código inválido.\")"
   ]
  },
  {
   "cell_type": "markdown",
   "id": "5eec2226",
   "metadata": {},
   "source": [
    "#### 17. Faça um programa que leia dois vetores de 10 posições e calcule outro vetor contendo, nas posições pares os valores do primeiro e nas posições impares os valores do segundo."
   ]
  },
  {
   "cell_type": "code",
   "execution_count": 1,
   "id": "2edae801",
   "metadata": {},
   "outputs": [
    {
     "name": "stdout",
     "output_type": "stream",
     "text": [
      "Digite os valores do primeiro vetor: \n",
      "vetor 1: [0]: 10\n",
      "vetor 1: [1]: 20\n",
      "vetor 1: [2]: 30\n",
      "vetor 1: [3]: 789\n",
      "vetor 1: [4]: 56\n",
      "vetor 1: [5]: 141\n",
      "vetor 1: [6]: 203\n",
      "vetor 1: [7]: 87\n",
      "vetor 1: [8]: 96\n",
      "vetor 1: [9]: 23\n",
      "Digite os valores do segundo vetor: \n",
      "vetor 2: [0]: 100\n",
      "vetor 2: [1]: 28\n",
      "vetor 2: [2]: 78\n",
      "vetor 2: [3]: 96\n",
      "vetor 2: [4]: 45\n",
      "vetor 2: [5]: 12\n",
      "vetor 2: [6]: 123\n",
      "vetor 2: [7]: 48\n",
      "vetor 2: [8]: 45\n",
      "vetor 2: [9]: 21\n",
      "\n",
      " Vetor resultado: \n",
      "resultado[0] = 10.00\n",
      "resultado[1] = 28.00\n",
      "resultado[2] = 30.00\n",
      "resultado[3] = 96.00\n",
      "resultado[4] = 56.00\n",
      "resultado[5] = 12.00\n",
      "resultado[6] = 203.00\n",
      "resultado[7] = 48.00\n",
      "resultado[8] = 96.00\n",
      "resultado[9] = 21.00\n"
     ]
    }
   ],
   "source": [
    "# Leitura do primeiro vetor\n",
    "vetor1 = [] \n",
    "print(\"Digite os valores do primeiro vetor: \") \n",
    "for i in range(10):\n",
    "    \n",
    "    valor = float(input(f\"vetor 1: [{i}]: \"))\n",
    "    vetor1.append(valor) \n",
    "    \n",
    "# Leitura do segundo vetor\n",
    "vetor2 = [] \n",
    "print(\"Digite os valores do segundo vetor: \") \n",
    "for i in range(10): \n",
    "    valor = float(input(f\"vetor 2: [{i}]: \")) \n",
    "    vetor2.append(valor)\n",
    "    \n",
    "# Construção do vetor resultado \n",
    "resultado = [] \n",
    "\n",
    "for i in range(10): \n",
    "    \n",
    "    if i % 2 == 0: \n",
    "        \n",
    "        resultado.append(vetor1[i])\n",
    "        \n",
    "    else: \n",
    "        \n",
    "        resultado.append(vetor2[i]) \n",
    "        \n",
    "# Exibição do vetor resultado\n",
    "print(\"\\n Vetor resultado: \")\n",
    "for i, valor in enumerate(resultado): \n",
    "    \n",
    "    print(f\"resultado[{i}] = {valor:.2f}\")"
   ]
  },
  {
   "cell_type": "markdown",
   "id": "77172e27",
   "metadata": {},
   "source": [
    "#### 18. Faça um programa que leia um vetor de 10 números. Leia um número X. Conte os múltiplos de um número inteiro X no vetor e mostre-os na tela."
   ]
  },
  {
   "cell_type": "code",
   "execution_count": 3,
   "id": "88af1ce1",
   "metadata": {},
   "outputs": [
    {
     "name": "stdout",
     "output_type": "stream",
     "text": [
      "Informe o 0º número do vetor: 10\n",
      "Informe o 1º número do vetor: 15\n",
      "Informe o 2º número do vetor: 7\n",
      "Informe o 3º número do vetor: 20\n",
      "Informe o 4º número do vetor: 8\n",
      "Informe o 5º número do vetor: 9\n",
      "Informe o 6º número do vetor: 13\n",
      "Informe o 7º número do vetor: 30\n",
      "Informe o 8º número do vetor: 21\n",
      "Informe o 9º número do vetor: 25\n",
      "Informe o valor de x: 5\n",
      "\n",
      " Números múltiplos de x encontrados no vetor: \n",
      "\n",
      "Valor [0] = [10]\n",
      "Valor [1] = [15]\n",
      "Valor [3] = [20]\n",
      "Valor [7] = [30]\n",
      "Valor [9] = [25]\n",
      "\n",
      " Quantidade de valores múltiplos de 5: 5\n"
     ]
    }
   ],
   "source": [
    "# Lista para armazenar os números\n",
    "numeros = [] \n",
    "\n",
    "# Leitura de 10 números inteiros\n",
    "for i in range(10): \n",
    "    \n",
    "    num = int(input(f\"Informe o {i}º número do vetor: \")) \n",
    "    numeros.append(num)\n",
    "    \n",
    "# Leitura do número x \n",
    "x = int(input(\"Informe o valor de x: \")) \n",
    "\n",
    "# Inicializa contador de múltiplos \n",
    "quant = 0 \n",
    "\n",
    "print(\"\\n Números múltiplos de x encontrados no vetor: \\n\") \n",
    "\n",
    "# Verifica e exibe os múltiplos de X \n",
    "for i in range(len(numeros)): \n",
    "    \n",
    "    if numeros[i] % x == 0: \n",
    "        \n",
    "        print(f\"Valor [{i}] = [{numeros[i]}]\") \n",
    "        quant += 1\n",
    "        \n",
    "# Mostra a quantidade de múltiplos \n",
    "print(f\"\\n Quantidade de valores múltiplos de {x}: {quant}\")"
   ]
  },
  {
   "cell_type": "markdown",
   "id": "884b0403",
   "metadata": {},
   "source": [
    "#### 19. Faça um vetor de tamanho 50 preenchido com o seguinte valor: \n"
   ]
  },
  {
   "cell_type": "markdown",
   "id": "144f1a6c",
   "metadata": {},
   "source": [
    "*** (i + 5 × i) % (i + 1),"
   ]
  },
  {
   "cell_type": "markdown",
   "id": "67a6ce71",
   "metadata": {},
   "source": [
    "#### sendo i a posição do elemento no vetor. Em seguida imprima o vetor na tela."
   ]
  },
  {
   "cell_type": "code",
   "execution_count": 4,
   "id": "e8eb7412",
   "metadata": {},
   "outputs": [
    {
     "name": "stdout",
     "output_type": "stream",
     "text": [
      "Posição 0: 0\n",
      "Posição 1: 0\n",
      "Posição 2: 0\n",
      "Posição 3: 2\n",
      "Posição 4: 4\n",
      "Posição 5: 0\n",
      "Posição 6: 1\n",
      "Posição 7: 2\n",
      "Posição 8: 3\n",
      "Posição 9: 4\n",
      "Posição 10: 5\n",
      "Posição 11: 6\n",
      "Posição 12: 7\n",
      "Posição 13: 8\n",
      "Posição 14: 9\n",
      "Posição 15: 10\n",
      "Posição 16: 11\n",
      "Posição 17: 12\n",
      "Posição 18: 13\n",
      "Posição 19: 14\n",
      "Posição 20: 15\n",
      "Posição 21: 16\n",
      "Posição 22: 17\n",
      "Posição 23: 18\n",
      "Posição 24: 19\n",
      "Posição 25: 20\n",
      "Posição 26: 21\n",
      "Posição 27: 22\n",
      "Posição 28: 23\n",
      "Posição 29: 24\n",
      "Posição 30: 25\n",
      "Posição 31: 26\n",
      "Posição 32: 27\n",
      "Posição 33: 28\n",
      "Posição 34: 29\n",
      "Posição 35: 30\n",
      "Posição 36: 31\n",
      "Posição 37: 32\n",
      "Posição 38: 33\n",
      "Posição 39: 34\n",
      "Posição 40: 35\n",
      "Posição 41: 36\n",
      "Posição 42: 37\n",
      "Posição 43: 38\n",
      "Posição 44: 39\n",
      "Posição 45: 40\n",
      "Posição 46: 41\n",
      "Posição 47: 42\n",
      "Posição 48: 43\n",
      "Posição 49: 44\n"
     ]
    }
   ],
   "source": [
    "# Lista para armazenar os 50 valores\n",
    "numeros = [] \n",
    "\n",
    "# Preenchimento com a fórmula: (i + 5 × i) % (i + 1)\n",
    "for i in range(50): \n",
    "    \n",
    "    valor = (i + 5 * i) % (i + 1)\n",
    "    numeros.append(valor)\n",
    "    \n",
    "# Impressão dos valores\n",
    "for i in range(50):\n",
    "    \n",
    "    print(f\"Posição {i}: {numeros[i]}\")"
   ]
  },
  {
   "cell_type": "markdown",
   "id": "df225cc5",
   "metadata": {},
   "source": [
    "#### 20. Leia 10 valores inteiros e armazene em um vetor A. "
   ]
  },
  {
   "cell_type": "markdown",
   "id": "b61bc52a",
   "metadata": {},
   "source": [
    "#### Crie um segundo vetor B, em que cada elemento seja o dobro do correspondente no vetor A. Ao final, imprima os dois vetores."
   ]
  },
  {
   "cell_type": "code",
   "execution_count": 5,
   "id": "d02384a7",
   "metadata": {},
   "outputs": [
    {
     "name": "stdout",
     "output_type": "stream",
     "text": [
      "Informe o 0º número do Vetor A: 56\n",
      "Informe o 1º número do Vetor A: 12\n",
      "Informe o 2º número do Vetor A: 45\n",
      "Informe o 3º número do Vetor A: 12\n",
      "Informe o 4º número do Vetor A: 120\n",
      "Informe o 5º número do Vetor A: 79\n",
      "Informe o 6º número do Vetor A: 63\n",
      "Informe o 7º número do Vetor A: 14\n",
      "Informe o 8º número do Vetor A: 29\n",
      "Informe o 9º número do Vetor A: 100\n",
      "\n",
      " Vetor A: \n",
      "A[0] = 56\n",
      "A[1] = 12\n",
      "A[2] = 45\n",
      "A[3] = 12\n",
      "A[4] = 120\n",
      "A[5] = 79\n",
      "A[6] = 63\n",
      "A[7] = 14\n",
      "A[8] = 29\n",
      "A[9] = 100\n",
      "\n",
      " Vetor B: \n",
      "B[0] = 112\n",
      "B[1] = 24\n",
      "B[2] = 90\n",
      "B[3] = 24\n",
      "B[4] = 240\n",
      "B[5] = 158\n",
      "B[6] = 126\n",
      "B[7] = 28\n",
      "B[8] = 58\n",
      "B[9] = 200\n"
     ]
    }
   ],
   "source": [
    "# Lista para os vetores A e B \n",
    "A = [] \n",
    "B = [] \n",
    "\n",
    "# Leitura de 10 valores para o vetor A\n",
    "for i in range(10): \n",
    "    \n",
    "    valor = int(input(f\"Informe o {i}º número do Vetor A: \"))\n",
    "    A.append(valor) \n",
    "    B.append(valor * 2) # Cada elemento de B é o dobro do correspondente em A \n",
    "    \n",
    "# Impressão dos vetores\n",
    "\n",
    "print(\"\\n Vetor A: \")\n",
    "for i in range(10): \n",
    "    \n",
    "    print(f\"A[{i}] = {A[i]}\")\n",
    "    \n",
    "print(\"\\n Vetor B: \")\n",
    "for i in range(10): \n",
    "    \n",
    "    print(f\"B[{i}] = {B[i]}\")\n",
    "    "
   ]
  },
  {
   "cell_type": "markdown",
   "id": "16b367d9",
   "metadata": {},
   "source": [
    "#### 21. Faça um programa que receba do usuário dois vetores A e B, com 10 números inteiros cada. Crie um novo vetor denominado C calculando C = A - B. Mostre na tela os dados do vetor C. "
   ]
  },
  {
   "cell_type": "code",
   "execution_count": 6,
   "id": "5dc59784",
   "metadata": {},
   "outputs": [
    {
     "name": "stdout",
     "output_type": "stream",
     "text": [
      "Informe 10 números para o vetor A: \n",
      "A[0]: 45\n",
      "A[1]: 12\n",
      "A[2]: 63\n",
      "A[3]: 78\n",
      "A[4]: 56\n",
      "A[5]: 49\n",
      "A[6]: 52\n",
      "A[7]: 13\n",
      "A[8]: 28\n",
      "A[9]: 33\n",
      "Informe 10 números para o vetor B: \n",
      "B[0]: 10\n",
      "B[1]: 23\n",
      "B[2]: 35\n",
      "B[3]: 49\n",
      "B[4]: 59\n",
      "B[5]: 61\n",
      "B[6]: 78\n",
      "B[7]: 82\n",
      "B[8]: 90\n",
      "B[9]: 100\n",
      "Informe 10 números para o vetor C: \n",
      "\n",
      " Vetor C (A - B): \n",
      "C[0] = 35\n",
      "C[1] = -11\n",
      "C[2] = 28\n",
      "C[3] = 29\n",
      "C[4] = -3\n",
      "C[5] = -12\n",
      "C[6] = -26\n",
      "C[7] = -69\n",
      "C[8] = -62\n",
      "C[9] = -67\n"
     ]
    }
   ],
   "source": [
    "### Lista de Vetores em Python \n",
    "vetA = [] \n",
    "vetB = [] \n",
    "vetC = [] \n",
    "\n",
    "# Lendo os valores do vetor A\n",
    "print(\"Informe 10 números para o vetor A: \") \n",
    "for i in range(10): \n",
    "    \n",
    "    num = int(input(f\"A[{i}]: \")) \n",
    "    vetA.append(num)\n",
    "    \n",
    "# Lendo os valores do vetor B\n",
    "print(\"Informe 10 números para o vetor B: \") \n",
    "for i in range(10): \n",
    "    \n",
    "    num = int(input(f\"B[{i}]: \")) \n",
    "    vetB.append(num)\n",
    "    \n",
    "# Calculando o vetor C = A - B\n",
    "print(\"Informe 10 números para o vetor C: \") \n",
    "for i in range(10): \n",
    "    \n",
    "    vetC.append(vetA[i] - vetB[i]) \n",
    "    \n",
    "# Exibindo o vetor C \n",
    "print(\"\\n Vetor C (A - B): \") \n",
    "for i in range(10): \n",
    "    \n",
    "    print(f\"C[{i}] = {vetC[i]}\")"
   ]
  },
  {
   "cell_type": "markdown",
   "id": "a96cda05",
   "metadata": {},
   "source": [
    "#### 22. Faça um programa que leia dois vetores de 10 posições e calcule outro vetor contendo, nas posições pares os valores do primeiro e nas posições ímpares os valores do segundo."
   ]
  },
  {
   "cell_type": "code",
   "execution_count": 2,
   "id": "81e9cc09",
   "metadata": {},
   "outputs": [
    {
     "name": "stdout",
     "output_type": "stream",
     "text": [
      "Informe 10 números para o Vetor A: \n",
      "A [0]: 10\n",
      "A [1]: 20\n",
      "A [2]: 30\n",
      "A [3]: 40\n",
      "A [4]: 50\n",
      "A [5]: 60\n",
      "A [6]: 70\n",
      "A [7]: 80\n",
      "A [8]: 90\n",
      "A [9]: 100\n",
      "Informe 10 números para o Vetor B: \n",
      "B [0]: 1\n",
      "B [1]: 2\n",
      "B [2]: 3\n",
      "B [3]: 4\n",
      "B [4]: 5\n",
      "B [5]: 6\n",
      "B [6]: 7\n",
      "B [7]: 8\n",
      "B [8]: 9\n",
      "B [9]: 10\n",
      "\n",
      " Vetor C (pares de A, Impares de B): \n",
      "C[0] = 10\n",
      "C[1] = 2\n",
      "C[2] = 30\n",
      "C[3] = 4\n",
      "C[4] = 50\n",
      "C[5] = 6\n",
      "C[6] = 70\n",
      "C[7] = 8\n",
      "C[8] = 90\n",
      "C[9] = 10\n"
     ]
    }
   ],
   "source": [
    "### Variáveis\n",
    "vetA = [] \n",
    "vetB = [] \n",
    "vetC = []\n",
    "\n",
    "# Leitura do Vetor A\n",
    "print(\"Informe 10 números para o Vetor A: \") \n",
    "for i in range(10): \n",
    "    \n",
    "    num = int(input(f\"A [{i}]: \"))\n",
    "    vetA.append(num) \n",
    "    \n",
    "# Leitura do Vetor B\n",
    "print(\"Informe 10 números para o Vetor B: \") \n",
    "for i in range(10): \n",
    "    \n",
    "    num = int(input(f\"B [{i}]: \"))\n",
    "    vetB.append(num) \n",
    "    \n",
    "# Construindo do Vetor C \n",
    "for i in range(10): \n",
    "    \n",
    "    if i % 2 == 0: \n",
    "        \n",
    "        # posição par - Valor de A\n",
    "        vetC.append(vetA[i])\n",
    "        \n",
    "    else: \n",
    "        \n",
    "        # posição impar - Valor de B\n",
    "        vetC.append(vetB[i])\n",
    "        \n",
    "# Exibição do vetor C \n",
    "print(\"\\n Vetor C (pares de A, Impares de B): \")\n",
    "for i in range(10):\n",
    "    \n",
    "    print(f\"C[{i}] = {vetC[i]}\")"
   ]
  },
  {
   "cell_type": "markdown",
   "id": "147b86b2",
   "metadata": {},
   "source": [
    "#### 23. Ler dois conjuntos de números reais, armazenando-os em vetores e calcular o produto escalar entre eles. Os conjuntos têm 5 elementos cada. Imprimir os dois conjuntos e o produto escalar, sendo que o produto escalar é dado por:"
   ]
  },
  {
   "cell_type": "markdown",
   "id": "e6267e81",
   "metadata": {},
   "source": [
    "#### x1 * y1 + x2 * y2 + ... + xn * yn"
   ]
  },
  {
   "cell_type": "code",
   "execution_count": 3,
   "id": "db33f51d",
   "metadata": {},
   "outputs": [
    {
     "name": "stdout",
     "output_type": "stream",
     "text": [
      "Informe 5 números reais para o vetor A: \n",
      "A[0]: 78\n",
      "A[1]: 21\n",
      "A[2]: 45\n",
      "A[3]: 63\n",
      "A[4]: 123\n",
      "Informe 5 números reais para o vetor B: \n",
      "B[0]: 65\n",
      "B[1]: 87\n",
      "B[2]: 10\n",
      "B[3]: 23\n",
      "B[4]: 65\n",
      "\n",
      " Vetor A:  [78.0, 21.0, 45.0, 63.0, 123.0]\n",
      "\n",
      " Vetor B:  [65.0, 87.0, 10.0, 23.0, 65.0]\n",
      "Produto escalar: 16791.00\n"
     ]
    }
   ],
   "source": [
    "vetorA = []\n",
    "vetorB = [] \n",
    "produto_escalar = 0\n",
    "\n",
    "# Leitura do Vetor A \n",
    "print(\"Informe 5 números reais para o vetor A: \")\n",
    "for i in range(5):\n",
    "    \n",
    "    num = float(input(f\"A[{i}]: \")) \n",
    "    vetorA.append(num) \n",
    "    \n",
    "# Leitura do Vetor B \n",
    "print(\"Informe 5 números reais para o vetor B: \")\n",
    "for i in range(5):\n",
    "    \n",
    "    num = float(input(f\"B[{i}]: \")) \n",
    "    vetorB.append(num) \n",
    "    \n",
    "# Cálculo do produto escalar\n",
    "for i in range(5): \n",
    "    \n",
    "    produto_escalar += vetorA[i] * vetorB[i] \n",
    "    \n",
    "# Exibição dos vetores e do produto escalar\n",
    "print(\"\\n Vetor A: \", vetorA) \n",
    "print(\"\\n Vetor B: \", vetorB) \n",
    "print(f\"\\n Produto escalar: {produto_escalar:.2f}\")"
   ]
  },
  {
   "cell_type": "markdown",
   "id": "cf4b8a73",
   "metadata": {},
   "source": [
    "#### 24. Faça um programa que leia dois vetores de 10 elementos. Crie um vetor que seja a interseção entre os dois vetores, ou seja, que contém apenas os números que estão em ambos os vetores. Não deve conter números repetidos."
   ]
  },
  {
   "cell_type": "code",
   "execution_count": 5,
   "id": "aceb1e32",
   "metadata": {},
   "outputs": [
    {
     "name": "stdout",
     "output_type": "stream",
     "text": [
      "Informe 10 valores inteiros para o vetor A: \n",
      "A[0]: 1\n",
      "A[1]: 3\n",
      "A[2]: 5\n",
      "A[3]: 7\n",
      "A[4]: 9\n",
      "A[5]: 11\n",
      "A[6]: 13\n",
      "A[7]: 15\n",
      "A[8]: 17\n",
      "A[9]: 19\n",
      "\n",
      " Informe 10 valores inteiros para o Vetor B: \n",
      "B[0]: 2\n",
      "B[1]: 3\n",
      "B[2]: 6\n",
      "B[3]: 7\n",
      "B[4]: 10\n",
      "B[5]: 11\n",
      "B[6]: 14\n",
      "B[7]: 17\n",
      "B[8]: 20\n",
      "B[9]: 21\n",
      "\n",
      " Vetor Interseção (sem repetição): \n",
      "[3, 7, 11, 17]\n"
     ]
    }
   ],
   "source": [
    "vetorA = []\n",
    "vetorB = [] \n",
    "\n",
    "print(\"Informe 10 valores inteiros para o vetor A: \")\n",
    "for i in range(10): \n",
    "    \n",
    "    num = int(input(f\"A[{i}]: \"))\n",
    "    vetorA.append(num) \n",
    "    \n",
    "print(\"\\n Informe 10 valores inteiros para o Vetor B: \") \n",
    "for i in range(10): \n",
    "    \n",
    "    num = int(input(f\"B[{i}]: \")) \n",
    "    vetorB.append(num) \n",
    "    \n",
    "# Cálculo da interseção sem repetição \n",
    "intersecao = [] \n",
    "for num in vetorA: \n",
    "    \n",
    "    if num in vetorB and num not in intersecao: \n",
    "        \n",
    "        intersecao.append(num)\n",
    "        \n",
    "# Exibição \n",
    "print(\"\\n Vetor Interseção (sem repetição): \")\n",
    "print(intersecao)"
   ]
  },
  {
   "cell_type": "markdown",
   "id": "303a1d41",
   "metadata": {},
   "source": [
    "#### 25. Faça um programa que preencha um vetor de tamanho 100 com os 100 primeiros naturais que não são múltiplos de 7 ou que terminam com 7."
   ]
  },
  {
   "cell_type": "code",
   "execution_count": 6,
   "id": "74ecab16",
   "metadata": {},
   "outputs": [
    {
     "name": "stdout",
     "output_type": "stream",
     "text": [
      "[0] : [1.00]\n",
      "[1] : [2.00]\n",
      "[2] : [3.00]\n",
      "[3] : [4.00]\n",
      "[4] : [5.00]\n",
      "[5] : [6.00]\n",
      "[6] : [8.00]\n",
      "[7] : [9.00]\n",
      "[8] : [10.00]\n",
      "[9] : [11.00]\n",
      "[10] : [12.00]\n",
      "[11] : [13.00]\n",
      "[12] : [15.00]\n",
      "[13] : [16.00]\n",
      "[14] : [18.00]\n",
      "[15] : [19.00]\n",
      "[16] : [20.00]\n",
      "[17] : [22.00]\n",
      "[18] : [23.00]\n",
      "[19] : [24.00]\n",
      "[20] : [25.00]\n",
      "[21] : [26.00]\n",
      "[22] : [29.00]\n",
      "[23] : [30.00]\n",
      "[24] : [31.00]\n",
      "[25] : [32.00]\n",
      "[26] : [33.00]\n",
      "[27] : [34.00]\n",
      "[28] : [36.00]\n",
      "[29] : [38.00]\n",
      "[30] : [39.00]\n",
      "[31] : [40.00]\n",
      "[32] : [41.00]\n",
      "[33] : [43.00]\n",
      "[34] : [44.00]\n",
      "[35] : [45.00]\n",
      "[36] : [46.00]\n",
      "[37] : [48.00]\n",
      "[38] : [50.00]\n",
      "[39] : [51.00]\n",
      "[40] : [52.00]\n",
      "[41] : [53.00]\n",
      "[42] : [54.00]\n",
      "[43] : [55.00]\n",
      "[44] : [58.00]\n",
      "[45] : [59.00]\n",
      "[46] : [60.00]\n",
      "[47] : [61.00]\n",
      "[48] : [62.00]\n",
      "[49] : [64.00]\n",
      "[50] : [65.00]\n",
      "[51] : [66.00]\n",
      "[52] : [68.00]\n",
      "[53] : [69.00]\n",
      "[54] : [71.00]\n",
      "[55] : [72.00]\n",
      "[56] : [73.00]\n",
      "[57] : [74.00]\n",
      "[58] : [75.00]\n",
      "[59] : [76.00]\n",
      "[60] : [78.00]\n",
      "[61] : [79.00]\n",
      "[62] : [80.00]\n",
      "[63] : [81.00]\n",
      "[64] : [82.00]\n",
      "[65] : [83.00]\n",
      "[66] : [85.00]\n",
      "[67] : [86.00]\n",
      "[68] : [88.00]\n",
      "[69] : [89.00]\n",
      "[70] : [90.00]\n",
      "[71] : [92.00]\n",
      "[72] : [93.00]\n",
      "[73] : [94.00]\n",
      "[74] : [95.00]\n",
      "[75] : [96.00]\n",
      "[76] : [99.00]\n",
      "[77] : [100.00]\n",
      "[78] : [101.00]\n",
      "[79] : [102.00]\n",
      "[80] : [103.00]\n",
      "[81] : [104.00]\n",
      "[82] : [106.00]\n",
      "[83] : [108.00]\n",
      "[84] : [109.00]\n",
      "[85] : [110.00]\n",
      "[86] : [111.00]\n",
      "[87] : [113.00]\n",
      "[88] : [114.00]\n",
      "[89] : [115.00]\n",
      "[90] : [116.00]\n",
      "[91] : [118.00]\n",
      "[92] : [120.00]\n",
      "[93] : [121.00]\n",
      "[94] : [122.00]\n",
      "[95] : [123.00]\n",
      "[96] : [124.00]\n",
      "[97] : [125.00]\n",
      "[98] : [128.00]\n",
      "[99] : [129.00]\n"
     ]
    }
   ],
   "source": [
    "vet7 = [] \n",
    "multiplo = 0 \n",
    "\n",
    "while len(vet7) < 100: \n",
    "    \n",
    "    if multiplo % 7 != 0 and multiplo % 10 != 7: \n",
    "        \n",
    "        vet7. append(multiplo) \n",
    "    multiplo += 1\n",
    "    \n",
    "# Exibindo os valores\n",
    "for i in range(len(vet7)):\n",
    "    \n",
    "    print(f\"[{i}] : [{vet7[i]:.2f}]\") "
   ]
  },
  {
   "cell_type": "markdown",
   "id": "3d82dde3",
   "metadata": {},
   "source": [
    "#### 26. Faça um programa que calcule o desvio padrão de um vetor v contendo n = 10 números, onde m é a média do vetor."
   ]
  },
  {
   "cell_type": "code",
   "execution_count": 7,
   "id": "32ebc245",
   "metadata": {},
   "outputs": [
    {
     "name": "stdout",
     "output_type": "stream",
     "text": [
      "Informe o valor da posição 0: 1\n",
      "Informe o valor da posição 1: 2\n",
      "Informe o valor da posição 2: 3\n",
      "Informe o valor da posição 3: 4\n",
      "Informe o valor da posição 4: 5\n",
      "Informe o valor da posição 5: 6\n",
      "Informe o valor da posição 6: 7\n",
      "Informe o valor da posição 7: 8\n",
      "Informe o valor da posição 8: 9\n",
      "Informe o valor da posição 9: 10\n",
      "Desvio Padrão: 3.03\n"
     ]
    }
   ],
   "source": [
    "import math \n",
    "\n",
    "vet = []\n",
    "n = 10 \n",
    "\n",
    "# Leitura dos 10 números\n",
    "for i in range(n): \n",
    "    \n",
    "    valor = float(input(f\"Informe o valor da posição {i}: \")) \n",
    "    vet.append(valor) \n",
    "    \n",
    "# Cálculo da média\n",
    "media = sum(vet) / n\n",
    "\n",
    "# Cálculo da soma dos quadrados das diferenças\n",
    "soma_quadrados = sum((x - media) ** 2 for x in vet)\n",
    "\n",
    "# Cálculo do desvio padrão \n",
    "desvio_padrao = math.sqrt(soma_quadrados / (n - 1))\n",
    "\n",
    "print(f\"Desvio Padrão: {desvio_padrao:.2f}\")"
   ]
  },
  {
   "cell_type": "markdown",
   "id": "f2bbef8d",
   "metadata": {},
   "source": [
    "#### 27. Leia 10 números inteiros e armazene em um valor. Em seguida escreva os elementos que são primos e suas respectivas posições no vetor\n"
   ]
  },
  {
   "cell_type": "code",
   "execution_count": 8,
   "id": "02d4273e",
   "metadata": {},
   "outputs": [
    {
     "name": "stdout",
     "output_type": "stream",
     "text": [
      "Informe o 0º número do vetor: 5\n",
      "Informe o 1º número do vetor: 3\n",
      "Informe o 2º número do vetor: 7\n",
      "Informe o 3º número do vetor: 5\n",
      "Informe o 4º número do vetor: 2\n",
      "Informe o 5º número do vetor: 9\n",
      "Informe o 6º número do vetor: 3\n",
      "Informe o 7º número do vetor: 8\n",
      "Informe o 8º número do vetor: 1\n",
      "Informe o 9º número do vetor: 2\n",
      "\n",
      " Valores repetidos no vetor: \n",
      "Valor repetido: 5 nas posições [0] e [3]\n",
      "Valor repetido: 3 nas posições [1] e [6]\n",
      "Valor repetido: 2 nas posições [4] e [9]\n"
     ]
    }
   ],
   "source": [
    "vet = [] \n",
    "\n",
    "# Leitura dos dados \n",
    "for i in range(10): \n",
    "    \n",
    "    num = int(input(f\"Informe o {i}º número do vetor: \"))\n",
    "    vet.append(num)\n",
    "    \n",
    "print(\"\\n Valores repetidos no vetor: \")\n",
    "encontrou = False\n",
    "\n",
    "for i in range(len(vet)): \n",
    "    \n",
    "    for j in range(i + 1, len(vet)):\n",
    "        \n",
    "        if vet[i] == vet[j]:\n",
    "            \n",
    "            print(f\"Valor repetido: {vet[i]} nas posições [{i}] e [{j}]\")\n",
    "            encontrou = True\n",
    "            \n",
    "if not encontrou: \n",
    "    \n",
    "    print(\"Não há valores repetidos no vetor.\")"
   ]
  },
  {
   "cell_type": "markdown",
   "id": "8cf1abf7",
   "metadata": {},
   "source": [
    "#### 28. Leia 10 números inteiros e armazene em um vetor v. Crie dois novos vetores v1 e v2.\n",
    "#### Copie os valores impares de v para v1, e os valores pares de v para v2. Note que cada um dos \n",
    "#### valores v1 e v2 têm no máximo 10 elementos, mas nem todos os elementos são utilizados. \n",
    "#### No final escreva os elementos UTILIZADOS de v1 e v2"
   ]
  },
  {
   "cell_type": "code",
   "execution_count": 1,
   "id": "0b48648e",
   "metadata": {},
   "outputs": [
    {
     "name": "stdout",
     "output_type": "stream",
     "text": [
      "Informe o 0º número: 10\n",
      "Informe o 1º número: 5\n",
      "Informe o 2º número: 8\n",
      "Informe o 3º número: 7\n",
      "Informe o 4º número: 4\n",
      "Informe o 5º número: 1\n",
      "Informe o 6º número: 6\n",
      "Informe o 7º número: 3\n",
      "Informe o 8º número: 2\n",
      "Informe o 9º número: 0\n",
      "\n",
      " Elementos ímpares (v1): \n",
      "v1[0] = 5\n",
      "v1[1] = 7\n",
      "v1[2] = 1\n",
      "v1[3] = 3\n",
      "\n",
      " Elementos pares (v2): \n",
      "v2[0] = 10\n",
      "v2[1] = 8\n",
      "v2[2] = 4\n",
      "v2[3] = 6\n",
      "v2[4] = 2\n",
      "v2[5] = 0\n"
     ]
    }
   ],
   "source": [
    "v = [] \n",
    "v1 = [] # impares\n",
    "v2 = [] # pares\n",
    "\n",
    "# Leitura dos 10 números\n",
    "for i in range(10): \n",
    "    \n",
    "    num = int(input(f\"Informe o {i}º número: \"))\n",
    "    v.append(num) \n",
    "    \n",
    "    if num % 2 == 0: \n",
    "        \n",
    "        v2.append(num)\n",
    "        \n",
    "    else: \n",
    "        \n",
    "        v1.append(num) \n",
    "        \n",
    "# Exibindo os elementos utilizados\n",
    "print(\"\\n Elementos ímpares (v1): \")\n",
    "for i, val in enumerate(v1): \n",
    "    \n",
    "    print(f\"v1[{i}] = {val}\") \n",
    "    \n",
    "print(\"\\n Elementos pares (v2): \")\n",
    "for i, val in enumerate(v2):\n",
    "    \n",
    "    print(f\"v2[{i}] = {val}\")"
   ]
  },
  {
   "cell_type": "markdown",
   "id": "a9262d11",
   "metadata": {},
   "source": [
    "#### 29. Faça um programa que receba 6 números inteiros e mostre:"
   ]
  },
  {
   "cell_type": "markdown",
   "id": "a4b9b3ed",
   "metadata": {},
   "source": [
    "#### Os números pares digitados;\n",
    "\n",
    "#### A soma dos números pares digitados;\n",
    "\n",
    "#### Os números ímpares digitados;\n",
    "\n",
    "#### A quantidade de números ímpares digitados;"
   ]
  },
  {
   "cell_type": "code",
   "execution_count": 4,
   "id": "38be2adc",
   "metadata": {},
   "outputs": [
    {
     "name": "stdout",
     "output_type": "stream",
     "text": [
      "Informe o 0º número: 10\n",
      "Informe o 1º número: 7\n",
      "Informe o 2º número: 4\n",
      "Informe o 3º número: 3\n",
      "Informe o 4º número: 2\n",
      "Informe o 5º número: 1\n",
      "Número par 0 = 10\n",
      "Número impar 1 = 7\n",
      "Número par 2 = 4\n",
      "Número impar 3 = 3\n",
      "Número par 4 = 2\n",
      "Número impar 5 = 1\n",
      "\n",
      "A soma dos números pares é: 16\n",
      "A quantidade dos números ímpares é: 3\n"
     ]
    }
   ],
   "source": [
    "numeros = [] \n",
    "soma_pares = 0 \n",
    "quant_impares = 0\n",
    "\n",
    "# Leitura dos 6 números\n",
    "for i in range(6): \n",
    "    \n",
    "    num = int(input(f\"Informe o {i}º número: \")) \n",
    "    numeros.append(num) \n",
    "    \n",
    "# Processamento e saída\n",
    "for i, num in enumerate(numeros): \n",
    "    \n",
    "    if num % 2 == 0: \n",
    "        \n",
    "        print(f\"Número par {i} = {num}\") \n",
    "        soma_pares += num \n",
    "        \n",
    "    else: \n",
    "        \n",
    "        print(f\"Número impar {i} = {num}\") \n",
    "        quant_impares += 1\n",
    "        \n",
    "print(f\"\\nA soma dos números pares é: {soma_pares}\") \n",
    "print(f\"A quantidade dos números ímpares é: {quant_impares}\")"
   ]
  },
  {
   "cell_type": "markdown",
   "id": "b9b92864",
   "metadata": {},
   "source": [
    "#### 30 - Faça um programa que leia dois vetores de 10 elementos."
   ]
  },
  {
   "cell_type": "markdown",
   "id": "f71c00fc",
   "metadata": {},
   "source": [
    "#### Crie um vetor que seja a interseção entre os 2 vetores anteriores, ou seja, que contenha apenas os números que estão em ambos os vetores."
   ]
  },
  {
   "cell_type": "markdown",
   "id": "947a0e9b",
   "metadata": {},
   "source": [
    "#### Não deve conter números repetidos."
   ]
  },
  {
   "cell_type": "code",
   "execution_count": 5,
   "id": "b20a353e",
   "metadata": {},
   "outputs": [
    {
     "name": "stdout",
     "output_type": "stream",
     "text": [
      "Informe os 10 elementos do vetor 1:\n",
      "v1[0]: 7\n",
      "v1[1]: 2\n",
      "v1[2]: 5\n",
      "v1[3]: 8\n",
      "v1[4]: 4\n",
      "v1[5]: 1\n",
      "v1[6]: 10\n",
      "v1[7]: 3\n",
      "v1[8]: 6\n",
      "v1[9]: 9\n",
      "\n",
      "Informe os 10 elementos do vetor 2:\n",
      "v2[0]: 4\n",
      "v2[1]: 2\n",
      "v2[2]: 9\n",
      "v2[3]: 5\n",
      "v2[4]: 7\n",
      "v2[5]: 11\n",
      "v2[6]: 12\n",
      "v2[7]: 13\n",
      "v2[8]: 14\n",
      "v2[9]: 15\n",
      "\n",
      "Interseção dos valores (sem duplicatas): \n",
      "[7, 2, 5, 4, 9]\n"
     ]
    }
   ],
   "source": [
    "# Leitura dos dois vetores\n",
    "v1 = [] \n",
    "v2 = [] \n",
    "\n",
    "print(\"Informe os 10 elementos do vetor 1:\")\n",
    "for i in range(10): \n",
    "    \n",
    "    num = int(input(f\"v1[{i}]: \")) \n",
    "    v1.append(num) \n",
    "    \n",
    "print(\"\\nInforme os 10 elementos do vetor 2:\")\n",
    "for i in range(10):\n",
    "    \n",
    "    num = int(input(f\"v2[{i}]: \"))\n",
    "    v2.append(num) \n",
    "    \n",
    "# Interseção sem repetições\n",
    "intersecao = [] \n",
    "\n",
    "for num in v1: \n",
    "    \n",
    "    if num in v2 and num not in intersecao: \n",
    "        \n",
    "        intersecao.append(num) \n",
    "        \n",
    "# Resultado \n",
    "print(\"\\nInterseção dos valores (sem duplicatas): \") \n",
    "print(intersecao)"
   ]
  },
  {
   "cell_type": "markdown",
   "id": "d9756c5f",
   "metadata": {},
   "source": [
    "#### 31. Faça um programa que leia dois vetores de 10 elementos."
   ]
  },
  {
   "cell_type": "markdown",
   "id": "003ca4ca",
   "metadata": {},
   "source": [
    "#### Crie um vetor que seja a união entre os 2 vetores anteriores, ou seja, que contenha todos os números dos dois vetores, sem repetições."
   ]
  },
  {
   "cell_type": "code",
   "execution_count": 6,
   "id": "6498befd",
   "metadata": {},
   "outputs": [
    {
     "name": "stdout",
     "output_type": "stream",
     "text": [
      "União dos vetores (sem duplicatas)\n",
      "[6, 12, 2, 9]\n"
     ]
    }
   ],
   "source": [
    "# Vetores de teste (você pode substituir por inputs se quiser) \n",
    "vet1 = [9, 2, 5, 6, 5]\n",
    "vet2 = [6, 12, 2, 9, 12]\n",
    "\n",
    "# União sem repetições \n",
    "uniao = [] \n",
    "\n",
    "# adiciona todos os elementos de vet1\n",
    "for num in vet2: \n",
    "    \n",
    "    if num not in uniao: \n",
    "        uniao.append(num) \n",
    "        \n",
    "# Resultado \n",
    "print(\"União dos vetores (sem duplicatas)\")\n",
    "print(uniao)"
   ]
  },
  {
   "cell_type": "markdown",
   "id": "662a8452",
   "metadata": {},
   "source": [
    "#### 32. Leia dois vetores de inteiros x e y, cada um com 5 elementos (assuma que o usuário não informa elementos repetidos). Calcule e mostre os vetores resultantes em cada caso abaixo: \n",
    "\n"
   ]
  },
  {
   "cell_type": "markdown",
   "id": "5bdafc0c",
   "metadata": {},
   "source": [
    "#### Soma entre x e y: soma de cada elemento de x com o elemento da mesma posição em y."
   ]
  },
  {
   "cell_type": "markdown",
   "id": "c18feb57",
   "metadata": {},
   "source": [
    "#### Produto entre x e y: multiplicação de cada elemento de x com o elemento da mesma posição em y."
   ]
  },
  {
   "cell_type": "markdown",
   "id": "be050075",
   "metadata": {},
   "source": [
    "#### Diferença entre x e y: todos os elementos de x que não existam em y."
   ]
  },
  {
   "cell_type": "markdown",
   "id": "d0ac2e3c",
   "metadata": {},
   "source": [
    "#### Interseção entre x e y: apenas os elementos que aparecem nos dois vetores."
   ]
  },
  {
   "cell_type": "markdown",
   "id": "9ebddd00",
   "metadata": {},
   "source": [
    "#### União entre x e y: todos os elementos de x e todos os elementos de y que não estão em x."
   ]
  },
  {
   "cell_type": "code",
   "execution_count": null,
   "id": "bf8f261d",
   "metadata": {},
   "outputs": [],
   "source": [
    "def soma_elementos(x,y): \n",
    "    \n",
    "    return [x[i] + y[i] for i in range(len(x))] \n",
    "\n",
    "def produto_elementos(x, y): \n",
    "    \n",
    "    return [x[i] * y[i] for i in range(len(x))]\n",
    "\n",
    "def diferenca(x, y):\n",
    "    \n",
    "    return [elem for elem in x if elem not in y] \n",
    "\n",
    "def intersecao(x, y): \n",
    "    \n",
    "    return list(set(x) & set(y))\n",
    "\n",
    "def uniao(x, y): \n",
    "    \n",
    "    return list(set(x) | set(y))\n",
    "\n",
    "# Dados de exemplo \n",
    "x = [9, 2, 5, 6, 5] \n",
    "y = [6, 12, 2, 9, 12]\n",
    "\n",
    "print(\"Soma elemento a elemento: \", soma_elementos(x, y)) \n",
    "print(\"Produto elemento a elemento: \", produto_elementos(x, y))\n",
    "print(\"Diferença(x - y): \", diferenca(x, y)) \n",
    "print(\"Interseção: \", intersecao(x, y)) \n",
    "print(\"União: \", uniao(x, y))"
   ]
  },
  {
   "cell_type": "markdown",
   "id": "08f73441",
   "metadata": {},
   "source": [
    "#### 33. Faça um programa que leia um vetor de 15 posições e o compacte, ou seja, elimine as posições com valor zero. Para isso, todos os elementos à frente do valor zero, devem ser movidos uma posição para trás no vetor.\n",
    "\n"
   ]
  },
  {
   "cell_type": "code",
   "execution_count": 7,
   "id": "eb58ae5f",
   "metadata": {},
   "outputs": [
    {
     "name": "stdout",
     "output_type": "stream",
     "text": [
      "Informe o 1º número do vetor: 1\n",
      "Informe o 2º número do vetor: 0\n",
      "Informe o 3º número do vetor: 2\n",
      "Informe o 4º número do vetor: 3\n",
      "Informe o 5º número do vetor: 4\n",
      "Informe o 6º número do vetor: 0\n",
      "Informe o 7º número do vetor: 5\n",
      "Informe o 8º número do vetor: 6\n",
      "Informe o 9º número do vetor: 0\n",
      "Informe o 10º número do vetor: 7\n",
      "Informe o 11º número do vetor: 8\n",
      "Informe o 12º número do vetor: 9\n",
      "Informe o 13º número do vetor: 0\n",
      "Informe o 14º número do vetor: 10\n",
      "Informe o 15º número do vetor: 14\n",
      "\n",
      "Vetor compactado (sem zeros): \n",
      "Posição 0 = 1\n",
      "Posição 1 = 2\n",
      "Posição 2 = 3\n",
      "Posição 3 = 4\n",
      "Posição 4 = 5\n",
      "Posição 5 = 6\n",
      "Posição 6 = 7\n",
      "Posição 7 = 8\n",
      "Posição 8 = 9\n",
      "Posição 9 = 10\n",
      "Posição 10 = 14\n"
     ]
    }
   ],
   "source": [
    "def compactar_vetor(vetor): \n",
    "    \n",
    "    # Remove todos os elementos com valor zero \n",
    "    return [num for num in vetor if num != 0] \n",
    "\n",
    "# Leitura do vetor com 15 posições\n",
    "vetor = [] \n",
    "for i in range(15): \n",
    "    \n",
    "    num = int(input(f\"Informe o {i + 1}º número do vetor: \"))\n",
    "    vetor.append(num)\n",
    "    \n",
    "# Competição \n",
    "vetor_compactado = compactar_vetor(vetor) \n",
    "\n",
    "# Exibição \n",
    "print(\"\\nVetor compactado (sem zeros): \") \n",
    "for i, valor in enumerate(vetor_compactado):\n",
    "    \n",
    "    print(f\"Posição {i} = {valor}\") "
   ]
  },
  {
   "cell_type": "markdown",
   "id": "697cde14",
   "metadata": {},
   "source": [
    "#### 34. Faça um programa que leia 10 números diferentes a serem armazenados em um vetor. Os dados deverão ser armazenados na ordem em que forem lidos.\n",
    "#### Note que, caso o usuário digite um número que já foi digitado anteriormente, o programa deverá pedir outro número."
   ]
  },
  {
   "cell_type": "markdown",
   "id": "b62f452c",
   "metadata": {},
   "source": [
    "#### Exiba, ao final, os 10 números digitados."
   ]
  },
  {
   "cell_type": "code",
   "execution_count": 8,
   "id": "ae1abbf3",
   "metadata": {},
   "outputs": [
    {
     "name": "stdout",
     "output_type": "stream",
     "text": [
      "Digite o 1º número: 45\n",
      "Digite o 2º número: 68\n",
      "Digite o 3º número: 123\n",
      "Digite o 4º número: 45\n",
      "Número já digitado. Digite  outro. \n",
      "Digite o 4º número: 12\n",
      "Digite o 5º número: 36\n",
      "Digite o 6º número: 78\n",
      "Digite o 7º número: 15\n",
      "Digite o 8º número: 63\n",
      "Digite o 9º número: 103\n",
      "Digite o 10º número: 75\n",
      "\n",
      " Números digitados (sem repetição): \n",
      "Número 0 = 45\n",
      "Número 1 = 68\n",
      "Número 2 = 123\n",
      "Número 3 = 12\n",
      "Número 4 = 36\n",
      "Número 5 = 78\n",
      "Número 6 = 15\n",
      "Número 7 = 63\n",
      "Número 8 = 103\n",
      "Número 9 = 75\n"
     ]
    }
   ],
   "source": [
    "numeros = [] \n",
    "\n",
    "while len(numeros) < 10: \n",
    "    \n",
    "    try: \n",
    "        \n",
    "        num = int(input(f\"Digite o {len(numeros) + 1}º número: \")) \n",
    "        \n",
    "        if num in numeros: \n",
    "            \n",
    "            print(\"Número já digitado. Digite  outro. \") \n",
    "            \n",
    "        else: \n",
    "            \n",
    "            numeros.append(num)\n",
    "            \n",
    "    except ValueError: \n",
    "        \n",
    "        print(\"Entrada inválida. Digite um número inteiro. \")\n",
    "        \n",
    "# Exibindo os números finais\n",
    "print(\"\\nNúmeros digitados (sem repetição): \") \n",
    "for i, valor in enumerate(numeros): \n",
    "    \n",
    "    print(f\"Número {i} = {valor}\")"
   ]
  },
  {
   "cell_type": "markdown",
   "id": "c3ca7c31",
   "metadata": {},
   "source": [
    "#### 35. Faça um programa que leia dois números a e b (positivos menores que 10000) e:"
   ]
  },
  {
   "cell_type": "markdown",
   "id": "7f83683d",
   "metadata": {},
   "source": [
    "#### Crie um vetor onde cada posição é um algarismo do número. A primeira posição é o algarismo menos significativo;"
   ]
  },
  {
   "cell_type": "markdown",
   "id": "f075baa3",
   "metadata": {},
   "source": [
    "#### Crie um vetor que seja a soma de a e b, mas faça-o usando apenas os vetores construídos anteriormente."
   ]
  },
  {
   "cell_type": "markdown",
   "id": "87154b50",
   "metadata": {},
   "source": [
    "#### Dica: some as posições correspondentes. Se a soma ultrapassar 10, subtraia 10 dela e some 1 à próxima posição"
   ]
  },
  {
   "cell_type": "code",
   "execution_count": 4,
   "id": "5f7ec069",
   "metadata": {},
   "outputs": [
    {
     "name": "stdout",
     "output_type": "stream",
     "text": [
      "Digite o número A (menor que 10000): 4567\n",
      "Digite o número B (menor que 10000): 1298\n",
      "\n",
      "Soma dos vetores (Algarismos)\n",
      "5865\n"
     ]
    }
   ],
   "source": [
    "def converter_para_algarismos(numero): \n",
    "    \n",
    "    algarismos = [0] * 4\n",
    "    \n",
    "    for i in range(4): \n",
    "        \n",
    "        algarismos[i] = numero % 10\n",
    "        numero //= 10\n",
    "    \n",
    "    return algarismos\n",
    "\n",
    "# Entrada dos números\n",
    "a = int(input(\"Digite o número A (menor que 10000): \"))\n",
    "b = int(input(\"Digite o número B (menor que 10000): \"))\n",
    "\n",
    "# Vetores de dígitos\n",
    "vet_a = converter_para_algarismos(a) \n",
    "vet_b = converter_para_algarismos(b)\n",
    "\n",
    "# Soma posição a posição com vai um (carry) \n",
    "resultado = [0] * 5\n",
    "carry = 0\n",
    "\n",
    "for i in range(4): \n",
    "    \n",
    "    soma = vet_a[i] + vet_b[i] + carry\n",
    "    resultado[i] = soma % 10\n",
    "    carry = soma // 10 \n",
    "    \n",
    "resultado[4] = carry # último vaiu um, se houver\n",
    "\n",
    "# Impressão do resultado (do mais significativo para o menos) \n",
    "print(\"\\nSoma dos vetores (Algarismos)\") \n",
    "resultado_formatado = ''.join(str(d) for d in reversed(resultado)).lstrip(\"0\")\n",
    "print(resultado_formatado if resultado_formatado else \"0\")"
   ]
  },
  {
   "cell_type": "markdown",
   "id": "c8fe6c1f",
   "metadata": {},
   "source": [
    "#### 36. Leia um vetor com 10 números reais, ordene os elementos deste vetor, e no final escreva os elementos do vetor ordenado.\n",
    "\n"
   ]
  },
  {
   "cell_type": "code",
   "execution_count": 5,
   "id": "695a3bc3",
   "metadata": {},
   "outputs": [
    {
     "name": "stdout",
     "output_type": "stream",
     "text": [
      "Informe o 1º número do vetor: 5.6\n",
      "Informe o 2º número do vetor: 6.2\n",
      "Informe o 3º número do vetor: 7.8\n",
      "Informe o 4º número do vetor: 1.9\n",
      "Informe o 5º número do vetor: 2.6\n",
      "Informe o 6º número do vetor: 3.7\n",
      "Informe o 7º número do vetor: 4.5\n",
      "Informe o 8º número do vetor: 7.8\n",
      "Informe o 9º número do vetor: 8.1\n",
      "Informe o 10º número do vetor: 9.2\n",
      "\n",
      " Vetor ordenado\n",
      "Valor ordenado 0: 1.90\n",
      "Valor ordenado 1: 2.60\n",
      "Valor ordenado 2: 3.70\n",
      "Valor ordenado 3: 4.50\n",
      "Valor ordenado 4: 5.60\n",
      "Valor ordenado 5: 6.20\n",
      "Valor ordenado 6: 7.80\n",
      "Valor ordenado 7: 7.80\n",
      "Valor ordenado 8: 8.10\n",
      "Valor ordenado 9: 9.20\n"
     ]
    }
   ],
   "source": [
    "### Leitura de 10 números reais\n",
    "numeros = [] \n",
    "\n",
    "for i in range(10): \n",
    "    \n",
    "    num = float(input(f\"Informe o {i + 1}º número do vetor: \"))\n",
    "    numeros.append(num) \n",
    "    \n",
    "# Ordenação (ordem crescente) \n",
    "for i in range(len(numeros)): \n",
    "    \n",
    "    for j in range(i + 1, len(numeros)): \n",
    "        \n",
    "        if numeros[i] > numeros[j]: \n",
    "            \n",
    "            numeros[i], numeros[j] = numeros[j], numeros[i] # troca \n",
    "            \n",
    "# Exibição dos valores ordenados \n",
    "print(\"\\n Vetor ordenado\") \n",
    "for i, valor in enumerate(numeros): \n",
    "    \n",
    "    print(f\"Valor ordenado {i}: {valor:.2f}\")"
   ]
  },
  {
   "cell_type": "markdown",
   "id": "296959a1",
   "metadata": {},
   "source": [
    "#### 37. Considere um vetor A com 11 elementos onde A₁ < A₂ < … < A₆ > A₇ > A₈ > … > A₁₁, ou seja, está ordenado em ordem crescente até o sexto elemento, e a partir desse elemento está ordenado em ordem decrescente."
   ]
  },
  {
   "cell_type": "markdown",
   "id": "6bca0cb2",
   "metadata": {},
   "source": [
    "#### Dado o vetor da questão anterior, proponha um algoritmo para ordenar os elementos."
   ]
  },
  {
   "cell_type": "code",
   "execution_count": 6,
   "id": "0666130f",
   "metadata": {},
   "outputs": [
    {
     "name": "stdout",
     "output_type": "stream",
     "text": [
      "Informe os 11 números (6 crescentes e 5 decrescentes): \n",
      "A[0] = 78\n",
      "\n",
      "Vetor ordenado: \n",
      "Posição 0 = 78\n",
      "A[1] = 7\n",
      "\n",
      "Vetor ordenado: \n",
      "Posição 0 = 78\n",
      "Posição 1 = 7\n",
      "A[2] = 8\n",
      "\n",
      "Vetor ordenado: \n",
      "Posição 0 = 78\n",
      "Posição 1 = 7\n",
      "Posição 2 = 8\n",
      "A[3] = 6\n",
      "\n",
      "Vetor ordenado: \n",
      "Posição 0 = 78\n",
      "Posição 1 = 7\n",
      "Posição 2 = 8\n",
      "Posição 3 = 6\n",
      "A[4] = 12\n",
      "\n",
      "Vetor ordenado: \n",
      "Posição 0 = 78\n",
      "Posição 1 = 7\n",
      "Posição 2 = 8\n",
      "Posição 3 = 6\n",
      "Posição 4 = 12\n",
      "A[5] = 56\n",
      "\n",
      "Vetor ordenado: \n",
      "Posição 0 = 78\n",
      "Posição 1 = 7\n",
      "Posição 2 = 8\n",
      "Posição 3 = 6\n",
      "Posição 4 = 12\n",
      "Posição 5 = 56\n",
      "A[6] = 78\n",
      "\n",
      "Vetor ordenado: \n",
      "Posição 0 = 78\n",
      "Posição 1 = 78\n",
      "Posição 2 = 7\n",
      "Posição 3 = 8\n",
      "Posição 4 = 6\n",
      "Posição 5 = 12\n",
      "Posição 6 = 56\n",
      "A[7] = 15\n",
      "\n",
      "Vetor ordenado: \n",
      "Posição 0 = 15\n",
      "Posição 1 = 78\n",
      "Posição 2 = 78\n",
      "Posição 3 = 7\n",
      "Posição 4 = 8\n",
      "Posição 5 = 6\n",
      "Posição 6 = 12\n",
      "Posição 7 = 56\n",
      "A[8] = 123\n",
      "\n",
      "Vetor ordenado: \n",
      "Posição 0 = 78\n",
      "Posição 1 = 7\n",
      "Posição 2 = 8\n",
      "Posição 3 = 6\n",
      "Posição 4 = 12\n",
      "Posição 5 = 56\n",
      "Posição 6 = 123\n",
      "Posição 7 = 15\n",
      "Posição 8 = 78\n",
      "A[9] = 78\n",
      "\n",
      "Vetor ordenado: \n",
      "Posição 0 = 78\n",
      "Posição 1 = 78\n",
      "Posição 2 = 7\n",
      "Posição 3 = 8\n",
      "Posição 4 = 6\n",
      "Posição 5 = 12\n",
      "Posição 6 = 56\n",
      "Posição 7 = 123\n",
      "Posição 8 = 15\n",
      "Posição 9 = 78\n",
      "A[10] = 69\n",
      "\n",
      "Vetor ordenado: \n",
      "Posição 0 = 69\n",
      "Posição 1 = 78\n",
      "Posição 2 = 78\n",
      "Posição 3 = 7\n",
      "Posição 4 = 8\n",
      "Posição 5 = 6\n",
      "Posição 6 = 12\n",
      "Posição 7 = 56\n",
      "Posição 8 = 123\n",
      "Posição 9 = 15\n",
      "Posição 10 = 78\n"
     ]
    }
   ],
   "source": [
    "def ordenar_vetor_37(): \n",
    "    \n",
    "    A = [] \n",
    "    \n",
    "    print(\"Informe os 11 números (6 crescentes e 5 decrescentes): \") \n",
    "    \n",
    "    for i in range(11): \n",
    "        \n",
    "        num = int(input(f\"A[{i}] = \"))\n",
    "        A.append(num) \n",
    "        \n",
    "        # Separar as partes\n",
    "        parte_crescente = A[:6] # primeiros 6 elementos\n",
    "        parte_decrescente = A[6:][::-1] # últimos 5 elementos invertidos\n",
    "        \n",
    "        # Merge das duas partes ordenadas\n",
    "        resultado = []\n",
    "        i = j = 0\n",
    "        \n",
    "        while i < len(parte_crescente) and  j < len(parte_decrescente):\n",
    "            \n",
    "            if parte_crescente[i] < parte_decrescente[j]: \n",
    "                \n",
    "                resultado.append(parte_crescente[i]) \n",
    "                \n",
    "                i += 1\n",
    "                \n",
    "            else: \n",
    "                \n",
    "                resultado.append(parte_decrescente[j]) \n",
    "                \n",
    "                j += 1\n",
    "                \n",
    "        # Adicionar o restante\n",
    "        resultado.extend(parte_crescente[i:]) \n",
    "        resultado.extend(parte_decrescente[j:])\n",
    "        \n",
    "        print(\"\\nVetor ordenado: \")\n",
    "        for idx, val in enumerate(resultado): \n",
    "            \n",
    "            print(f\"Posição {idx} = {val}\") \n",
    "            \n",
    "ordenar_vetor_37()"
   ]
  },
  {
   "cell_type": "markdown",
   "id": "a9285521",
   "metadata": {},
   "source": [
    "#### 38. Peça ao usuário para digitar dez valores numéricos e ordene por ordem crescente esses valores, guardando-os num vetor. Ordene o valor assim que ele for digitado. Mostre ao final na tela os valores em ordem."
   ]
  },
  {
   "cell_type": "code",
   "execution_count": 8,
   "id": "4479c0d0",
   "metadata": {},
   "outputs": [
    {
     "name": "stdout",
     "output_type": "stream",
     "text": [
      "Digite o 1º número: 5\n",
      "Digite o 2º número: 2\n",
      "Digite o 3º número: 7\n",
      "Digite o 4º número: 1\n",
      "Digite o 5º número: 4\n",
      "Digite o 6º número: 8\n",
      "Digite o 7º número: 3\n",
      "Digite o 8º número: 6\n",
      "Digite o 9º número: 10\n",
      "Digite o 10º número: 9\n",
      "\n",
      "Valores ordenados: \n",
      "Posição 0 = 1\n",
      "Posição 1 = 2\n",
      "Posição 2 = 3\n",
      "Posição 3 = 4\n",
      "Posição 4 = 5\n",
      "Posição 5 = 6\n",
      "Posição 6 = 7\n",
      "Posição 7 = 8\n",
      "Posição 8 = 9\n",
      "Posição 9 = 10\n"
     ]
    }
   ],
   "source": [
    "def ordenar_em_tempo_de_digitacao(): \n",
    "    \n",
    "    vetor = [] \n",
    "    \n",
    "    for i in range(10):\n",
    "        \n",
    "        valor = int(input(f\"Digite o {i + 1}º número: \"))\n",
    "        \n",
    "        # Inserir o número no lugar correto (mantendo ordenado)\n",
    "        pos = 0\n",
    "        \n",
    "        while pos < len(vetor) and vetor[pos] < valor: \n",
    "            \n",
    "            pos += 1\n",
    "            \n",
    "        vetor.insert(pos, valor) \n",
    "        \n",
    "    print(\"\\nValores ordenados: \")\n",
    "    for i, val in enumerate(vetor): \n",
    "        \n",
    "        print(f\"Posição {i} = {val}\")\n",
    "        \n",
    "ordenar_em_tempo_de_digitacao()"
   ]
  },
  {
   "cell_type": "markdown",
   "id": "5b92ca77",
   "metadata": {},
   "source": [
    "#### 39. Escreva um programa que leia um número inteiro positivo n em seguida ímprima n linhas do chamado Triângulo de pascal. "
   ]
  },
  {
   "cell_type": "markdown",
   "id": "16bf3706",
   "metadata": {},
   "source": [
    "#### 1  \n",
    "#### 1 1  \n",
    "#### 1 2 1  \n",
    "#### 1 3 3 1  \n",
    "#### 1 4 6 4 1  \n",
    "#### 1 5 10 10 5 1  "
   ]
  },
  {
   "cell_type": "code",
   "execution_count": null,
   "id": "713f7c96",
   "metadata": {},
   "outputs": [],
   "source": [
    "def triangulo_pascal(n): \n",
    "    \n",
    "    for i in range(n): \n",
    "        \n",
    "        numero = 1\n",
    "        \n",
    "        for j in range(i + 1):\n",
    "            \n",
    "            print(f\"{numero:4}\", end = \" \")\n",
    "            numero = numero * (i - j) // (j + 1) \n",
    "            \n",
    "        print()\n",
    "        \n",
    "triangulo_pascal"
   ]
  }
 ],
 "metadata": {
  "kernelspec": {
   "display_name": "Python 3 (ipykernel)",
   "language": "python",
   "name": "python3"
  },
  "language_info": {
   "codemirror_mode": {
    "name": "ipython",
    "version": 3
   },
   "file_extension": ".py",
   "mimetype": "text/x-python",
   "name": "python",
   "nbconvert_exporter": "python",
   "pygments_lexer": "ipython3",
   "version": "3.9.13"
  }
 },
 "nbformat": 4,
 "nbformat_minor": 5
}

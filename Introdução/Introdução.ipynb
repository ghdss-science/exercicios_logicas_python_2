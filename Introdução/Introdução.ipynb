{
 "cells": [
  {
   "cell_type": "markdown",
   "id": "cf84be88",
   "metadata": {},
   "source": [
    "### Exércicios de Python - Indrodução "
   ]
  },
  {
   "cell_type": "markdown",
   "id": "a0379540",
   "metadata": {},
   "source": [
    "### 1 - Faça um programa que leia um número inteiro e o imprima"
   ]
  },
  {
   "cell_type": "code",
   "execution_count": 1,
   "id": "1e788b03",
   "metadata": {},
   "outputs": [
    {
     "name": "stdout",
     "output_type": "stream",
     "text": [
      "Informe um número: 4\n",
      "O seu primeiro número foi:  4\n"
     ]
    }
   ],
   "source": [
    "n1 = int(input(\"Informe um número: \")) \n",
    "\n",
    "print(\"O seu primeiro número foi: \", n1)"
   ]
  },
  {
   "cell_type": "markdown",
   "id": "6005f3fa",
   "metadata": {},
   "source": [
    "### 2 - Faça um programa que leia um número real e o imprima "
   ]
  },
  {
   "cell_type": "code",
   "execution_count": 4,
   "id": "6613109d",
   "metadata": {},
   "outputs": [
    {
     "name": "stdout",
     "output_type": "stream",
     "text": [
      "Informe um número: 45.64\n",
      "O seu primeiro número foi:  45.64\n"
     ]
    }
   ],
   "source": [
    "n1 = float(input(\"Informe um número: \")) \n",
    "\n",
    "print(\"O seu primeiro número foi: \", n1)"
   ]
  },
  {
   "cell_type": "markdown",
   "id": "a7d041ce",
   "metadata": {},
   "source": [
    "### 3 - Peça para o usuário digitar três números, imprimir o número \n"
   ]
  },
  {
   "cell_type": "code",
   "execution_count": 5,
   "id": "98570271",
   "metadata": {},
   "outputs": [
    {
     "name": "stdout",
     "output_type": "stream",
     "text": [
      "Informe o 1 número: 6\n",
      "Informe o 2 número: 7\n",
      "Informe o 3 número: 8\n",
      "A soma dos números é:  21.0\n"
     ]
    }
   ],
   "source": [
    "n1 = float(input(\"Informe o 1 número: \")) \n",
    "n2 = float(input(\"Informe o 2 número: \")) \n",
    "n3 = float(input(\"Informe o 3 número: \")) \n",
    "\n",
    "soma = n1 + n2 + n3 \n",
    "\n",
    "print(\"A soma dos números é: \", soma)\n"
   ]
  },
  {
   "cell_type": "markdown",
   "id": "3b647bf1",
   "metadata": {},
   "source": [
    "### 4 - Leia um número real e imprima o resultado do quadrado desse número "
   ]
  },
  {
   "cell_type": "code",
   "execution_count": 9,
   "id": "d7024a91",
   "metadata": {},
   "outputs": [
    {
     "name": "stdout",
     "output_type": "stream",
     "text": [
      "Informe um número: 5.5\n",
      "O quadrado do número é:  30.25\n"
     ]
    }
   ],
   "source": [
    "import math \n",
    "\n",
    "n1 = float(input(\"Informe um número: \")) \n",
    "\n",
    "quadrado = math.pow(n1, 2) \n",
    "\n",
    "print(\"O quadrado do número é: \", quadrado)"
   ]
  },
  {
   "cell_type": "markdown",
   "id": "29959737",
   "metadata": {},
   "source": [
    "### 5 - Leia um número real e imprima a quinta parte deste número "
   ]
  },
  {
   "cell_type": "code",
   "execution_count": 13,
   "id": "bfbcd569",
   "metadata": {},
   "outputs": [
    {
     "name": "stdout",
     "output_type": "stream",
     "text": [
      "Informe um número: 45.43\n",
      "A quinta parte é:  9.086\n"
     ]
    }
   ],
   "source": [
    "n1 = float(input(\"Informe um número: \")) \n",
    "\n",
    "quintaParte = n1 / 5 \n",
    "\n",
    "print(\"A quinta parte é: \", quintaParte)"
   ]
  },
  {
   "cell_type": "markdown",
   "id": "6fee9203",
   "metadata": {},
   "source": [
    "###  6 -   Leia uma temperatura em graus Celsius e apresente-a convertida em graus Fahrenheit. A fórmula de conversão é: F = C * (9 / 5) + 32.0, sendo F a temperatura em Fahrenheit e C a temperatura em Celsius. "
   ]
  },
  {
   "cell_type": "code",
   "execution_count": 17,
   "id": "f82e7469",
   "metadata": {},
   "outputs": [
    {
     "name": "stdout",
     "output_type": "stream",
     "text": [
      "Informe o graus Celsius: 45.43\n",
      "Fahrenheit:  113.774\n"
     ]
    }
   ],
   "source": [
    "C = float(input(\"Informe o graus Celsius: \"))\n",
    "\n",
    "F = (C * (9 / 5) + 32) \n",
    "\n",
    "print(\"Fahrenheit: \", F)"
   ]
  },
  {
   "cell_type": "markdown",
   "id": "d1d1ca10",
   "metadata": {},
   "source": [
    "### 7 - Leia uma temperatura em graus Fahrenheit e apresente - a convertida em graus Celsius. A formula de conversão é C = 5.0 * (F - 32.0) / 9.0, sendo C a temperatura em Celsius e F em Fahrenheit."
   ]
  },
  {
   "cell_type": "code",
   "execution_count": 19,
   "id": "5c9e89b5",
   "metadata": {},
   "outputs": [
    {
     "name": "stdout",
     "output_type": "stream",
     "text": [
      "Informe o graus Fahrenheit: 46.5\n",
      "Celsius:  8.055555555555555\n"
     ]
    }
   ],
   "source": [
    "F = float(input(\"Informe o graus Fahrenheit: \")) \n",
    "\n",
    "C = (5.0 * (F - 32.0) / 9.0) \n",
    "\n",
    "print(\"Celsius: \", C)"
   ]
  },
  {
   "cell_type": "markdown",
   "id": "09d03989",
   "metadata": {},
   "source": [
    "### 8 - Leia uma temperatura em graus Kelvin e apresente a convertida em graus Celsius. A fórmula de conversão é: C = K - 273.15, sendo C a temperatura em Celsius e K a temperatura em kelvin. "
   ]
  },
  {
   "cell_type": "code",
   "execution_count": 2,
   "id": "083c4c90",
   "metadata": {},
   "outputs": [
    {
     "name": "stdout",
     "output_type": "stream",
     "text": [
      "Informe o graus em Kelvin: 89.34\n",
      "O valor de pi formatado é -183.81\n"
     ]
    }
   ],
   "source": [
    "K = float(input(\"Informe o graus em Kelvin: \")) \n",
    "C = K - 273.15 \n",
    "\n",
    "print('O valor é {:.2f}'.format(C))"
   ]
  },
  {
   "cell_type": "markdown",
   "id": "452f2920",
   "metadata": {},
   "source": [
    "### 9 - Leia uma temperatura em graus Celsius e apresente-a convertida em graus Kelvin. A formula de conversão é: K = C + 273.15, sendo C a temperatura em Celsius e K a temperatura em kelvin. "
   ]
  },
  {
   "cell_type": "code",
   "execution_count": 3,
   "id": "1f2d8940",
   "metadata": {},
   "outputs": [
    {
     "name": "stdout",
     "output_type": "stream",
     "text": [
      "Informe o graus em Celsius para Kelvin: 89.76\n",
      "O valor é 362.91\n"
     ]
    }
   ],
   "source": [
    "C = float(input(\"Informe o graus em Celsius para Kelvin: \")) \n",
    "K = C + 273.15 \n",
    "\n",
    "print('O valor é {:.2f}'.format(K))"
   ]
  },
  {
   "cell_type": "markdown",
   "id": "6d770cfe",
   "metadata": {},
   "source": [
    "### 10 - Leia uma velocidade em km / h (quilômetros por hora) e apresente a convertida em m/s. A formula de conversão é: M = K / 3.6, sendo K a velocidade em km/h e M em m/s "
   ]
  },
  {
   "cell_type": "code",
   "execution_count": 4,
   "id": "218046a0",
   "metadata": {},
   "outputs": [
    {
     "name": "stdout",
     "output_type": "stream",
     "text": [
      "Informe a velocidade em quilômetros por hora: 87.76\n",
      "A velocidade é de: 24.38\n"
     ]
    }
   ],
   "source": [
    "M = float(input(\"Informe a velocidade em quilômetros por hora: \")) \n",
    "K = M/ 3.6 \n",
    "\n",
    "print('A velocidade é de: {:.2f}'.format(K))"
   ]
  },
  {
   "cell_type": "markdown",
   "id": "048f4f5b",
   "metadata": {},
   "source": [
    "### 11 - Leia uma velocidade em m/s e apresente-a convertida em km/h. A formula de conversão é: K = M * 3,6, sendo K a velocidade em km/h e M em M/s. "
   ]
  },
  {
   "cell_type": "code",
   "execution_count": 6,
   "id": "aeba4c3b",
   "metadata": {},
   "outputs": [
    {
     "name": "stdout",
     "output_type": "stream",
     "text": [
      "Informe a velocidade em quilômetros por hora: 847.3\n",
      "A velocidade é de: 3050.28\n"
     ]
    }
   ],
   "source": [
    "M = float(input(\"Informe a velocidade em quilômetros por hora: \")) \n",
    "K = M * 3.6 \n",
    "\n",
    "print('A velocidade é de: {:.2f}'.format(K))"
   ]
  },
  {
   "cell_type": "markdown",
   "id": "dbdf4bb5",
   "metadata": {},
   "source": [
    "### 12 - Leia uma distância em milhas e apresente-a convertida em quilômetros. A fórmula de conversão é: K = 1.61 * M, sendo K a distância em quilômetros e M em milhas."
   ]
  },
  {
   "cell_type": "code",
   "execution_count": 7,
   "id": "1b632596",
   "metadata": {},
   "outputs": [
    {
     "name": "stdout",
     "output_type": "stream",
     "text": [
      "Informe a velocidade em quilômetros por hora: 93\n",
      "A velocidade é de: 149.73\n"
     ]
    }
   ],
   "source": [
    "M = float(input(\"Informe a velocidade em quilômetros por hora: \")) \n",
    "K = 1.61 * M\n",
    "\n",
    "print('A velocidade é de: {:.2f}'.format(K))"
   ]
  },
  {
   "cell_type": "markdown",
   "id": "2694e928",
   "metadata": {},
   "source": [
    "### 13 - Leia uma distância em quilômetros e apresente-a convertida em milhas. A fórmula de conversão é: M = K / 1.61, sendo K a distância em quilômetros e M em milhas "
   ]
  },
  {
   "cell_type": "code",
   "execution_count": 9,
   "id": "12284900",
   "metadata": {},
   "outputs": [
    {
     "name": "stdout",
     "output_type": "stream",
     "text": [
      "Informe a velocidade em quilômetros por hora: 321\n",
      "A velocidade é de: 0.01\n"
     ]
    }
   ],
   "source": [
    "M = float(input(\"Informe a velocidade em quilômetros por hora: \")) \n",
    "K = 1.61 / M\n",
    "\n",
    "print('A velocidade é de: {:.2f}'.format(K))"
   ]
  },
  {
   "cell_type": "markdown",
   "id": "622a18fa",
   "metadata": {},
   "source": [
    "### 14 - Leia um ângulo em graus e apresente-o convertido em radianos. A fórmula de conversão é: R = G * pi / 180, sendo G o ângulo em graus é R em radianos e pi = 3.14 "
   ]
  },
  {
   "cell_type": "code",
   "execution_count": 1,
   "id": "609d4594",
   "metadata": {},
   "outputs": [
    {
     "name": "stdout",
     "output_type": "stream",
     "text": [
      "Informe o ângulo em graus convertido em radianos: 45.32\n",
      "O ângulo em radianos é de: 0.79\n"
     ]
    }
   ],
   "source": [
    "pi = 3.14 \n",
    "G = float(input(\"Informe o ângulo em graus convertido em radianos: \")) \n",
    "R = G * 3.14 / 180 \n",
    "\n",
    "print('O ângulo em radianos é de: {:.2f}'.format(R))"
   ]
  },
  {
   "cell_type": "markdown",
   "id": "af48cd9e",
   "metadata": {},
   "source": [
    "### 15 - Leia um ângulo em radianos e apresente-o convertendo em graus. A fórmula de conversão é:  G = R * 180 / pi, sendo G o ângulo em graus e R em radianos e pi = 3.14 \n",
    "\n"
   ]
  },
  {
   "cell_type": "code",
   "execution_count": 2,
   "id": "a381df91",
   "metadata": {},
   "outputs": [
    {
     "name": "stdout",
     "output_type": "stream",
     "text": [
      "Informe o ângulo em radianos a ser convertido em graus: 2984\n",
      "O ângulo em graus é de: 171057.32\n"
     ]
    }
   ],
   "source": [
    "pi = 3.14 \n",
    "R = float(input(\"Informe o ângulo em radianos a ser convertido em graus: \")) \n",
    "G = R * 180 / pi \n",
    "\n",
    "print('O ângulo em graus é de: {:.2f}'.format(G))"
   ]
  },
  {
   "cell_type": "markdown",
   "id": "54b63ffd",
   "metadata": {},
   "source": [
    "### 16 - Leia um valor de comprimento em polegadas e apresente-o convertido em centimetros. A fórmula de conversão é: C = P * 2,54, sendo C o comprimento em centímetros e P o comprimento em polegadas."
   ]
  },
  {
   "cell_type": "code",
   "execution_count": 3,
   "id": "747c4d74",
   "metadata": {},
   "outputs": [
    {
     "name": "stdout",
     "output_type": "stream",
     "text": [
      "Informe um valor de comprimento em polegadas: 45.43\n",
      "A conversão em centimetros é: 115.39\n"
     ]
    }
   ],
   "source": [
    "P = float(input(\"Informe um valor de comprimento em polegadas: \")) \n",
    "C = P * 2.54\n",
    "\n",
    "print(\"A conversão em centimetros é: {:.2f}\".format(C))"
   ]
  },
  {
   "cell_type": "markdown",
   "id": "840c00fb",
   "metadata": {},
   "source": [
    "### 17 - Leia um valor de comprimento em centimetros e apresente-o convertido em polegadas. A fórmula de conversão é: P = C / 2.54, sendo C o comprimento em centímetros e P o comprimento em polegadas "
   ]
  },
  {
   "cell_type": "code",
   "execution_count": 4,
   "id": "8aeb48a9",
   "metadata": {},
   "outputs": [
    {
     "name": "stdout",
     "output_type": "stream",
     "text": [
      "Informe um valor de comprimento em centimetros: 934\n",
      "A conversão em polegadas é: 367.72\n"
     ]
    }
   ],
   "source": [
    "C = float(input(\"Informe um valor de comprimento em centimetros: \")) \n",
    "P = C / 2.54 \n",
    "\n",
    "print(\"A conversão em polegadas é: {:.2f}\".format(P))"
   ]
  },
  {
   "cell_type": "markdown",
   "id": "9d77d9d3",
   "metadata": {},
   "source": [
    "### 18 - Leia um valor de volume em metros cúbicos m3 e apresente-o convertido em litros. A fórmula de conversão é: L = 1000 * M, sendo L o volume em litros e M o volume em metros cúbicos \n",
    "\n"
   ]
  },
  {
   "cell_type": "code",
   "execution_count": 7,
   "id": "4cfa5988",
   "metadata": {},
   "outputs": [
    {
     "name": "stdout",
     "output_type": "stream",
     "text": [
      "Informe um valor em volume em metros cúbicos ?: 2.5\n",
      "A conversão em litros é: 2500.00\n"
     ]
    }
   ],
   "source": [
    "M3 = float(input(\"Informe um valor em volume em metros cúbicos ?: \")) \n",
    "L = 1000 * M3 \n",
    "\n",
    "print(\"A conversão em litros é: {:.2f}\".format(L))"
   ]
  },
  {
   "cell_type": "markdown",
   "id": "1ccb6c38",
   "metadata": {},
   "source": [
    "### 19 - Leia um valor de volume em litros e apresente-o convertido em metros cúbicos m3. A fórmula de conversão é: M = L / 1000, sendo L o volume em litros e M o volume em metros cúbicos. "
   ]
  },
  {
   "cell_type": "code",
   "execution_count": 10,
   "id": "2c5f9a76",
   "metadata": {},
   "outputs": [
    {
     "name": "stdout",
     "output_type": "stream",
     "text": [
      "Informe o valor do volume em litros ?: 2500\n",
      "A conversão em métros cúbicos é: 2.50\n"
     ]
    }
   ],
   "source": [
    "L = float(input(\"Informe o valor do volume em litros ?: \")) \n",
    "M = L / 1000 \n",
    "\n",
    "print(\"A conversão em métros cúbicos é: {:.2f}\".format(M))"
   ]
  },
  {
   "cell_type": "markdown",
   "id": "cad03caa",
   "metadata": {},
   "source": [
    "### 20 - Leia um valor de massa em quilogramas e apresente-o convertido em libras. A fórmula de conversão é: L = K / 0.45, sendo K a massa em quilogramas e L a massa em libras "
   ]
  },
  {
   "cell_type": "code",
   "execution_count": 1,
   "id": "191b4308",
   "metadata": {},
   "outputs": [
    {
     "name": "stdout",
     "output_type": "stream",
     "text": [
      "Informe o valor da massa em quilogramas ?: 2500\n",
      "A conversão em Libras é de: 1125.00\n"
     ]
    }
   ],
   "source": [
    "K = float(input(\"Informe o valor da massa em quilogramas ?: \")) \n",
    "L = K / 0.45 \n",
    "\n",
    "print(\"A conversão em Libras é de: {:.2f}\".format(L))"
   ]
  },
  {
   "cell_type": "markdown",
   "id": "a3c91524",
   "metadata": {},
   "source": [
    "### 21 - Leia um valor de massa em libras e apresente-o convertido em quilogramas. A fórmula de conversão é: K = L * 0.45, sendo K a massa em quilogramas e L a massa em libras. "
   ]
  },
  {
   "cell_type": "code",
   "execution_count": 3,
   "id": "bd8764c7",
   "metadata": {},
   "outputs": [
    {
     "name": "stdout",
     "output_type": "stream",
     "text": [
      "Informe o valor em libras ?2500\n",
      "A conversão em quilogramas é: 1125.00\n"
     ]
    }
   ],
   "source": [
    "L = float(input(\"Informe o valor em libras ?\")) \n",
    "K = L * 0.45 \n",
    "\n",
    "print(\"A conversão em quilogramas é: {:.2f}\".format(K))"
   ]
  },
  {
   "cell_type": "markdown",
   "id": "ec0eb2d7",
   "metadata": {},
   "source": [
    "### 22 - Leia um valor de comprimento em jardas e apresente-o convertido em metros. A fórmula de conversão é: M = 0.91 * J, sendo J o comprimento em jardas e M o comprimento em metros."
   ]
  },
  {
   "cell_type": "code",
   "execution_count": 5,
   "id": "898f66c7",
   "metadata": {},
   "outputs": [
    {
     "name": "stdout",
     "output_type": "stream",
     "text": [
      "Informe um valor em jardas ? : 2494\n",
      "A conversão em metros é: 2269.54\n"
     ]
    }
   ],
   "source": [
    "J = float(input(\"Informe um valor em jardas ? : \")) \n",
    "M = 0.91 * J \n",
    "\n",
    "print(\"A conversão em metros é: {:.2f}\".format(M))"
   ]
  },
  {
   "cell_type": "markdown",
   "id": "930b20b0",
   "metadata": {},
   "source": [
    "### 23 - Leia um valor de comprimento em metros e apresente-o convertido em jardas. A fórmula de conversão é: J = M / 0.91. Sendo J o comprimento em jardas e M o comprimento em metros. "
   ]
  },
  {
   "cell_type": "code",
   "execution_count": 7,
   "id": "7b74932b",
   "metadata": {},
   "outputs": [
    {
     "name": "stdout",
     "output_type": "stream",
     "text": [
      "Informe um valor em metros ?: 384.21\n",
      "A conversão em metros é de: 422.21\n"
     ]
    }
   ],
   "source": [
    "M = float(input(\"Informe um valor em metros ?: \")) \n",
    "J = M / 0.91 \n",
    "\n",
    "print(\"A conversão em metros é de: {:.2f}\".format(J))"
   ]
  },
  {
   "cell_type": "markdown",
   "id": "2a3b981d",
   "metadata": {},
   "source": [
    "### 24 - Leia um valor de área em metros quadrados m2 e apresente-o convertido em acres. A fórmula de conversão é: A = M * 0,000247, sendo M a área em metros quadrados e A a área em acres."
   ]
  },
  {
   "cell_type": "code",
   "execution_count": 8,
   "id": "bcff5454",
   "metadata": {},
   "outputs": [
    {
     "name": "stdout",
     "output_type": "stream",
     "text": [
      "Informe um valor de área em metros ?: 234.34\n",
      "A conversão em acres é de: 0.09\n"
     ]
    }
   ],
   "source": [
    "M2 = float(input(\"Informe um valor de área em metros ?: \")) \n",
    "A = M * 0.000247 \n",
    "\n",
    "print(\"A conversão em acres é de: {:.2f}\".format(A))"
   ]
  },
  {
   "cell_type": "markdown",
   "id": "3b9502df",
   "metadata": {},
   "source": [
    "### 25 - Leia um valor de área em acres e apresente-o convertido em metros quadrados m2. A fórmula de conversão é: M = A * 4048.58, sendo M a área em metros quadrados e A a área em acres."
   ]
  },
  {
   "cell_type": "code",
   "execution_count": 9,
   "id": "b16fd223",
   "metadata": {},
   "outputs": [
    {
     "name": "stdout",
     "output_type": "stream",
     "text": [
      "Informe um valor em acres ?: 394.23\n",
      "A conversão em metros é de: 1596071.69\n"
     ]
    }
   ],
   "source": [
    "A = float(input(\"Informe um valor em acres ?: \")) \n",
    "M = A * 4048.58 \n",
    "\n",
    "print(\"A conversão em metros é de: {:.2f}\".format(M))"
   ]
  },
  {
   "cell_type": "markdown",
   "id": "dd76cdf7",
   "metadata": {},
   "source": [
    "### 26 - Leia um valor de área em metros quadrados m2 e apresente-o convertido em hectares. A fórmula de conversão é: H = M * 0,0001, sendo M a área em metros quadrados e H a área em hectares "
   ]
  },
  {
   "cell_type": "code",
   "execution_count": 1,
   "id": "2f0cb076",
   "metadata": {},
   "outputs": [
    {
     "name": "stdout",
     "output_type": "stream",
     "text": [
      "Informe um valor da área em metros quadrados: 434\n",
      "A àrea em hectares é de: 0.04\n"
     ]
    }
   ],
   "source": [
    "M2 = float(input(\"Informe um valor da área em metros quadrados: \")) \n",
    "H = M2 * 0.0001 \n",
    "\n",
    "print(\"A àrea em hectares é de: {:.2f}\".format(H))"
   ]
  },
  {
   "cell_type": "markdown",
   "id": "3ded1760",
   "metadata": {},
   "source": [
    "### 27 - Leia um valor de área em hectares e apresente-o convertido em metros quadrados m². A fórmula de conversão é: M = H × 10.000, sendo M a área em metros quadrados e H a área em hectares."
   ]
  },
  {
   "cell_type": "code",
   "execution_count": 2,
   "id": "35fb2b21",
   "metadata": {},
   "outputs": [
    {
     "name": "stdout",
     "output_type": "stream",
     "text": [
      "Informe um valor em hectares: 456.32\n",
      "A área em metros quadrados é: 4563.20\n"
     ]
    }
   ],
   "source": [
    "H = float(input(\"Informe um valor em hectares: \")) \n",
    "\n",
    "M = H * 10.000\n",
    "\n",
    "print(\"A área em metros quadrados é: {:.2f}\".format(M))"
   ]
  },
  {
   "cell_type": "markdown",
   "id": "0524dcee",
   "metadata": {},
   "source": [
    "### 28 - Leia a altura de três valores e apresente como resultado a soma dos quadrados dos três valores."
   ]
  },
  {
   "cell_type": "code",
   "execution_count": 4,
   "id": "22d6c59a",
   "metadata": {},
   "outputs": [
    {
     "name": "stdout",
     "output_type": "stream",
     "text": [
      "Informe o número 1: 34\n",
      "Informe o número 2: 32\n",
      "Informe o número 3: 53\n",
      "A soma dos quadrados: 4989.00\n"
     ]
    }
   ],
   "source": [
    "import math\n",
    "\n",
    "na1 = float(input(\"Informe o número 1: \")) \n",
    "na2 = float(input(\"Informe o número 2: \")) \n",
    "na3 = float(input(\"Informe o número 3: \")) \n",
    "\n",
    "soma = math.pow(na1, 2) + math.pow(na2, 2) + math.pow(na3,2) \n",
    "\n",
    "print(\"A soma dos quadrados: {:.2f}\".format(soma))"
   ]
  },
  {
   "cell_type": "markdown",
   "id": "9fdd0144",
   "metadata": {},
   "source": [
    "### 29 - Leia quatro notas, calcule e exiba a média aritmética e imprima o resultado."
   ]
  },
  {
   "cell_type": "code",
   "execution_count": 7,
   "id": "e5eed588",
   "metadata": {},
   "outputs": [
    {
     "name": "stdout",
     "output_type": "stream",
     "text": [
      "Informe o número 1: 9\n",
      "Informe o número 2: 9\n",
      "Informe o número 3: 9\n",
      "Informe o número 4: 9\n",
      "A média é: 9.00\n"
     ]
    }
   ],
   "source": [
    "n1 = float(input(\"Informe o número 1: \")) \n",
    "n2 = float(input(\"Informe o número 2: \")) \n",
    "n3 = float(input(\"Informe o número 3: \")) \n",
    "n4 = float(input(\"Informe o número 4: \")) \n",
    "\n",
    "resultado = (n1 + n2 + n3 + n4) / 4\n",
    "\n",
    "print(\"A média é: {:.2f}\".format(resultado))"
   ]
  },
  {
   "cell_type": "markdown",
   "id": "82ac4e0b",
   "metadata": {},
   "source": [
    "### 30 - Leia o valor de um produto em dólar. Em seguida, imprima o valor correspondente em reais."
   ]
  },
  {
   "cell_type": "code",
   "execution_count": 9,
   "id": "05a9572e",
   "metadata": {},
   "outputs": [
    {
     "name": "stdout",
     "output_type": "stream",
     "text": [
      "Informe um número em dolar: 100\n",
      "Informe a taxa de câmbio em real: 5.16\n",
      "516.0\n"
     ]
    }
   ],
   "source": [
    "dolar = float(input(\"Informe um número em dolar: \")) \n",
    "real = float(input(\"Informe a taxa de câmbio em real: \")) \n",
    "\n",
    "conversao = dolar * real \n",
    "\n",
    "print(conversao)"
   ]
  },
  {
   "cell_type": "markdown",
   "id": "659d5833",
   "metadata": {},
   "source": [
    "### 31 - Leia um número inteiro e imprima o seu antecessor e o seu sucessor "
   ]
  },
  {
   "cell_type": "code",
   "execution_count": 11,
   "id": "7dcfe81e",
   "metadata": {},
   "outputs": [
    {
     "name": "stdout",
     "output_type": "stream",
     "text": [
      "Informe um número: 10\n",
      "antecessor:  9\n",
      "sucessor:  11\n"
     ]
    }
   ],
   "source": [
    "n1 = int(input(\"Informe um número: \")) \n",
    "\n",
    "antecessor = n1 - 1 \n",
    "sucessor = n1 + 1 \n",
    "\n",
    "print(\"antecessor: \", antecessor) \n",
    "print(\"sucessor: \", sucessor)"
   ]
  },
  {
   "cell_type": "markdown",
   "id": "292a66cd",
   "metadata": {},
   "source": [
    "### 32 - Leia um número inteiro e imprima a soma do sucessor de seu triplo com o antecessor de seu dobro\n"
   ]
  },
  {
   "cell_type": "code",
   "execution_count": 13,
   "id": "e038be40",
   "metadata": {},
   "outputs": [
    {
     "name": "stdout",
     "output_type": "stream",
     "text": [
      "Informe um número: 6\n",
      "Sucessor do triplo: 19\n",
      "Antecessor do dobro: 11\n",
      "Resultado da soma: 30\n"
     ]
    }
   ],
   "source": [
    "# Leia um número inteiro\n",
    "n1 = int(input(\"Informe um número: \"))\n",
    "\n",
    "# Calcule o sucessor do triplo do número\n",
    "sucessor_triplo = 3 * n1 + 1\n",
    "\n",
    "# Calcule o antecessor do dobro do número\n",
    "antecessor_dobro = 2 * n1 - 1\n",
    "\n",
    "# Calcule a soma\n",
    "resultado = sucessor_triplo + antecessor_dobro\n",
    "\n",
    "# Exiba os resultados\n",
    "print(\"Sucessor do triplo:\", sucessor_triplo)\n",
    "print(\"Antecessor do dobro:\", antecessor_dobro)\n",
    "print(\"Resultado da soma:\", resultado)"
   ]
  },
  {
   "cell_type": "markdown",
   "id": "1f0d7440",
   "metadata": {},
   "source": [
    "### 33 - Leia o tamanho do lado de um quadrado e imprima como resultado a sua área "
   ]
  },
  {
   "cell_type": "code",
   "execution_count": 14,
   "id": "c42c6a0f",
   "metadata": {},
   "outputs": [
    {
     "name": "stdout",
     "output_type": "stream",
     "text": [
      "Informe o tamanho do lado do quadrado: 5\n",
      "Número de lados é: 25.00\n"
     ]
    }
   ],
   "source": [
    "l = float(input(\"Informe o tamanho do lado do quadrado: \")) \n",
    "a = l * l \n",
    "\n",
    "print(\"Número de lados é: {:.2f}\".format(a))"
   ]
  },
  {
   "cell_type": "markdown",
   "id": "c0ce0eb4",
   "metadata": {},
   "source": [
    "### 34. Leia o valor do raio de um círculo e calcule e imprima a área do círculo correspondente. A área do círculo é π×raio 2, considere 𝜋 = 3.141592"
   ]
  },
  {
   "cell_type": "code",
   "execution_count": 5,
   "id": "c867da7c",
   "metadata": {},
   "outputs": [
    {
     "name": "stdout",
     "output_type": "stream",
     "text": [
      "Informe o raio de um círculo: 4\n",
      "A área do círculo é: 50.24\n"
     ]
    }
   ],
   "source": [
    "import math\n",
    "\n",
    "raio = float(input(\"Informe o raio de um círculo: \")) \n",
    "\n",
    "pi = 3.14\n",
    "\n",
    "area = pi * math.pow(raio,2) \n",
    "\n",
    "print(\"A área do círculo é: {:.2f}\".format(area)) "
   ]
  },
  {
   "cell_type": "markdown",
   "id": "6d7e0014",
   "metadata": {},
   "source": [
    "### 35. Sejam a e b os catetos de um triângulo, onde a hipotenusa é obtida pela equação: hipotenusa = Raiz quadrada de a2 + b2, Faça um programa que receba os valores de a, b e calcule o valor da hipotenusa através da equação. Imprima o resultado dessa operação."
   ]
  },
  {
   "cell_type": "code",
   "execution_count": 1,
   "id": "447f8349",
   "metadata": {},
   "outputs": [
    {
     "name": "stdout",
     "output_type": "stream",
     "text": [
      "Informe o valor de A: 5\n",
      "Informe o valor de B: 5\n",
      "O valor da hipotenusa: 7.07\n"
     ]
    }
   ],
   "source": [
    "import math\n",
    "\n",
    "a = float(input(\"Informe o valor de A: \")) \n",
    "b = float(input(\"Informe o valor de B: \")) \n",
    "\n",
    "hipotenusa = math.sqrt(math.pow(a, 2) + math.pow(b, 2)) \n",
    "\n",
    "print(\"O valor da hipotenusa: {:.2f}\".format(hipotenusa))"
   ]
  },
  {
   "cell_type": "markdown",
   "id": "be4105ca",
   "metadata": {},
   "source": [
    "### 36. Leia a altura e o raio de um cilindro circular e imprima o volume do cilindro. O volume de um cilindro circular é calculado por meio da seguinte fórmula: V = pi * raio2 * altura, onde pi = 3.14\n"
   ]
  },
  {
   "cell_type": "code",
   "execution_count": 3,
   "id": "562db3b8",
   "metadata": {},
   "outputs": [
    {
     "name": "stdout",
     "output_type": "stream",
     "text": [
      "Informe a altura: 1.80\n",
      "Informe o raio: 43\n",
      "Volume de um cilíndro: 10450.55\n"
     ]
    }
   ],
   "source": [
    "import math\n",
    "\n",
    "altura = float(input(\"Informe a altura: \")) \n",
    "raio = float(input(\"Informe o raio: \")) \n",
    "\n",
    "pi = 3.14\n",
    "\n",
    "volume = pi * math.pow(raio, 2) * altura \n",
    "\n",
    "print(\"Volume de um cilíndro: {:.2f}\".format(volume))"
   ]
  },
  {
   "cell_type": "markdown",
   "id": "2e0e780c",
   "metadata": {},
   "source": [
    "### 37. Faça um programa que leia o valor de um produto e imprima o valor com desconto, tendo em vista que o desconto foi de 12%."
   ]
  },
  {
   "cell_type": "code",
   "execution_count": 4,
   "id": "5e064c02",
   "metadata": {},
   "outputs": [
    {
     "name": "stdout",
     "output_type": "stream",
     "text": [
      "Informe o valor do produto: 34.53\n",
      "Valor do desconto: 4.14\n",
      "Valor final do produto: 30.39\n"
     ]
    }
   ],
   "source": [
    "valor_produto = float(input(\"Informe o valor do produto: \")) \n",
    "\n",
    "desconto = valor_produto * 0.12\n",
    "valor_final = valor_produto - desconto \n",
    "\n",
    "print(\"Valor do desconto: {:.2f}\".format(desconto)) \n",
    "print(\"Valor final do produto: {:.2f}\".format(valor_final))"
   ]
  },
  {
   "cell_type": "markdown",
   "id": "480fd114",
   "metadata": {},
   "source": [
    "### 38. Leia o salário de um funcionário e imprima o valor do novo salário, sabendo que ele recebeu um aumento de 25%."
   ]
  },
  {
   "cell_type": "code",
   "execution_count": 5,
   "id": "e190a80b",
   "metadata": {},
   "outputs": [
    {
     "name": "stdout",
     "output_type": "stream",
     "text": [
      "Informe o seu salário: 850\n",
      "O novo salário do funcionário é de: 1062.50\n"
     ]
    }
   ],
   "source": [
    "salario = float(input(\"Informe o seu salário: \")) \n",
    "\n",
    "novo_salario = salario + (salario * 25) / 100 \n",
    "\n",
    "print(\"O novo salário do funcionário é de: {:.2f}\".format(novo_salario))"
   ]
  },
  {
   "cell_type": "markdown",
   "id": "c374f878",
   "metadata": {},
   "source": [
    "### 39. Uma quantia de RS 78.000,00 será dividida entre três ganhadores de um concurso. Sendo que o primeiro ganhador receberá 46% do total, o segundo receberá 32% do total e o terceiro ficará com o restante. Faça um programa que calcule e imprima o valor que cada um dos ganhadores receberá. "
   ]
  },
  {
   "cell_type": "code",
   "execution_count": 6,
   "id": "241aafca",
   "metadata": {},
   "outputs": [
    {
     "name": "stdout",
     "output_type": "stream",
     "text": [
      "Ganhador 1: 35880.00\n",
      "Ganhador 2: 24960.00\n",
      "Ganhador 3: 10920.00\n"
     ]
    }
   ],
   "source": [
    "valor = 78000.00 \n",
    "\n",
    "ganhador_1 = valor * 0.46 \n",
    "ganhador_2 = valor * 0.32\n",
    "ganhador_3 = valor * 0.14 \n",
    "\n",
    "print(\"Ganhador 1: {:.2f}\".format(ganhador_1)) \n",
    "print(\"Ganhador 2: {:.2f}\".format(ganhador_2)) \n",
    "print(\"Ganhador 3: {:.2f}\".format(ganhador_3)) "
   ]
  },
  {
   "cell_type": "markdown",
   "id": "30c1c02d",
   "metadata": {},
   "source": [
    "### 40. Faça um programa que calcule o salário líquido de um encanador, sabendo que ele trabalha por dia e recebe RS 30,00 por dia trabalhado. Além disso, o encanador deve pagar 8% de impostos sobre o valor bruto recebido. O programa deve ler o número de dias trabalhados e imprimir o valor líquido a ser pago."
   ]
  },
  {
   "cell_type": "code",
   "execution_count": 8,
   "id": "3ab2ea7b",
   "metadata": {},
   "outputs": [
    {
     "name": "stdout",
     "output_type": "stream",
     "text": [
      "Informe os dias trabalhados do encanador: 10\n",
      "Quantia líquida a receber: R$ 276.00\n"
     ]
    }
   ],
   "source": [
    "dias_trabalhados = int(input(\"Informe os dias trabalhados do encanador: \"))\n",
    "\n",
    "dinheiro_dia = 30.00\n",
    "\n",
    "pagamento_bruto = dinheiro_dia * dias_trabalhados \n",
    "\n",
    "pagamento_liquido = pagamento_bruto - (pagamento_bruto * 0.08) \n",
    "\n",
    "print(\"Quantia líquida a receber: R$ {:.2f}\".format(pagamento_liquido))"
   ]
  },
  {
   "cell_type": "markdown",
   "id": "c8577da1",
   "metadata": {},
   "source": [
    "### 41. Faça um programa que receba o valor pago por hora de trabalho e o número de horas trabalhadas no mês. Calcule e mostre o valor total a ser pago ao funcionário."
   ]
  },
  {
   "cell_type": "code",
   "execution_count": 4,
   "id": "40776534",
   "metadata": {},
   "outputs": [
    {
     "name": "stdout",
     "output_type": "stream",
     "text": [
      "Informe o valor de horas trabalhadas em R$: 20\n",
      "Informe o número de horas trabaalhadas no mês: 160\n",
      "Valor a ser pago é de: R$ 3200.00\n"
     ]
    }
   ],
   "source": [
    "valor_hora_trabalhada = float(input(\"Informe o valor de horas trabalhadas em R$: \")) \n",
    "\n",
    "numero_hora_trabalhada = float(input(\"Informe o número de horas trabaalhadas no mês: \"))\n",
    "\n",
    "valor_pago = valor_hora_trabalhada * numero_hora_trabalhada \n",
    "\n",
    "print(\"Valor a ser pago é de: R$ {:.2f}\".format(valor_pago))"
   ]
  },
  {
   "cell_type": "markdown",
   "id": "96caafec",
   "metadata": {},
   "source": [
    "### 42. Receba o salário-base de um funcionário. Calcule e imprima o salário a receber, sabendo-se que esse funcionário tem uma gratificação de 5% sobre o salário-base. Além disso, ele paga 7% de imposto sobre o salário-base."
   ]
  },
  {
   "cell_type": "code",
   "execution_count": 6,
   "id": "bffbfd03",
   "metadata": {},
   "outputs": [
    {
     "name": "stdout",
     "output_type": "stream",
     "text": [
      "Informe o salário base de um funcionário: 1000\n",
      "Salário a receber é de: 980.00\n"
     ]
    }
   ],
   "source": [
    "salario = float(input(\"Informe o salário base de um funcionário: \")) \n",
    "\n",
    "salario_receber = salario + (salario * 0.05) - (salario * 0.07) \n",
    "\n",
    "print(\"Salário a receber é de: {:.2f}\".format(salario_receber))"
   ]
  },
  {
   "cell_type": "markdown",
   "id": "cf8b2ff8",
   "metadata": {},
   "source": [
    "### 43. Escreva um programa que divulga para vendedores. A partir de um valor total lido, mostre: "
   ]
  },
  {
   "cell_type": "markdown",
   "id": "dba35947",
   "metadata": {},
   "source": [
    "*** \n",
    "    \n",
    " - o total a pagar com desconto de 10%;\n",
    " - o valor de cada parcela, no parcelamento de 3x sem juros;\n",
    " - a comissão do vendedor, no caso da venda ser à vista (5% sobre o valor com desconto);\n",
    " - a comissão do vendedor, no caso da venda ser parcelada (5% sobre o valor total).\n",
    " \n",
    "***"
   ]
  },
  {
   "cell_type": "code",
   "execution_count": 9,
   "id": "1db4495c",
   "metadata": {},
   "outputs": [
    {
     "name": "stdout",
     "output_type": "stream",
     "text": [
      "Informe um valor: 900\n",
      "Total a pagar: 810.00\n",
      "O valor das parcelas: 300.00\n",
      "A comissão a vista: 40.50\n",
      "A comissão parcelada: 45.00\n"
     ]
    }
   ],
   "source": [
    "desconto = 0.10 \n",
    "valor = float(input(\"Informe um valor: \")) \n",
    "\n",
    "total = valor - (valor * desconto) \n",
    "parcela = valor / 3\n",
    "comissao_a_vista = total * 0.05 \n",
    "comissao_parcelada = valor * 0.05 \n",
    "\n",
    "print(\"Total a pagar: {:.2f}\".format(total))\n",
    "print(\"O valor das parcelas: {:.2f}\".format(parcela)) \n",
    "print(\"A comissão a vista: {:.2f}\".format(comissao_a_vista)) \n",
    "print(\"A comissão parcelada: {:.2f}\".format(comissao_parcelada))"
   ]
  },
  {
   "cell_type": "markdown",
   "id": "efb85c9d",
   "metadata": {},
   "source": [
    "### 44. Receba a altura de um degrau de uma escada e a altura que o usuário deseja alcançar subindo a escada. Calcule e mostre quantos degraus o usuário deverá subir para atingir seu objetivo."
   ]
  },
  {
   "cell_type": "code",
   "execution_count": 1,
   "id": "93b0c8a6",
   "metadata": {},
   "outputs": [
    {
     "name": "stdout",
     "output_type": "stream",
     "text": [
      "Informe a altura do degrau de uma escada: 0.20\n",
      "Informe a altura que deseja alcançar (em metros): 3.0\n",
      "A quantidade de degraus necessário para atingir o objetivo é: 15.00\n"
     ]
    }
   ],
   "source": [
    "import math\n",
    "\n",
    "altura_degraus = float(input(\"Informe a altura do degrau de uma escada: \")) \n",
    "altura_alcancada = float(input(\"Informe a altura que deseja alcançar (em metros): \")) \n",
    "\n",
    "quant_degraus = math.ceil(altura_alcancada / altura_degraus)\n",
    "print(\"A quantidade de degraus necessário para atingir o objetivo é: {:.2f}\".format(quant_degraus))"
   ]
  },
  {
   "cell_type": "markdown",
   "id": "e6afa686",
   "metadata": {},
   "source": [
    "### 45. Receba uma frase do usuário. Converta todos os caracteres dessa frase para letras minúsculas e exiba o resultado."
   ]
  },
  {
   "cell_type": "code",
   "execution_count": 2,
   "id": "1ee838c9",
   "metadata": {},
   "outputs": [
    {
     "name": "stdout",
     "output_type": "stream",
     "text": [
      "Informe uma frase: Ola, como você esta ?\n",
      "A frase vai ser: ola, como você esta ?\n"
     ]
    }
   ],
   "source": [
    "frase = input(\"Informe uma frase: \") \n",
    "\n",
    "frase_min = frase.lower() \n",
    "\n",
    "print(f\"A frase vai ser: {frase_min}\") "
   ]
  },
  {
   "cell_type": "markdown",
   "id": "ce27d9ea",
   "metadata": {},
   "source": [
    "### 46. Escreva um programa que receba um número inteiro positivo do usuário, inverta a ordem dos seus dígitos e exiba o número invertido na tela."
   ]
  },
  {
   "cell_type": "code",
   "execution_count": 9,
   "id": "e457e2a7",
   "metadata": {},
   "outputs": [
    {
     "name": "stdout",
     "output_type": "stream",
     "text": [
      "Informe um número: 123\n",
      "O número invertido é: 321\n"
     ]
    }
   ],
   "source": [
    "numero = int(input(\"Informe um número: \")) \n",
    "\n",
    "i = 0\n",
    "\n",
    "while numero > 0: \n",
    "    \n",
    "    i *= 10 \n",
    "    i += (numero % 10) \n",
    "    numero //= 10\n",
    "    \n",
    "print(f\"O número invertido é: {i}\")"
   ]
  },
  {
   "cell_type": "markdown",
   "id": "7c421d7f",
   "metadata": {},
   "source": [
    "### 47. Escreva um programa que receba um número inteiro positivo do usuário e exiba todos os números inteiros de 0 até o número informado (excluindo o próprio número), lado a lado. Caso o usuário informe um número negativo ou zero, o programa deve exibir uma mensagem de erro."
   ]
  },
  {
   "cell_type": "code",
   "execution_count": 13,
   "id": "f6bd8fe5",
   "metadata": {},
   "outputs": [
    {
     "name": "stdout",
     "output_type": "stream",
     "text": [
      "Informe um número inteiro positivo: 9\n",
      "Números de 0 até: 8 : \n",
      "0 1 2 3 4 5 6 7 8 "
     ]
    }
   ],
   "source": [
    "numero = int(input(\"Informe um número inteiro positivo: \")) \n",
    "\n",
    "if(numero > 0): \n",
    "    \n",
    "    print(f\"Números de 0 até: {numero - 1}\" \" : \")\n",
    "    \n",
    "    for i in range(numero): \n",
    "        \n",
    "        print(i, end = \" \")\n",
    "        \n",
    "else:\n",
    "    \n",
    "    print(\"Por favor, insira um número inteiro positivo. \")"
   ]
  },
  {
   "cell_type": "markdown",
   "id": "3d8f4fc4",
   "metadata": {},
   "source": [
    "### 48. Escreva um programa que receba um valor em segundos e converta este valor para horas, minutos e segundos, exibindo no formato \"Horas: Minutos: Segundos\"."
   ]
  },
  {
   "cell_type": "code",
   "execution_count": 15,
   "id": "7bece610",
   "metadata": {},
   "outputs": [
    {
     "name": "stdout",
     "output_type": "stream",
     "text": [
      "Informe os segundos: 3661\n",
      "Horas: 1, Minutos: 1, Segundos: 1\n"
     ]
    }
   ],
   "source": [
    "segundos = int(input(\"Informe os segundos: \")) \n",
    "\n",
    "horas = segundos // 3600\n",
    "resto = segundos % 3600 \n",
    "minutos = resto // 60 \n",
    "segundos = resto % 60 \n",
    "\n",
    "print(f\"Horas: {horas}, Minutos: {minutos}, Segundos: {segundos}\")"
   ]
  },
  {
   "cell_type": "markdown",
   "id": "d5443901",
   "metadata": {},
   "source": [
    "### 49. Faça um programa para ler o horário (hora, minuto e segundo) de inicio e a duração, em segundos, de uma experiência biológica. O programa deve resultar com o novo horário (hora, minuto e segundo) do termino da mesma. "
   ]
  },
  {
   "cell_type": "code",
   "execution_count": 3,
   "id": "7cb7aa88",
   "metadata": {},
   "outputs": [
    {
     "name": "stdout",
     "output_type": "stream",
     "text": [
      "Informe a hora: 15\n",
      "Informe os minutos: 32\n",
      "Informe os segundos: 40\n",
      "Informe a duração da experiência em segundos: 1230\n",
      "Novo horário: 15:53:10\n"
     ]
    }
   ],
   "source": [
    "horas = int(input(\"Informe a hora: \")) \n",
    "minutos = int(input(\"Informe os minutos: \")) \n",
    "segundos = int(input(\"Informe os segundos: \")) \n",
    "\n",
    "duracao = int(input(\"Informe a duração da experiência em segundos: \")) \n",
    "\n",
    "totalSegundos = (horas * 3600) + (minutos * 60) + segundos + duracao \n",
    "\n",
    "horas = (totalSegundos / 3600) % 24 \n",
    "\n",
    "minutos = (totalSegundos % 3600) / 60 \n",
    "\n",
    "segundos = totalSegundos % 60 \n",
    "\n",
    "# Imprime o resultado no formato correto\n",
    "print(f\"Novo horário: {int(horas):02d}:{int(minutos):02d}:{int(segundos):02d}\")"
   ]
  },
  {
   "cell_type": "markdown",
   "id": "3b1390cf",
   "metadata": {},
   "source": [
    "### 50. Escreva um programa que receba a sua idade e o ano atual, e calcule o seu ano de nascimento, exibindo-o na tela. "
   ]
  },
  {
   "cell_type": "code",
   "execution_count": 18,
   "id": "9c173a54",
   "metadata": {},
   "outputs": [
    {
     "name": "stdout",
     "output_type": "stream",
     "text": [
      "Informe a sua idade: 25\n",
      "Informe o ano atual: 2024\n",
      "Seu nascimento é de: 1999\n"
     ]
    }
   ],
   "source": [
    "idade = int(input(\"Informe a sua idade: \")) \n",
    "\n",
    "ano_atual = int(input(\"Informe o ano atual: \")) \n",
    "\n",
    "nascimento = ano_atual - idade \n",
    "\n",
    "print(f\"Seu nascimento é de: {nascimento}\")"
   ]
  },
  {
   "cell_type": "markdown",
   "id": "a8e0ebf0",
   "metadata": {},
   "source": [
    "### 51. Escreva um programa que leia as coordenadas x e y de pontos no R² e calcule sua distância da origem (0, 0)."
   ]
  },
  {
   "cell_type": "code",
   "execution_count": 19,
   "id": "5d3e01ec",
   "metadata": {},
   "outputs": [
    {
     "name": "stdout",
     "output_type": "stream",
     "text": [
      "Informe a coordenada de x1: 3\n",
      "Informe a coordenada de y1: 4\n",
      "Informe a coordenada de x2: 7\n",
      "Informe a coordenada de y2: 1\n",
      "A distância entre os pontos é: 5.00\n"
     ]
    }
   ],
   "source": [
    "import math\n",
    "\n",
    "x1 = float(input(\"Informe a coordenada de x1: \")) \n",
    "y1 = float(input(\"Informe a coordenada de y1: \")) \n",
    "\n",
    "x2 = float(input(\"Informe a coordenada de x2: \")) \n",
    "y2 = float(input(\"Informe a coordenada de y2: \")) \n",
    "\n",
    "distancia = math.sqrt(math.pow(x2 - x1, 2) + math.pow(y2 - y1, 2))\n",
    "\n",
    "print(\"A distância entre os pontos é: {:.2f}\".format(distancia))"
   ]
  },
  {
   "cell_type": "markdown",
   "id": "57893820",
   "metadata": {},
   "source": [
    "### 52. Três amigos jogaram na loteria. Caso eles ganhem, o prêmio deve ser repartido proporcionalmente ao valor que cada deu para a realização da aposta. Faça um programa que leia quanto cada apostador investiu, o valor do prêmio, e imprima quanto cada um ganharia do prêmio com base no valor investido."
   ]
  },
  {
   "cell_type": "code",
   "execution_count": 1,
   "id": "a840e89d",
   "metadata": {},
   "outputs": [
    {
     "name": "stdout",
     "output_type": "stream",
     "text": [
      "Informe o nome do Primeiro investidor: João\n",
      "Informe o nome do Segundo investidor: Maria\n",
      "Informe o nome do Terceiro investidor: Pedro\n",
      "Informe o primeiro valor: 1000\n",
      "Informe o segundo valor: 2000\n",
      "Informe o terceiro valor: 1500\n",
      "Premiação do Apostador 1: João é de: 20.0\n",
      "Premiação do Apostador 2: Maria é de: 40.0\n",
      "Premiação do Apostador 3: Pedro é de: 30.0\n"
     ]
    }
   ],
   "source": [
    "apostador_1 = input(\"Informe o nome do Primeiro investidor: \") \n",
    "apostador_2 = input(\"Informe o nome do Segundo investidor: \") \n",
    "apostador_3 = input(\"Informe o nome do Terceiro investidor: \") \n",
    "\n",
    "valor_1 = float(input(\"Informe o primeiro valor: \")) \n",
    "valor_2 = float(input(\"Informe o segundo valor: \"))\n",
    "valor_3 = float(input(\"Informe o terceiro valor: \")) \n",
    "\n",
    "valor_premio1 = valor_1 * 0.02 \n",
    "valor_premio2 = valor_2 * 0.02 \n",
    "valor_premio3 = valor_3 * 0.02 \n",
    "\n",
    "print(f\"Premiação do Apostador 1: {apostador_1} é de: {valor_premio1}\")\n",
    "print(f\"Premiação do Apostador 2: {apostador_2} é de: {valor_premio2}\")\n",
    "print(f\"Premiação do Apostador 3: {apostador_3} é de: {valor_premio3}\")"
   ]
  },
  {
   "cell_type": "markdown",
   "id": "f31599a5",
   "metadata": {},
   "source": [
    "### 53. Faça um programa para ler as dimensões de um terreno (comprimento c e largura l), bem como o preço do metro de tela p. Imprima o custo para cercar este mesmo terreno com tela."
   ]
  },
  {
   "cell_type": "code",
   "execution_count": 3,
   "id": "04e9654e",
   "metadata": {},
   "outputs": [
    {
     "name": "stdout",
     "output_type": "stream",
     "text": [
      "Informe o comprimento do terreno: 10\n",
      "Informe a largura do terreno: 5\n",
      "Informe o preço do metro da tela: 3\n",
      "O custo para cercar o terreno é: 90.00\n"
     ]
    }
   ],
   "source": [
    "comprimento = float(input(\"Informe o comprimento do terreno: \")) \n",
    "largura = float(input(\"Informe a largura do terreno: \")) \n",
    "preco = float(input(\"Informe o preço do metro da tela: \")) \n",
    "\n",
    "## Calcular o perímetro \n",
    "perimetro = 2 * (comprimento + largura) \n",
    "\n",
    "## Calcular o custo para cercar o terreno \n",
    "custo = perimetro * preco \n",
    "\n",
    "print(\"O custo para cercar o terreno é: {:.2f}\".format(custo))"
   ]
  }
 ],
 "metadata": {
  "kernelspec": {
   "display_name": "Python 3 (ipykernel)",
   "language": "python",
   "name": "python3"
  },
  "language_info": {
   "codemirror_mode": {
    "name": "ipython",
    "version": 3
   },
   "file_extension": ".py",
   "mimetype": "text/x-python",
   "name": "python",
   "nbconvert_exporter": "python",
   "pygments_lexer": "ipython3",
   "version": "3.9.13"
  }
 },
 "nbformat": 4,
 "nbformat_minor": 5
}
